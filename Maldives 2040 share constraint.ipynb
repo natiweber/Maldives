{
 "cells": [
  {
   "cell_type": "code",
   "execution_count": 1,
   "metadata": {},
   "outputs": [],
   "source": [
    "import pandas as pd\n",
    "import ixmp\n",
    "import message_ix\n",
    "\n",
    "from message_ix.utils import make_df\n",
    "\n",
    "%matplotlib inline"
   ]
  },
  {
   "cell_type": "code",
   "execution_count": 2,
   "metadata": {},
   "outputs": [],
   "source": [
    "mp = ixmp.Platform()"
   ]
  },
  {
   "cell_type": "code",
   "execution_count": 3,
   "metadata": {},
   "outputs": [],
   "source": [
    "model = 'Maldives energy model'\n",
    "base = message_ix.Scenario(mp, model=model, scenario='baseline')\n",
    "scen = base.clone(model, 'share_constraint', 'illustration of share-constraint formulation', keep_solution=False)\n",
    "scen.check_out()"
   ]
  },
  {
   "cell_type": "code",
   "execution_count": 4,
   "metadata": {},
   "outputs": [],
   "source": [
    "year_df = scen.vintage_and_active_years()\n",
    "vintage_years, act_years = year_df['year_vtg'], year_df['year_act']\n",
    "model_horizon = scen.set('year')\n",
    "country = 'Maldives'"
   ]
  },
  {
   "cell_type": "markdown",
   "metadata": {},
   "source": [
    "### Step 1: Defining a new 'share' "
   ]
  },
  {
   "cell_type": "code",
   "execution_count": 14,
   "metadata": {},
   "outputs": [],
   "source": [
    "scen.add_set?"
   ]
  },
  {
   "cell_type": "code",
   "execution_count": 5,
   "metadata": {},
   "outputs": [],
   "source": [
    "shares = ['share_electricity', 'share_cooling', 'share_freshwater']\n",
    "scen.add_set('shares', shares)"
   ]
  },
  {
   "cell_type": "markdown",
   "metadata": {},
   "source": [
    "### Step 2: Defining electricity, cooling and freshwater technologies that make up the total\n",
    "\n",
    "Define which technologies contribute to total electricity generation at the final energy level.\n",
    "\n",
    "Define which technologies contribute to total electricity use at the useful energy level."
   ]
  },
  {
   "cell_type": "code",
   "execution_count": 6,
   "metadata": {},
   "outputs": [],
   "source": [
    "type_tec = 'electricity_total'\n",
    "scen.add_cat('technology', type_tec, ['oil_ppl','solar_pv_ppl', 'battery_ppl'])\n",
    "#scen.add_cat('technology', type_tec, 'solar_pv_ppl')\n",
    "#scen.add_cat('technology', type_tec, 'battery_ppl')\n",
    "\n",
    "type_tec = 'cooling_total'\n",
    "scen.add_cat('technology', type_tec, ['ac', 'swac', 'dscd'])\n",
    "#scen.add_cat('technology', type_tec, 'swac')\n",
    "#scen.add_cat('technology', type_tec, 'dscd')\n",
    "\n",
    "type_tec = 'freshwater_total'\n",
    "scen.add_cat('technology', type_tec, ['ro_pl', 'dscd'])\n",
    "#scen.add_cat('technology', type_tec, 'dscd')"
   ]
  },
  {
   "cell_type": "code",
   "execution_count": 7,
   "metadata": {
    "scrolled": true
   },
   "outputs": [
    {
     "data": {
      "text/plain": [
       "['shares', 'node_share', 'node', 'type_tec', 'mode', 'commodity', 'level']"
      ]
     },
     "execution_count": 7,
     "metadata": {},
     "output_type": "execute_result"
    }
   ],
   "source": [
    "scen.idx_names('map_shares_commodity_total')"
   ]
  },
  {
   "cell_type": "code",
   "execution_count": 8,
   "metadata": {},
   "outputs": [
    {
     "data": {
      "text/plain": [
       "['share_electricity', 'share_cooling', 'share_freshwater']"
      ]
     },
     "execution_count": 8,
     "metadata": {},
     "output_type": "execute_result"
    }
   ],
   "source": [
    "shares"
   ]
  },
  {
   "cell_type": "code",
   "execution_count": 9,
   "metadata": {},
   "outputs": [],
   "source": [
    "df = pd.DataFrame({'shares': ['share_electricity'],\n",
    "                   'node_share': country,\n",
    "                   'node': country,\n",
    "                   'type_tec': type_tec,\n",
    "                   'mode': 'standard',\n",
    "                   'commodity': 'electricity',\n",
    "                   'level': 'final',\n",
    "})\n",
    "scen.add_set('map_shares_commodity_total', df)\n",
    "\n",
    "df = pd.DataFrame({'shares': ['share_cooling'],\n",
    "                   'node_share': country,\n",
    "                   'node': country,\n",
    "                   'type_tec': type_tec,\n",
    "                   'mode': 'standard',\n",
    "                   'commodity': 'cooling',\n",
    "                   'level': 'final',\n",
    "})\n",
    "scen.add_set('map_shares_commodity_total', df)\n",
    "\n",
    "df = pd.DataFrame({'shares': ['share_freshwater'],\n",
    "                   'node_share': country,\n",
    "                   'node': country,\n",
    "                   'type_tec': type_tec,\n",
    "                   'mode': 'standard',\n",
    "                   'commodity': 'freshwater',\n",
    "                   'level': 'final',\n",
    "})\n",
    "scen.add_set('map_shares_commodity_total', df)"
   ]
  },
  {
   "cell_type": "markdown",
   "metadata": {},
   "source": [
    "### Step 3: Defining technologies of share"
   ]
  },
  {
   "cell_type": "code",
   "execution_count": 10,
   "metadata": {
    "scrolled": true
   },
   "outputs": [
    {
     "data": {
      "text/plain": [
       "['shares', 'node_share', 'node', 'type_tec', 'mode', 'commodity', 'level']"
      ]
     },
     "execution_count": 10,
     "metadata": {},
     "output_type": "execute_result"
    }
   ],
   "source": [
    "scen.idx_names('map_shares_commodity_share')"
   ]
  },
  {
   "cell_type": "code",
   "execution_count": 32,
   "metadata": {},
   "outputs": [],
   "source": [
    "scen.add_cat?"
   ]
  },
  {
   "cell_type": "code",
   "execution_count": 11,
   "metadata": {},
   "outputs": [],
   "source": [
    "#Electricity\n",
    "type_tec = 'electricity_renewable'\n",
    "scen.add_cat('technology', type_tec, ['solar_pv_ppl', 'battery_ppl'])\n",
    "df = pd.DataFrame({'shares': ['share_electricity'],\n",
    "                   'node_share': country,\n",
    "                   'node': country,\n",
    "                   'type_tec': type_tec,\n",
    "                   'mode': 'standard',\n",
    "                   'commodity': 'electricity',\n",
    "                   'level': 'final',\n",
    "})\n",
    "scen.add_set('map_shares_commodity_share', df)"
   ]
  },
  {
   "cell_type": "code",
   "execution_count": 12,
   "metadata": {},
   "outputs": [],
   "source": [
    "#cooling\n",
    "\n",
    "type_tec = 'cooling'\n",
    "scen.add_cat('technology', type_tec, ['ac', 'swac', 'dscd'])\n",
    "df = pd.DataFrame({'shares': ['share_cooling'],\n",
    "                   'node_share': country,\n",
    "                   'node': country,\n",
    "                   'type_tec': type_tec,\n",
    "                   'mode': 'standard',\n",
    "                   'commodity': 'cooling',\n",
    "                   'level': 'useful',\n",
    "})\n",
    "scen.add_set('map_shares_commodity_share', df)"
   ]
  },
  {
   "cell_type": "code",
   "execution_count": 13,
   "metadata": {},
   "outputs": [],
   "source": [
    "#freshwater\n",
    "\n",
    "type_tec = 'freshwater_ro'\n",
    "scen.add_cat('technology', type_tec, ['ro_pl', 'dscd'])\n",
    "df = pd.DataFrame({'shares': ['share_freshwater'],\n",
    "                   'node_share': country,\n",
    "                   'node': country,\n",
    "                   'type_tec': type_tec,\n",
    "                   'mode': 'standard',\n",
    "                   'commodity': 'freshwater',\n",
    "                   'level': 'useful',\n",
    "})\n",
    "\n",
    "scen.add_set('map_shares_commodity_share', df)"
   ]
  },
  {
   "cell_type": "markdown",
   "metadata": {},
   "source": [
    "### Step 4: Defining the share"
   ]
  },
  {
   "cell_type": "code",
   "execution_count": 14,
   "metadata": {},
   "outputs": [],
   "source": [
    "# Adding data to the parameter\n",
    "\n",
    "elec_share = {\n",
    "    'shares': ['share_electricity'],\n",
    "    'node_share': country,\n",
    "    'year_act': [2040],\n",
    "    'time': 'year',\n",
    "    'unit': '-'\n",
    "}\n",
    "\n",
    "shares_factor = {\n",
    "    'solar_pv_ppl': 0.7,\n",
    "    'battery_ppl': 0.3   \n",
    "}\n",
    "\n",
    "\n",
    "for tec, val in shares_factor.items():\n",
    "    df = make_df(elec_share, technology=tec, value=val)\n",
    "    scen.add_par('share_commodity_lo', df)"
   ]
  },
  {
   "cell_type": "code",
   "execution_count": 15,
   "metadata": {},
   "outputs": [],
   "source": [
    "# Adding data to the parameter\n",
    "\n",
    "cool_share = {\n",
    "    'shares': ['share_cooling'],\n",
    "    'node_share': country,\n",
    "    'year_act': [2040],\n",
    "    'time': 'year',\n",
    "    'unit': '-'\n",
    "}\n",
    "\n",
    "shares_factor = {\n",
    "    'ac': 0.5,\n",
    "    'swac': 0.3, \n",
    "    'dscd': 0.2,  \n",
    "}\n",
    "\n",
    "\n",
    "for tec, val in shares_factor.items():\n",
    "    df = make_df(cool_share, technology=tec, value=val)\n",
    "    scen.add_par('share_commodity_lo', df)"
   ]
  },
  {
   "cell_type": "code",
   "execution_count": 16,
   "metadata": {},
   "outputs": [],
   "source": [
    "fresh_share = {\n",
    "    'shares': ['share_freshwater'],\n",
    "    'node_share': country,\n",
    "    'year_act': [2040],\n",
    "    'time': 'year',\n",
    "    'unit': '-'\n",
    "}\n",
    "\n",
    "shares_factor = {\n",
    "    'ro_pl': 0.3,\n",
    "    'dscd': 0.7   \n",
    "}\n",
    "\n",
    "\n",
    "for tec, val in shares_factor.items():\n",
    "    df = make_df(fresh_share, technology=tec, value=val)\n",
    "    scen.add_par('share_commodity_lo', df)"
   ]
  },
  {
   "cell_type": "code",
   "execution_count": 17,
   "metadata": {},
   "outputs": [],
   "source": [
    "scen.commit(comment='define parameters for minimum renewable share constraint')\n",
    "scen.set_as_default()"
   ]
  },
  {
   "cell_type": "code",
   "execution_count": 18,
   "metadata": {},
   "outputs": [],
   "source": [
    "scen.solve()"
   ]
  },
  {
   "cell_type": "code",
   "execution_count": 19,
   "metadata": {},
   "outputs": [
    {
     "data": {
      "text/plain": [
       "1542000128.0"
      ]
     },
     "execution_count": 19,
     "metadata": {},
     "output_type": "execute_result"
    }
   ],
   "source": [
    "scen.var('OBJ')['lvl']"
   ]
  },
  {
   "cell_type": "code",
   "execution_count": 20,
   "metadata": {},
   "outputs": [
    {
     "data": {
      "application/javascript": [
       "IPython.OutputArea.prototype._should_scroll = function(lines) { return false; }"
      ],
      "text/plain": [
       "<IPython.core.display.Javascript object>"
      ]
     },
     "metadata": {},
     "output_type": "display_data"
    }
   ],
   "source": [
    "from ixmp.reporting import configure\n",
    "from message_ix.reporting import Reporter\n",
    "import os\n",
    "import matplotlib.pyplot as plt\n",
    "configure(units={'replace': {'-': 'MWa'}})"
   ]
  },
  {
   "cell_type": "code",
   "execution_count": 21,
   "metadata": {},
   "outputs": [],
   "source": [
    "rep = Reporter.from_scenario(scen)\n",
    "plotyrs = [x for x in set(scen.set('year')) if x >= scen.firstmodelyear]"
   ]
  },
  {
   "cell_type": "code",
   "execution_count": 22,
   "metadata": {},
   "outputs": [
    {
     "data": {
      "text/plain": [
       "nl        t             ya    c            l    \n",
       "Maldives  battery_ppl   2025  electricity  final         0.000000\n",
       "                        2030  electricity  final         0.000000\n",
       "                        2035  electricity  final         0.000000\n",
       "                        2040  electricity  final         0.000000\n",
       "          oil_ppl       2025  electricity  final    325509.419355\n",
       "                        2030  electricity  final    325509.419355\n",
       "                        2035  electricity  final    325509.419355\n",
       "                        2040  electricity  final    325509.419355\n",
       "          solar_pv_ppl  2025  electricity  final    168000.000000\n",
       "                        2030  electricity  final    213150.000000\n",
       "                        2035  electricity  final    235200.000000\n",
       "                        2040  electricity  final    242550.000000\n",
       "dtype: float64"
      ]
     },
     "execution_count": 22,
     "metadata": {},
     "output_type": "execute_result"
    }
   ],
   "source": [
    "rep.set_filters(c = 'electricity')\n",
    "elec = rep.full_key('out')\n",
    "elec = elec.drop('yv','m','nd','hd','h')\n",
    "elec_gen = rep.get(elec)\n",
    "elec_gen"
   ]
  },
  {
   "cell_type": "code",
   "execution_count": 23,
   "metadata": {},
   "outputs": [
    {
     "data": {
      "text/plain": [
       "nl        t     ya    c        l     \n",
       "Maldives  ac    2025  cooling  useful    444150.0\n",
       "                2030  cooling  useful    484785.0\n",
       "                2035  cooling  useful    504630.0\n",
       "                2040  cooling  useful    511245.0\n",
       "          dscd  2025  cooling  useful         0.0\n",
       "                2030  cooling  useful         0.0\n",
       "                2035  cooling  useful         0.0\n",
       "                2040  cooling  useful         0.0\n",
       "          swac  2025  cooling  useful         0.0\n",
       "                2030  cooling  useful         0.0\n",
       "                2035  cooling  useful         0.0\n",
       "                2040  cooling  useful         0.0\n",
       "dtype: float64"
      ]
     },
     "execution_count": 23,
     "metadata": {},
     "output_type": "execute_result"
    }
   ],
   "source": [
    "rep.set_filters(c = 'cooling')\n",
    "cool = rep.full_key('out')\n",
    "cool = cool.drop('yv','m','nd','hd','h')\n",
    "cool_gen = rep.get(cool)\n",
    "cool_gen"
   ]
  },
  {
   "cell_type": "code",
   "execution_count": 24,
   "metadata": {},
   "outputs": [
    {
     "data": {
      "text/plain": [
       "nl        t      ya    c           l     \n",
       "Maldives  dscd   2025  freshwater  useful           0.0\n",
       "                 2030  freshwater  useful           0.0\n",
       "                 2035  freshwater  useful           0.0\n",
       "                 2040  freshwater  useful           0.0\n",
       "          ro_pl  2025  freshwater  useful    29200000.0\n",
       "                 2030  freshwater  useful    29200000.0\n",
       "                 2035  freshwater  useful    29200000.0\n",
       "                 2040  freshwater  useful    29200000.0\n",
       "dtype: float64"
      ]
     },
     "execution_count": 24,
     "metadata": {},
     "output_type": "execute_result"
    }
   ],
   "source": [
    "rep.set_filters(c = 'freshwater')\n",
    "wat = rep.full_key('out')\n",
    "wat = elec.drop('yv','m','nd','hd','h')\n",
    "wat_gen = rep.get(wat)\n",
    "wat_gen"
   ]
  },
  {
   "cell_type": "code",
   "execution_count": 25,
   "metadata": {},
   "outputs": [],
   "source": [
    "mp.close_db()"
   ]
  },
  {
   "cell_type": "code",
   "execution_count": null,
   "metadata": {},
   "outputs": [],
   "source": []
  }
 ],
 "metadata": {
  "kernelspec": {
   "display_name": "Python 3",
   "language": "python",
   "name": "python3"
  },
  "language_info": {
   "codemirror_mode": {
    "name": "ipython",
    "version": 3
   },
   "file_extension": ".py",
   "mimetype": "text/x-python",
   "name": "python",
   "nbconvert_exporter": "python",
   "pygments_lexer": "ipython3",
   "version": "3.8.5"
  }
 },
 "nbformat": 4,
 "nbformat_minor": 4
}
