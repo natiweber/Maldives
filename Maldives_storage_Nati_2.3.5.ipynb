{
 "cells": [
  {
   "cell_type": "markdown",
   "metadata": {},
   "source": [
    "## Adding sub-annual time slices and storage\n",
    "This script adds seasonality and storage to Maldives model/scenario\n",
    "For more information on seasonality, please refer to [this tutorial](<https://github.com/iiasa/message_ix/blob/master/tutorial/westeros/westeros_seasonality.ipynb>)"
   ]
  },
  {
   "cell_type": "code",
   "execution_count": 1,
   "metadata": {},
   "outputs": [
    {
     "data": {
      "application/javascript": [
       "IPython.OutputArea.prototype._should_scroll = function(lines) { return false; }"
      ],
      "text/plain": [
       "<IPython.core.display.Javascript object>"
      ]
     },
     "metadata": {},
     "output_type": "display_data"
    }
   ],
   "source": [
    "# Importing required packages\n",
    "import itertools\n",
    "import pandas as pd\n",
    "\n",
    "import matplotlib.pyplot as plt\n",
    "%matplotlib inline\n",
    "plt.style.use('ggplot')\n",
    "\n",
    "import ixmp\n",
    "import message_ix\n",
    "\n",
    "from message_ix.utils import make_df"
   ]
  },
  {
   "cell_type": "code",
   "execution_count": 2,
   "metadata": {},
   "outputs": [],
   "source": [
    "mp = ixmp.Platform()"
   ]
  },
  {
   "cell_type": "code",
   "execution_count": 3,
   "metadata": {},
   "outputs": [],
   "source": [
    "# Loading a baseline scenario\n",
    "model = \"Maldives energy model\"\n",
    "base = message_ix.Scenario(mp, model=model, scenario='baseline')\n",
    "\n",
    "# Cloning to a new scenario for editing\n",
    "scen = base.clone(model, 'time-slice', \n",
    "                  keep_solution=False)\n",
    "\n",
    "# Checking out the scenario for editing\n",
    "scen.check_out()"
   ]
  },
  {
   "cell_type": "code",
   "execution_count": 4,
   "metadata": {},
   "outputs": [],
   "source": [
    "scen.init_var(\"STORAGE\", idx_sets = ['node', 'technology', 'level', 'commodity', 'year', 'time'])\n",
    "scen.init_var(\"STORAGE_CHARGE\", idx_sets = ['node', 'technology', 'level', 'commodity', 'year', 'time'])\n",
    "scen.init_var(\"STORAGE_INIT\", idx_sets = ['node', 'technology', 'level', 'commodity', 'year', 'time'])"
   ]
  },
  {
   "cell_type": "markdown",
   "metadata": {},
   "source": [
    "### 1. Representing sub-annual time slices\n",
    "#### 1.1. Modifying sets"
   ]
  },
  {
   "cell_type": "code",
   "execution_count": 5,
   "metadata": {
    "scrolled": true
   },
   "outputs": [],
   "source": [
    "# Adding sub-annual time steps\n",
    "time_steps = ['day', 'night']\n",
    "scen.add_set('time', time_steps)"
   ]
  },
  {
   "cell_type": "code",
   "execution_count": 6,
   "metadata": {},
   "outputs": [],
   "source": [
    "# Defining a new temporal level\n",
    "time_level = 'daylight'\n",
    "scen.add_set('lvl_temporal', time_level)\n",
    "\n",
    "# Adding temporal hierarchy\n",
    "for t in time_steps:\n",
    "    scen.add_set('map_temporal_hierarchy', [time_level, t, 'year'])"
   ]
  },
  {
   "cell_type": "markdown",
   "metadata": {},
   "source": [
    "#### 1.2 Modifying parameters"
   ]
  },
  {
   "cell_type": "code",
   "execution_count": 7,
   "metadata": {},
   "outputs": [],
   "source": [
    "# Adding duration time\n",
    "for t in time_steps:\n",
    "    scen.add_par('duration_time', [t], 1/len(time_steps), '-')"
   ]
  },
  {
   "cell_type": "markdown",
   "metadata": {},
   "source": [
    "We define a function for manupulating the data of parameters for each sub-annual time slice. This is used for changing demand, input/output, var_cost, etc."
   ]
  },
  {
   "cell_type": "code",
   "execution_count": 8,
   "metadata": {},
   "outputs": [],
   "source": [
    "# A function for adding sub-annual data to a parameter\n",
    "def yearly_to_season(scen, parameter, data, filters=None):\n",
    "    if filters:\n",
    "        old = scen.par(parameter, filters)\n",
    "    else:\n",
    "        old = scen.par(parameter)\n",
    "    scen.remove_par(parameter, old)\n",
    "    \n",
    "    # Finding \"time\" related indexes and updating the data\n",
    "    time_idx = [x for x in scen.idx_names(parameter) if 'time' in x]\n",
    "    for h in data.keys():\n",
    "        new = old.copy()\n",
    "        for time in time_idx:\n",
    "            new[time] = h\n",
    "        new['value'] = data[h] * old['value']\n",
    "        scen.add_par(parameter, new)"
   ]
  },
  {
   "cell_type": "code",
   "execution_count": 9,
   "metadata": {},
   "outputs": [],
   "source": [
    "# Modifying demand for each time slice\n",
    "# Electricity demand\n",
    "demand_data = {'day': 0.4, 'night': 0.60}\n",
    "filters = {'commodity': 'electricity'}\n",
    "yearly_to_season(scen, 'demand', demand_data) #added =None\n",
    "\n",
    "# Here, I just divid them the yearly demand for day and night equally\n",
    "demand_data = {'day': 0.50, 'night': 0.50}\n",
    "filters = {'commodity': ['cooling', 'freshwater', 'other_electricity']}\n",
    "yearly_to_season(scen, 'demand', demand_data) #added =None"
   ]
  },
  {
   "cell_type": "code",
   "execution_count": 10,
   "metadata": {},
   "outputs": [],
   "source": [
    "# Modifying input and output parameters for each time slice\n",
    "# Output of solar PV at night zero\n",
    "pv_data = {'day': 1, 'night': 0}\n",
    "pv_filters = {'technology': 'solar_pv_ppl'}\n",
    "yearly_to_season(scen, 'output', pv_data, pv_filters)\n",
    "\n",
    "# Output of other technologies\n",
    "fixed_data = {'day': 1, 'night': 1}\n",
    "other_filters = {'technology': ['oil_ppl', 'battery_ppl', 'ac', 'ro_pl', 'swac', 'dscd', 'appliances']}\n",
    "yearly_to_season(scen, 'output', fixed_data, other_filters)\n",
    "\n",
    "# Input of all technologies\n",
    "yearly_to_season(scen, 'input', fixed_data)"
   ]
  },
  {
   "cell_type": "code",
   "execution_count": 11,
   "metadata": {},
   "outputs": [],
   "source": [
    "# Modifying capacity factor\n",
    "# Yearly capacity factor of solar_pv in the baseline scenario\n",
    "cf_solar = scen.par('capacity_factor', {'technology': 'solar_pv_ppl'})['value'].mean()\n",
    "\n",
    "# Converting yearly capacity factor to day-night (multiplying CF by 2 for day)\n",
    "cf_data = {'day': 2, 'night': 0} \n",
    "yearly_to_season(scen, 'capacity_factor', cf_data, pv_filters)\n",
    "\n",
    "# Capacity factor of other technologies remains unchanged in each time slice\n",
    "yearly_to_season(scen, 'capacity_factor', fixed_data, other_filters)\n"
   ]
  },
  {
   "cell_type": "code",
   "execution_count": 12,
   "metadata": {},
   "outputs": [],
   "source": [
    "# Modifying initial penetration rates for each time slice\n",
    "half_data = {'day': 0.5, 'night': 0.5} \n",
    "yearly_to_season(scen, 'initial_activity_up', half_data)"
   ]
  },
  {
   "cell_type": "code",
   "execution_count": 13,
   "metadata": {},
   "outputs": [],
   "source": [
    "# Modifying historical activity \n",
    "hist_data = {'day': 1, 'night': 0}\n",
    "yearly_to_season(scen, 'historical_activity', hist_data, pv_filters)\n",
    "# For others divide equally between day and night\n",
    "hist_data = {'day': 0.5, 'night': 0.5}\n",
    "yearly_to_season(scen, 'historical_activity', hist_data, other_filters)"
   ]
  },
  {
   "cell_type": "code",
   "execution_count": 14,
   "metadata": {},
   "outputs": [],
   "source": [
    "# Modifying variable cost\n",
    "yearly_to_season(scen, 'var_cost', fixed_data)"
   ]
  },
  {
   "cell_type": "code",
   "execution_count": 15,
   "metadata": {},
   "outputs": [],
   "source": [
    "# Removing output of solar_pv at night"
   ]
  },
  {
   "cell_type": "code",
   "execution_count": 16,
   "metadata": {},
   "outputs": [],
   "source": [
    "scen.commit(comment='introducing seasonality')\n",
    "scen.set_as_default()"
   ]
  },
  {
   "cell_type": "code",
   "execution_count": 17,
   "metadata": {},
   "outputs": [],
   "source": [
    "scen.solve()"
   ]
  },
  {
   "cell_type": "markdown",
   "metadata": {},
   "source": [
    "### 2. Representing storage"
   ]
  },
  {
   "cell_type": "code",
   "execution_count": 18,
   "metadata": {},
   "outputs": [],
   "source": [
    "# Cloning to a new scenario for adding storage\n",
    "sc = scen.clone(model, 'storage', 'storage_solution', keep_solution=False)\n",
    "\n",
    "# Checking out the scenario for editing\n",
    "sc.check_out()"
   ]
  },
  {
   "cell_type": "markdown",
   "metadata": {},
   "source": [
    "#### 2.1 Configuring storage sets"
   ]
  },
  {
   "cell_type": "code",
   "execution_count": 19,
   "metadata": {},
   "outputs": [],
   "source": [
    "# Adding level of storage\n",
    "sc.add_set('level', 'store')\n",
    "\n",
    "# Adding storage technologies (based on the notation of: reservoir, charger, and discharger)\n",
    "sc.add_set('technology', ['battery_stor', 'dummay', 'battery_ppl'])\n",
    "\n",
    "# Adding a storage commodity\n",
    "sc.add_set('commodity', ['dummay'])\n",
    "\n",
    "# Specifying storage reservoir technology\n",
    "sc.add_set('storage_tec', 'battery_stor')\n",
    "\n",
    "# Specifying storage level\n",
    "sc.add_set('level_storage', 'store')\n",
    "\n",
    "# Adding mapping for storage and charger/discharger technologies\n",
    "for tec in ['dummay', 'battery_ppl']:\n",
    "    sc.add_set('map_tec_storage', ['Maldives', tec, 'battery_stor', 'store',\n",
    "                                     'electricity'])"
   ]
  },
  {
   "cell_type": "markdown",
   "metadata": {},
   "source": [
    "#### 2.2. Configuring storage parameters"
   ]
  },
  {
   "cell_type": "code",
   "execution_count": 20,
   "metadata": {},
   "outputs": [],
   "source": [
    "# Adding the order of time slices\n",
    "sc.add_par('time_order', ['daylight', 'day'], 1, '-')\n",
    "sc.add_par('time_order', ['daylight', 'night'], 2, '-')"
   ]
  },
  {
   "cell_type": "code",
   "execution_count": 21,
   "metadata": {},
   "outputs": [],
   "source": [
    "# Adding output and input for storage technologies\n",
    "# Loading the output of battery\n",
    "data = sc.par('output', {'technology': 'battery_ppl'})\n",
    "\n",
    "# Order of data: ['commodity', 'level']\n",
    "output_spec = {'battery_stor': ['dummay', 'final'],\n",
    "               'dummay': ['electricity', 'store'],\n",
    "               }\n",
    "for tec, item in output_spec.items():\n",
    "    data['technology'] = tec\n",
    "    data['commodity'] = item[0]\n",
    "    data['level'] = item[1]\n",
    "    sc.add_par('output', data)\n",
    "\n",
    "# Configuring input parameter\n",
    "data = data.rename({'node_dest': 'node_origin', 'time_dest': 'time_origin'}, axis=1)\n",
    "input_spec = {'battery_stor': ['dummay', 'final'],\n",
    "              'dummay': ['electricity', 'final'],\n",
    "              'battery_ppl': ['electricity', 'store'],\n",
    "              }\n",
    "\n",
    "for tec, item in input_spec.items():\n",
    "    data['technology'] = tec\n",
    "    data['commodity'] = item[0]\n",
    "    data['level'] = item[1]\n",
    "    sc.add_par('input', data)\n"
   ]
  },
  {
   "cell_type": "code",
   "execution_count": 22,
   "metadata": {},
   "outputs": [],
   "source": [
    "# Adding storage self-discharge (as %) and initial content (assuming 3% loss of battery charge between day and night (6%/day))\n",
    "for year, h in itertools.product(set(sc.set('year')), time_steps):\n",
    "    storage_spec = ['Maldives', 'battery_stor', 'store', 'dummay', year, h]\n",
    "    sc.add_par('storage_self_discharge', storage_spec, 0.03, '%')\n",
    "\n",
    "    # Adding initial content of storage (optional)\n",
    "    initial_value = 0\n",
    "    storage_spec = ['Maldives', 'battery_stor', 'store', 'dummay', year, 'day']\n",
    "    sc.add_par('storage_initial', storage_spec, initial_value, 'MWa')"
   ]
  },
  {
   "cell_type": "markdown",
   "metadata": {},
   "source": [
    "#### Committing and solving"
   ]
  },
  {
   "cell_type": "code",
   "execution_count": 53,
   "metadata": {
    "collapsed": true
   },
   "outputs": [
    {
     "ename": "RuntimeError",
     "evalue": "this Scenario is not checked out, no changes to be committed!",
     "output_type": "error",
     "traceback": [
      "\u001b[1;31m---------------------------------------------------------------------------\u001b[0m",
      "\u001b[1;31mException\u001b[0m                                 Traceback (most recent call last)",
      "\u001b[1;32m~\\Anaconda3\\envs\\message_storage\\lib\\site-packages\\_jpype.cp38-win_amd64.pyd\u001b[0m in \u001b[0;36mat.ac.iiasa.ixmp.objects.MsgScenario.commit\u001b[1;34m()\u001b[0m\n",
      "\u001b[1;32m~\\Anaconda3\\envs\\message_storage\\lib\\site-packages\\_jpype.cp38-win_amd64.pyd\u001b[0m in \u001b[0;36mat.ac.iiasa.ixmp.objects.MsgScenario.commit\u001b[1;34m()\u001b[0m\n",
      "\u001b[1;32m~\\Anaconda3\\envs\\message_storage\\lib\\site-packages\\_jpype.cp38-win_amd64.pyd\u001b[0m in \u001b[0;36mat.ac.iiasa.ixmp.objects.Scenario.commit\u001b[1;34m()\u001b[0m\n",
      "\u001b[1;32m~\\Anaconda3\\envs\\message_storage\\lib\\site-packages\\_jpype.cp38-win_amd64.pyd\u001b[0m in \u001b[0;36mat.ac.iiasa.ixmp.objects.Scenario.commit\u001b[1;34m()\u001b[0m\n",
      "\u001b[1;32m~\\Anaconda3\\envs\\message_storage\\lib\\site-packages\\_jpype.cp38-win_amd64.pyd\u001b[0m in \u001b[0;36mat.ac.iiasa.ixmp.objects.Scenario.commit\u001b[1;34m()\u001b[0m\n",
      "\u001b[1;31mException\u001b[0m: Java Exception",
      "\nThe above exception was the direct cause of the following exception:\n",
      "\u001b[1;31mat.ac.iiasa.ixmp.exceptions.IxException\u001b[0m   Traceback (most recent call last)",
      "\u001b[1;32m~\\Anaconda3\\envs\\message_storage\\lib\\site-packages\\ixmp\\backend\\jdbc.py\u001b[0m in \u001b[0;36mcommit\u001b[1;34m(self, ts, comment)\u001b[0m\n\u001b[0;32m    637\u001b[0m         \u001b[1;32mtry\u001b[0m\u001b[1;33m:\u001b[0m\u001b[1;33m\u001b[0m\u001b[1;33m\u001b[0m\u001b[0m\n\u001b[1;32m--> 638\u001b[1;33m             \u001b[0mself\u001b[0m\u001b[1;33m.\u001b[0m\u001b[0mjindex\u001b[0m\u001b[1;33m[\u001b[0m\u001b[0mts\u001b[0m\u001b[1;33m]\u001b[0m\u001b[1;33m.\u001b[0m\u001b[0mcommit\u001b[0m\u001b[1;33m(\u001b[0m\u001b[0mcomment\u001b[0m\u001b[1;33m)\u001b[0m\u001b[1;33m\u001b[0m\u001b[1;33m\u001b[0m\u001b[0m\n\u001b[0m\u001b[0;32m    639\u001b[0m         \u001b[1;32mexcept\u001b[0m \u001b[0mjava\u001b[0m\u001b[1;33m.\u001b[0m\u001b[0mIxException\u001b[0m \u001b[1;32mas\u001b[0m \u001b[0me\u001b[0m\u001b[1;33m:\u001b[0m\u001b[1;33m\u001b[0m\u001b[1;33m\u001b[0m\u001b[0m\n",
      "\u001b[1;31mat.ac.iiasa.ixmp.exceptions.IxException\u001b[0m: at.ac.iiasa.ixmp.exceptions.IxException: this Scenario is not checked out, no changes to be committed!",
      "\nDuring handling of the above exception, another exception occurred:\n",
      "\u001b[1;31mRuntimeError\u001b[0m                              Traceback (most recent call last)",
      "\u001b[1;32m<ipython-input-53-3299a8ec02f0>\u001b[0m in \u001b[0;36m<module>\u001b[1;34m\u001b[0m\n\u001b[1;32m----> 1\u001b[1;33m \u001b[0msc\u001b[0m\u001b[1;33m.\u001b[0m\u001b[0mcommit\u001b[0m\u001b[1;33m(\u001b[0m\u001b[1;34m'storage setup added'\u001b[0m\u001b[1;33m)\u001b[0m\u001b[1;33m\u001b[0m\u001b[1;33m\u001b[0m\u001b[0m\n\u001b[0m\u001b[0;32m      2\u001b[0m \u001b[0msc\u001b[0m\u001b[1;33m.\u001b[0m\u001b[0msolve\u001b[0m\u001b[1;33m(\u001b[0m\u001b[0mvar_list\u001b[0m\u001b[1;33m=\u001b[0m\u001b[1;33m[\u001b[0m\u001b[1;34m'STORAGE'\u001b[0m\u001b[1;33m,\u001b[0m \u001b[1;34m'STORAGE_CHARGE'\u001b[0m\u001b[1;33m,\u001b[0m \u001b[1;34m'STORAGE_INIT'\u001b[0m\u001b[1;33m]\u001b[0m\u001b[1;33m)\u001b[0m\u001b[1;33m\u001b[0m\u001b[1;33m\u001b[0m\u001b[0m\n",
      "\u001b[1;32m~\\Anaconda3\\envs\\message_storage\\lib\\site-packages\\ixmp\\core.py\u001b[0m in \u001b[0;36mcommit\u001b[1;34m(self, comment)\u001b[0m\n\u001b[0;32m    540\u001b[0m         \u001b[0mutils\u001b[0m\u001b[1;33m.\u001b[0m\u001b[0mmaybe_commit\u001b[0m\u001b[1;33m\u001b[0m\u001b[1;33m\u001b[0m\u001b[0m\n\u001b[0;32m    541\u001b[0m         \"\"\"\n\u001b[1;32m--> 542\u001b[1;33m         \u001b[0mself\u001b[0m\u001b[1;33m.\u001b[0m\u001b[0m_backend\u001b[0m\u001b[1;33m(\u001b[0m\u001b[1;34m\"commit\"\u001b[0m\u001b[1;33m,\u001b[0m \u001b[0mcomment\u001b[0m\u001b[1;33m)\u001b[0m\u001b[1;33m\u001b[0m\u001b[1;33m\u001b[0m\u001b[0m\n\u001b[0m\u001b[0;32m    543\u001b[0m \u001b[1;33m\u001b[0m\u001b[0m\n\u001b[0;32m    544\u001b[0m     \u001b[1;32mdef\u001b[0m \u001b[0mdiscard_changes\u001b[0m\u001b[1;33m(\u001b[0m\u001b[0mself\u001b[0m\u001b[1;33m)\u001b[0m\u001b[1;33m:\u001b[0m\u001b[1;33m\u001b[0m\u001b[1;33m\u001b[0m\u001b[0m\n",
      "\u001b[1;32m~\\Anaconda3\\envs\\message_storage\\lib\\site-packages\\ixmp\\core.py\u001b[0m in \u001b[0;36m_backend\u001b[1;34m(self, method, *args, **kwargs)\u001b[0m\n\u001b[0;32m    497\u001b[0m         \u001b[0mstill\u001b[0m \u001b[0malive\u001b[0m\u001b[1;33m.\u001b[0m\u001b[1;33m\u001b[0m\u001b[1;33m\u001b[0m\u001b[0m\n\u001b[0;32m    498\u001b[0m         \"\"\"\n\u001b[1;32m--> 499\u001b[1;33m         \u001b[1;32mreturn\u001b[0m \u001b[0mself\u001b[0m\u001b[1;33m.\u001b[0m\u001b[0mplatform\u001b[0m\u001b[1;33m.\u001b[0m\u001b[0m_backend\u001b[0m\u001b[1;33m(\u001b[0m\u001b[0mself\u001b[0m\u001b[1;33m,\u001b[0m \u001b[0mmethod\u001b[0m\u001b[1;33m,\u001b[0m \u001b[1;33m*\u001b[0m\u001b[0margs\u001b[0m\u001b[1;33m,\u001b[0m \u001b[1;33m**\u001b[0m\u001b[0mkwargs\u001b[0m\u001b[1;33m)\u001b[0m\u001b[1;33m\u001b[0m\u001b[1;33m\u001b[0m\u001b[0m\n\u001b[0m\u001b[0;32m    500\u001b[0m \u001b[1;33m\u001b[0m\u001b[0m\n\u001b[0;32m    501\u001b[0m     \u001b[1;32mdef\u001b[0m \u001b[0m__del__\u001b[0m\u001b[1;33m(\u001b[0m\u001b[0mself\u001b[0m\u001b[1;33m)\u001b[0m\u001b[1;33m:\u001b[0m\u001b[1;33m\u001b[0m\u001b[1;33m\u001b[0m\u001b[0m\n",
      "\u001b[1;32m~\\Anaconda3\\envs\\message_storage\\lib\\site-packages\\ixmp\\backend\\base.py\u001b[0m in \u001b[0;36m__call__\u001b[1;34m(self, obj, method, *args, **kwargs)\u001b[0m\n\u001b[0;32m     22\u001b[0m         \u001b[1;32mfor\u001b[0m \u001b[0mthe\u001b[0m \u001b[0mmethod\u001b[0m \u001b[0mname\u001b[0m\u001b[1;33m,\u001b[0m \u001b[0me\u001b[0m\u001b[1;33m.\u001b[0m\u001b[0mg\u001b[0m\u001b[1;33m.\u001b[0m \u001b[1;34m'ts_{method}'\u001b[0m\u001b[1;33m.\u001b[0m\u001b[1;33m\u001b[0m\u001b[1;33m\u001b[0m\u001b[0m\n\u001b[0;32m     23\u001b[0m         \"\"\"\n\u001b[1;32m---> 24\u001b[1;33m         \u001b[1;32mreturn\u001b[0m \u001b[0mgetattr\u001b[0m\u001b[1;33m(\u001b[0m\u001b[0mself\u001b[0m\u001b[1;33m,\u001b[0m \u001b[0mmethod\u001b[0m\u001b[1;33m)\u001b[0m\u001b[1;33m(\u001b[0m\u001b[0mobj\u001b[0m\u001b[1;33m,\u001b[0m \u001b[1;33m*\u001b[0m\u001b[0margs\u001b[0m\u001b[1;33m,\u001b[0m \u001b[1;33m**\u001b[0m\u001b[0mkwargs\u001b[0m\u001b[1;33m)\u001b[0m\u001b[1;33m\u001b[0m\u001b[1;33m\u001b[0m\u001b[0m\n\u001b[0m\u001b[0;32m     25\u001b[0m \u001b[1;33m\u001b[0m\u001b[0m\n\u001b[0;32m     26\u001b[0m     \u001b[1;31m# Platform methods\u001b[0m\u001b[1;33m\u001b[0m\u001b[1;33m\u001b[0m\u001b[1;33m\u001b[0m\u001b[0m\n",
      "\u001b[1;32m~\\Anaconda3\\envs\\message_storage\\lib\\site-packages\\ixmp\\backend\\jdbc.py\u001b[0m in \u001b[0;36mcommit\u001b[1;34m(self, ts, comment)\u001b[0m\n\u001b[0;32m    639\u001b[0m         \u001b[1;32mexcept\u001b[0m \u001b[0mjava\u001b[0m\u001b[1;33m.\u001b[0m\u001b[0mIxException\u001b[0m \u001b[1;32mas\u001b[0m \u001b[0me\u001b[0m\u001b[1;33m:\u001b[0m\u001b[1;33m\u001b[0m\u001b[1;33m\u001b[0m\u001b[0m\n\u001b[0;32m    640\u001b[0m             \u001b[1;32mif\u001b[0m \u001b[1;34m\"this Scenario is not checked out\"\u001b[0m \u001b[1;32min\u001b[0m \u001b[0me\u001b[0m\u001b[1;33m.\u001b[0m\u001b[0margs\u001b[0m\u001b[1;33m[\u001b[0m\u001b[1;36m0\u001b[0m\u001b[1;33m]\u001b[0m\u001b[1;33m:\u001b[0m\u001b[1;33m\u001b[0m\u001b[1;33m\u001b[0m\u001b[0m\n\u001b[1;32m--> 641\u001b[1;33m                 \u001b[1;32mraise\u001b[0m \u001b[0mRuntimeError\u001b[0m\u001b[1;33m(\u001b[0m\u001b[0me\u001b[0m\u001b[1;33m.\u001b[0m\u001b[0margs\u001b[0m\u001b[1;33m[\u001b[0m\u001b[1;36m0\u001b[0m\u001b[1;33m]\u001b[0m\u001b[1;33m)\u001b[0m\u001b[1;33m\u001b[0m\u001b[1;33m\u001b[0m\u001b[0m\n\u001b[0m\u001b[0;32m    642\u001b[0m             \u001b[1;32melse\u001b[0m\u001b[1;33m:\u001b[0m  \u001b[1;31m# pragma: no cover\u001b[0m\u001b[1;33m\u001b[0m\u001b[1;33m\u001b[0m\u001b[0m\n\u001b[0;32m    643\u001b[0m                 \u001b[0m_raise_jexception\u001b[0m\u001b[1;33m(\u001b[0m\u001b[0me\u001b[0m\u001b[1;33m)\u001b[0m\u001b[1;33m\u001b[0m\u001b[1;33m\u001b[0m\u001b[0m\n",
      "\u001b[1;31mRuntimeError\u001b[0m: this Scenario is not checked out, no changes to be committed!"
     ]
    }
   ],
   "source": [
    "sc.commit('storage setup added')\n",
    "sc.solve(var_list=['STORAGE', 'STORAGE_CHARGE', 'STORAGE_INIT'])"
   ]
  },
  {
   "cell_type": "code",
   "execution_count": 24,
   "metadata": {},
   "outputs": [
    {
     "data": {
      "text/html": [
       "<div>\n",
       "<style scoped>\n",
       "    .dataframe tbody tr th:only-of-type {\n",
       "        vertical-align: middle;\n",
       "    }\n",
       "\n",
       "    .dataframe tbody tr th {\n",
       "        vertical-align: top;\n",
       "    }\n",
       "\n",
       "    .dataframe thead th {\n",
       "        text-align: right;\n",
       "    }\n",
       "</style>\n",
       "<table border=\"1\" class=\"dataframe\">\n",
       "  <thead>\n",
       "    <tr style=\"text-align: right;\">\n",
       "      <th></th>\n",
       "      <th>node</th>\n",
       "      <th>technology</th>\n",
       "      <th>level</th>\n",
       "      <th>commodity</th>\n",
       "      <th>year</th>\n",
       "      <th>time</th>\n",
       "      <th>lvl</th>\n",
       "      <th>mrg</th>\n",
       "    </tr>\n",
       "  </thead>\n",
       "  <tbody>\n",
       "    <tr>\n",
       "      <th>0</th>\n",
       "      <td>Maldives</td>\n",
       "      <td>battery_stor</td>\n",
       "      <td>store</td>\n",
       "      <td>electricity</td>\n",
       "      <td>2020</td>\n",
       "      <td>year</td>\n",
       "      <td>0.0</td>\n",
       "      <td>0.000000e+00</td>\n",
       "    </tr>\n",
       "    <tr>\n",
       "      <th>1</th>\n",
       "      <td>Maldives</td>\n",
       "      <td>battery_stor</td>\n",
       "      <td>store</td>\n",
       "      <td>electricity</td>\n",
       "      <td>2020</td>\n",
       "      <td>day</td>\n",
       "      <td>0.0</td>\n",
       "      <td>0.000000e+00</td>\n",
       "    </tr>\n",
       "    <tr>\n",
       "      <th>2</th>\n",
       "      <td>Maldives</td>\n",
       "      <td>battery_stor</td>\n",
       "      <td>store</td>\n",
       "      <td>electricity</td>\n",
       "      <td>2020</td>\n",
       "      <td>night</td>\n",
       "      <td>0.0</td>\n",
       "      <td>4.940656e-324</td>\n",
       "    </tr>\n",
       "    <tr>\n",
       "      <th>3</th>\n",
       "      <td>Maldives</td>\n",
       "      <td>battery_stor</td>\n",
       "      <td>store</td>\n",
       "      <td>electricity</td>\n",
       "      <td>2025</td>\n",
       "      <td>year</td>\n",
       "      <td>0.0</td>\n",
       "      <td>0.000000e+00</td>\n",
       "    </tr>\n",
       "    <tr>\n",
       "      <th>4</th>\n",
       "      <td>Maldives</td>\n",
       "      <td>battery_stor</td>\n",
       "      <td>store</td>\n",
       "      <td>electricity</td>\n",
       "      <td>2025</td>\n",
       "      <td>day</td>\n",
       "      <td>0.0</td>\n",
       "      <td>0.000000e+00</td>\n",
       "    </tr>\n",
       "    <tr>\n",
       "      <th>5</th>\n",
       "      <td>Maldives</td>\n",
       "      <td>battery_stor</td>\n",
       "      <td>store</td>\n",
       "      <td>electricity</td>\n",
       "      <td>2025</td>\n",
       "      <td>night</td>\n",
       "      <td>0.0</td>\n",
       "      <td>4.940656e-324</td>\n",
       "    </tr>\n",
       "    <tr>\n",
       "      <th>6</th>\n",
       "      <td>Maldives</td>\n",
       "      <td>battery_stor</td>\n",
       "      <td>store</td>\n",
       "      <td>electricity</td>\n",
       "      <td>2030</td>\n",
       "      <td>year</td>\n",
       "      <td>0.0</td>\n",
       "      <td>0.000000e+00</td>\n",
       "    </tr>\n",
       "    <tr>\n",
       "      <th>7</th>\n",
       "      <td>Maldives</td>\n",
       "      <td>battery_stor</td>\n",
       "      <td>store</td>\n",
       "      <td>electricity</td>\n",
       "      <td>2030</td>\n",
       "      <td>day</td>\n",
       "      <td>0.0</td>\n",
       "      <td>0.000000e+00</td>\n",
       "    </tr>\n",
       "    <tr>\n",
       "      <th>8</th>\n",
       "      <td>Maldives</td>\n",
       "      <td>battery_stor</td>\n",
       "      <td>store</td>\n",
       "      <td>electricity</td>\n",
       "      <td>2030</td>\n",
       "      <td>night</td>\n",
       "      <td>0.0</td>\n",
       "      <td>4.940656e-324</td>\n",
       "    </tr>\n",
       "    <tr>\n",
       "      <th>9</th>\n",
       "      <td>Maldives</td>\n",
       "      <td>battery_stor</td>\n",
       "      <td>store</td>\n",
       "      <td>electricity</td>\n",
       "      <td>2035</td>\n",
       "      <td>year</td>\n",
       "      <td>0.0</td>\n",
       "      <td>0.000000e+00</td>\n",
       "    </tr>\n",
       "    <tr>\n",
       "      <th>10</th>\n",
       "      <td>Maldives</td>\n",
       "      <td>battery_stor</td>\n",
       "      <td>store</td>\n",
       "      <td>electricity</td>\n",
       "      <td>2035</td>\n",
       "      <td>day</td>\n",
       "      <td>0.0</td>\n",
       "      <td>0.000000e+00</td>\n",
       "    </tr>\n",
       "    <tr>\n",
       "      <th>11</th>\n",
       "      <td>Maldives</td>\n",
       "      <td>battery_stor</td>\n",
       "      <td>store</td>\n",
       "      <td>electricity</td>\n",
       "      <td>2035</td>\n",
       "      <td>night</td>\n",
       "      <td>0.0</td>\n",
       "      <td>4.940656e-324</td>\n",
       "    </tr>\n",
       "    <tr>\n",
       "      <th>12</th>\n",
       "      <td>Maldives</td>\n",
       "      <td>battery_stor</td>\n",
       "      <td>store</td>\n",
       "      <td>electricity</td>\n",
       "      <td>2040</td>\n",
       "      <td>year</td>\n",
       "      <td>0.0</td>\n",
       "      <td>0.000000e+00</td>\n",
       "    </tr>\n",
       "    <tr>\n",
       "      <th>13</th>\n",
       "      <td>Maldives</td>\n",
       "      <td>battery_stor</td>\n",
       "      <td>store</td>\n",
       "      <td>electricity</td>\n",
       "      <td>2040</td>\n",
       "      <td>day</td>\n",
       "      <td>0.0</td>\n",
       "      <td>0.000000e+00</td>\n",
       "    </tr>\n",
       "    <tr>\n",
       "      <th>14</th>\n",
       "      <td>Maldives</td>\n",
       "      <td>battery_stor</td>\n",
       "      <td>store</td>\n",
       "      <td>electricity</td>\n",
       "      <td>2040</td>\n",
       "      <td>night</td>\n",
       "      <td>0.0</td>\n",
       "      <td>4.940656e-324</td>\n",
       "    </tr>\n",
       "  </tbody>\n",
       "</table>\n",
       "</div>"
      ],
      "text/plain": [
       "        node    technology  level    commodity  year   time  lvl  \\\n",
       "0   Maldives  battery_stor  store  electricity  2020   year  0.0   \n",
       "1   Maldives  battery_stor  store  electricity  2020    day  0.0   \n",
       "2   Maldives  battery_stor  store  electricity  2020  night  0.0   \n",
       "3   Maldives  battery_stor  store  electricity  2025   year  0.0   \n",
       "4   Maldives  battery_stor  store  electricity  2025    day  0.0   \n",
       "5   Maldives  battery_stor  store  electricity  2025  night  0.0   \n",
       "6   Maldives  battery_stor  store  electricity  2030   year  0.0   \n",
       "7   Maldives  battery_stor  store  electricity  2030    day  0.0   \n",
       "8   Maldives  battery_stor  store  electricity  2030  night  0.0   \n",
       "9   Maldives  battery_stor  store  electricity  2035   year  0.0   \n",
       "10  Maldives  battery_stor  store  electricity  2035    day  0.0   \n",
       "11  Maldives  battery_stor  store  electricity  2035  night  0.0   \n",
       "12  Maldives  battery_stor  store  electricity  2040   year  0.0   \n",
       "13  Maldives  battery_stor  store  electricity  2040    day  0.0   \n",
       "14  Maldives  battery_stor  store  electricity  2040  night  0.0   \n",
       "\n",
       "              mrg  \n",
       "0    0.000000e+00  \n",
       "1    0.000000e+00  \n",
       "2   4.940656e-324  \n",
       "3    0.000000e+00  \n",
       "4    0.000000e+00  \n",
       "5   4.940656e-324  \n",
       "6    0.000000e+00  \n",
       "7    0.000000e+00  \n",
       "8   4.940656e-324  \n",
       "9    0.000000e+00  \n",
       "10   0.000000e+00  \n",
       "11  4.940656e-324  \n",
       "12   0.000000e+00  \n",
       "13   0.000000e+00  \n",
       "14  4.940656e-324  "
      ]
     },
     "execution_count": 24,
     "metadata": {},
     "output_type": "execute_result"
    }
   ],
   "source": [
    "# The battery doesn't work as it is expensive with PV (oil_ppl supplies all demand)\n",
    "sc.var('STORAGE')"
   ]
  },
  {
   "cell_type": "code",
   "execution_count": 54,
   "metadata": {},
   "outputs": [],
   "source": [
    "# A new scenario with lower cost of battery or bound on oil\n",
    "sc_lo = sc.clone(scenario='storage-oil-bound', keep_solution=False)\n",
    "sc_lo.check_out()"
   ]
  },
  {
   "cell_type": "code",
   "execution_count": 55,
   "metadata": {},
   "outputs": [],
   "source": [
    "# Reducing inv_cost\n",
    "for parname in ['inv_cost']:\n",
    "    df = sc_lo.par(parname, {'technology': ['battery_ppl', 'swac']})\n",
    "    df['value'] *= .2\n",
    "    sc_lo.add_par(parname, df)"
   ]
  },
  {
   "cell_type": "code",
   "execution_count": 56,
   "metadata": {},
   "outputs": [],
   "source": [
    "# bound on activity of oil at night\n",
    "base_act = {\n",
    "    'node_loc': 'Maldives',\n",
    "    'year_act': list(set(sc_lo.set('year'))),\n",
    "    'mode': 'standard',\n",
    "    'time': 'night',\n",
    "    'unit': 'MWa',\n",
    "}\n",
    "\n",
    "new_activity = {'oil_ppl': 10,\n",
    "                'dscd': 5,\n",
    "}\n",
    "\n",
    "for tec, val in new_activity.items():\n",
    "    df = make_df(base_act, technology=tec, value=val)\n",
    "    sc_lo.add_par('bound_activity_up', df)"
   ]
  },
  {
   "cell_type": "code",
   "execution_count": 57,
   "metadata": {},
   "outputs": [],
   "source": [
    "sc_lo.commit('')\n",
    "sc_lo.solve(var_list=['STORAGE', 'STORAGE_CHARGE', 'STORAGE_INIT'])"
   ]
  },
  {
   "cell_type": "code",
   "execution_count": 58,
   "metadata": {
    "scrolled": true
   },
   "outputs": [
    {
     "data": {
      "text/html": [
       "<div>\n",
       "<style scoped>\n",
       "    .dataframe tbody tr th:only-of-type {\n",
       "        vertical-align: middle;\n",
       "    }\n",
       "\n",
       "    .dataframe tbody tr th {\n",
       "        vertical-align: top;\n",
       "    }\n",
       "\n",
       "    .dataframe thead th {\n",
       "        text-align: right;\n",
       "    }\n",
       "</style>\n",
       "<table border=\"1\" class=\"dataframe\">\n",
       "  <thead>\n",
       "    <tr style=\"text-align: right;\">\n",
       "      <th></th>\n",
       "      <th>node</th>\n",
       "      <th>technology</th>\n",
       "      <th>level</th>\n",
       "      <th>commodity</th>\n",
       "      <th>year</th>\n",
       "      <th>time</th>\n",
       "      <th>lvl</th>\n",
       "      <th>mrg</th>\n",
       "    </tr>\n",
       "  </thead>\n",
       "  <tbody>\n",
       "    <tr>\n",
       "      <th>0</th>\n",
       "      <td>Maldives</td>\n",
       "      <td>battery_stor</td>\n",
       "      <td>store</td>\n",
       "      <td>electricity</td>\n",
       "      <td>2020</td>\n",
       "      <td>year</td>\n",
       "      <td>0.000000</td>\n",
       "      <td>0.000000e+00</td>\n",
       "    </tr>\n",
       "    <tr>\n",
       "      <th>1</th>\n",
       "      <td>Maldives</td>\n",
       "      <td>battery_stor</td>\n",
       "      <td>store</td>\n",
       "      <td>electricity</td>\n",
       "      <td>2020</td>\n",
       "      <td>day</td>\n",
       "      <td>0.568497</td>\n",
       "      <td>0.000000e+00</td>\n",
       "    </tr>\n",
       "    <tr>\n",
       "      <th>2</th>\n",
       "      <td>Maldives</td>\n",
       "      <td>battery_stor</td>\n",
       "      <td>store</td>\n",
       "      <td>electricity</td>\n",
       "      <td>2020</td>\n",
       "      <td>night</td>\n",
       "      <td>0.000000</td>\n",
       "      <td>4.940656e-324</td>\n",
       "    </tr>\n",
       "    <tr>\n",
       "      <th>3</th>\n",
       "      <td>Maldives</td>\n",
       "      <td>battery_stor</td>\n",
       "      <td>store</td>\n",
       "      <td>electricity</td>\n",
       "      <td>2025</td>\n",
       "      <td>year</td>\n",
       "      <td>0.000000</td>\n",
       "      <td>0.000000e+00</td>\n",
       "    </tr>\n",
       "    <tr>\n",
       "      <th>4</th>\n",
       "      <td>Maldives</td>\n",
       "      <td>battery_stor</td>\n",
       "      <td>store</td>\n",
       "      <td>electricity</td>\n",
       "      <td>2025</td>\n",
       "      <td>day</td>\n",
       "      <td>2.844011</td>\n",
       "      <td>0.000000e+00</td>\n",
       "    </tr>\n",
       "    <tr>\n",
       "      <th>5</th>\n",
       "      <td>Maldives</td>\n",
       "      <td>battery_stor</td>\n",
       "      <td>store</td>\n",
       "      <td>electricity</td>\n",
       "      <td>2025</td>\n",
       "      <td>night</td>\n",
       "      <td>0.000000</td>\n",
       "      <td>4.940656e-324</td>\n",
       "    </tr>\n",
       "    <tr>\n",
       "      <th>6</th>\n",
       "      <td>Maldives</td>\n",
       "      <td>battery_stor</td>\n",
       "      <td>store</td>\n",
       "      <td>electricity</td>\n",
       "      <td>2030</td>\n",
       "      <td>year</td>\n",
       "      <td>0.000000</td>\n",
       "      <td>0.000000e+00</td>\n",
       "    </tr>\n",
       "    <tr>\n",
       "      <th>7</th>\n",
       "      <td>Maldives</td>\n",
       "      <td>battery_stor</td>\n",
       "      <td>store</td>\n",
       "      <td>electricity</td>\n",
       "      <td>2030</td>\n",
       "      <td>day</td>\n",
       "      <td>5.675761</td>\n",
       "      <td>0.000000e+00</td>\n",
       "    </tr>\n",
       "    <tr>\n",
       "      <th>8</th>\n",
       "      <td>Maldives</td>\n",
       "      <td>battery_stor</td>\n",
       "      <td>store</td>\n",
       "      <td>electricity</td>\n",
       "      <td>2030</td>\n",
       "      <td>night</td>\n",
       "      <td>0.000000</td>\n",
       "      <td>4.940656e-324</td>\n",
       "    </tr>\n",
       "    <tr>\n",
       "      <th>9</th>\n",
       "      <td>Maldives</td>\n",
       "      <td>battery_stor</td>\n",
       "      <td>store</td>\n",
       "      <td>electricity</td>\n",
       "      <td>2035</td>\n",
       "      <td>year</td>\n",
       "      <td>0.000000</td>\n",
       "      <td>0.000000e+00</td>\n",
       "    </tr>\n",
       "    <tr>\n",
       "      <th>10</th>\n",
       "      <td>Maldives</td>\n",
       "      <td>battery_stor</td>\n",
       "      <td>store</td>\n",
       "      <td>electricity</td>\n",
       "      <td>2035</td>\n",
       "      <td>day</td>\n",
       "      <td>7.293904</td>\n",
       "      <td>0.000000e+00</td>\n",
       "    </tr>\n",
       "    <tr>\n",
       "      <th>11</th>\n",
       "      <td>Maldives</td>\n",
       "      <td>battery_stor</td>\n",
       "      <td>store</td>\n",
       "      <td>electricity</td>\n",
       "      <td>2035</td>\n",
       "      <td>night</td>\n",
       "      <td>0.000000</td>\n",
       "      <td>4.940656e-324</td>\n",
       "    </tr>\n",
       "    <tr>\n",
       "      <th>12</th>\n",
       "      <td>Maldives</td>\n",
       "      <td>battery_stor</td>\n",
       "      <td>store</td>\n",
       "      <td>electricity</td>\n",
       "      <td>2040</td>\n",
       "      <td>year</td>\n",
       "      <td>0.000000</td>\n",
       "      <td>0.000000e+00</td>\n",
       "    </tr>\n",
       "    <tr>\n",
       "      <th>13</th>\n",
       "      <td>Maldives</td>\n",
       "      <td>battery_stor</td>\n",
       "      <td>store</td>\n",
       "      <td>electricity</td>\n",
       "      <td>2040</td>\n",
       "      <td>day</td>\n",
       "      <td>8.608645</td>\n",
       "      <td>0.000000e+00</td>\n",
       "    </tr>\n",
       "    <tr>\n",
       "      <th>14</th>\n",
       "      <td>Maldives</td>\n",
       "      <td>battery_stor</td>\n",
       "      <td>store</td>\n",
       "      <td>electricity</td>\n",
       "      <td>2040</td>\n",
       "      <td>night</td>\n",
       "      <td>0.000000</td>\n",
       "      <td>4.940656e-324</td>\n",
       "    </tr>\n",
       "  </tbody>\n",
       "</table>\n",
       "</div>"
      ],
      "text/plain": [
       "        node    technology  level    commodity  year   time       lvl  \\\n",
       "0   Maldives  battery_stor  store  electricity  2020   year  0.000000   \n",
       "1   Maldives  battery_stor  store  electricity  2020    day  0.568497   \n",
       "2   Maldives  battery_stor  store  electricity  2020  night  0.000000   \n",
       "3   Maldives  battery_stor  store  electricity  2025   year  0.000000   \n",
       "4   Maldives  battery_stor  store  electricity  2025    day  2.844011   \n",
       "5   Maldives  battery_stor  store  electricity  2025  night  0.000000   \n",
       "6   Maldives  battery_stor  store  electricity  2030   year  0.000000   \n",
       "7   Maldives  battery_stor  store  electricity  2030    day  5.675761   \n",
       "8   Maldives  battery_stor  store  electricity  2030  night  0.000000   \n",
       "9   Maldives  battery_stor  store  electricity  2035   year  0.000000   \n",
       "10  Maldives  battery_stor  store  electricity  2035    day  7.293904   \n",
       "11  Maldives  battery_stor  store  electricity  2035  night  0.000000   \n",
       "12  Maldives  battery_stor  store  electricity  2040   year  0.000000   \n",
       "13  Maldives  battery_stor  store  electricity  2040    day  8.608645   \n",
       "14  Maldives  battery_stor  store  electricity  2040  night  0.000000   \n",
       "\n",
       "              mrg  \n",
       "0    0.000000e+00  \n",
       "1    0.000000e+00  \n",
       "2   4.940656e-324  \n",
       "3    0.000000e+00  \n",
       "4    0.000000e+00  \n",
       "5   4.940656e-324  \n",
       "6    0.000000e+00  \n",
       "7    0.000000e+00  \n",
       "8   4.940656e-324  \n",
       "9    0.000000e+00  \n",
       "10   0.000000e+00  \n",
       "11  4.940656e-324  \n",
       "12   0.000000e+00  \n",
       "13   0.000000e+00  \n",
       "14  4.940656e-324  "
      ]
     },
     "execution_count": 58,
     "metadata": {},
     "output_type": "execute_result"
    }
   ],
   "source": [
    "sc_lo.var('STORAGE')"
   ]
  },
  {
   "cell_type": "code",
   "execution_count": 59,
   "metadata": {},
   "outputs": [],
   "source": [
    "# A new scenario with share constraint\n",
    "sc_sh = sc_lo.clone(scenario='shares_commodity_total', keep_solution=False)\n",
    "sc_sh.check_out()"
   ]
  },
  {
   "cell_type": "code",
   "execution_count": 60,
   "metadata": {},
   "outputs": [],
   "source": [
    "shares = 'share_cooling'\n",
    "sc_sh.add_set('shares', shares)"
   ]
  },
  {
   "cell_type": "code",
   "execution_count": 61,
   "metadata": {},
   "outputs": [],
   "source": [
    "type_tec = 'cooling_techs'\n",
    "sc_sh.add_cat('technology', type_tec, 'swac')\n",
    "#sc_sh.add_cat('technology', type_tec, 'dscd')"
   ]
  },
  {
   "cell_type": "code",
   "execution_count": 62,
   "metadata": {},
   "outputs": [
    {
     "data": {
      "text/plain": [
       "['shares', 'node_share', 'node', 'type_tec', 'mode', 'commodity', 'level']"
      ]
     },
     "execution_count": 62,
     "metadata": {},
     "output_type": "execute_result"
    }
   ],
   "source": [
    "sc_sh.idx_names('map_shares_commodity_total')"
   ]
  },
  {
   "cell_type": "code",
   "execution_count": 63,
   "metadata": {},
   "outputs": [],
   "source": [
    "df = pd.DataFrame({'shares': [shares],\n",
    "                   'node_share': 'Maldives',\n",
    "                   'node': 'Maldives',\n",
    "                   'type_tec': type_tec,\n",
    "                   'mode': 'standard',\n",
    "                   'commodity': 'cooling',\n",
    "                   'level': 'final',\n",
    "})\n",
    "sc_sh.add_set('map_shares_commodity_total', df)"
   ]
  },
  {
   "cell_type": "code",
   "execution_count": 64,
   "metadata": {},
   "outputs": [],
   "source": [
    "#cooling\n",
    "type_tec = 'new_cooling_techs'\n",
    "sc_sh.add_cat('technology', type_tec, 'swac')\n",
    "\n",
    "df = pd.DataFrame({'shares': [shares],\n",
    "                   'node_share': 'Maldives',\n",
    "                   'node': 'Maldives',\n",
    "                   'type_tec': type_tec,\n",
    "                   'mode': 'standard',\n",
    "                   'commodity': 'cooling',\n",
    "                   'level': 'useful',\n",
    "})\n",
    "sc_sh.add_set('map_shares_commodity_share', df)"
   ]
  },
  {
   "cell_type": "code",
   "execution_count": 65,
   "metadata": {},
   "outputs": [
    {
     "data": {
      "text/plain": [
       "['shares', 'node_share', 'year_act', 'time']"
      ]
     },
     "execution_count": 65,
     "metadata": {},
     "output_type": "execute_result"
    }
   ],
   "source": [
    "# Fetching the index names of a parameter\n",
    "sc_sh.idx_names('share_commodity_lo')"
   ]
  },
  {
   "cell_type": "code",
   "execution_count": 66,
   "metadata": {},
   "outputs": [],
   "source": [
    "# Adding data to the parameter\n",
    "\n",
    "cool_share = {\n",
    "    'shares': shares,\n",
    "    'node_share': 'Maldives',\n",
    "    'year_act': [2040],\n",
    "    'time': 'year',\n",
    "    'unit': '-'\n",
    "}\n",
    "\n",
    "shares_factor = {'swac': 0.3}\n",
    "\n",
    "\n",
    "for tec, val in shares_factor.items():\n",
    "    df = make_df(cool_share, technology=tec, value=val)\n",
    "    sc_sh.add_par('share_commodity_lo', df)"
   ]
  },
  {
   "cell_type": "code",
   "execution_count": 67,
   "metadata": {},
   "outputs": [],
   "source": [
    "sc_sh.commit(comment='define share constraint')\n",
    "sc_sh.set_as_default()"
   ]
  },
  {
   "cell_type": "code",
   "execution_count": 68,
   "metadata": {},
   "outputs": [],
   "source": [
    "sc_sh.solve()"
   ]
  },
  {
   "cell_type": "code",
   "execution_count": 69,
   "metadata": {
    "scrolled": false
   },
   "outputs": [
    {
     "data": {
      "text/plain": [
       "143214.921875"
      ]
     },
     "execution_count": 69,
     "metadata": {},
     "output_type": "execute_result"
    }
   ],
   "source": [
    "sc_sh.var('OBJ')['lvl']"
   ]
  },
  {
   "cell_type": "code",
   "execution_count": 70,
   "metadata": {},
   "outputs": [],
   "source": [
    "import pyam\n",
    "from ixmp.reporting import configure\n",
    "from message_ix.reporting import Reporter\n",
    "import os\n",
    "import matplotlib.pyplot as plt\n",
    "configure(units={'replace': {'-': 'MWa'}})"
   ]
  },
  {
   "cell_type": "code",
   "execution_count": 71,
   "metadata": {},
   "outputs": [],
   "source": [
    "rep = Reporter.from_scenario(sc_lo)"
   ]
  },
  {
   "cell_type": "code",
   "execution_count": 72,
   "metadata": {},
   "outputs": [
    {
     "data": {
      "text/plain": [
       "nl        t     ya    c        l     \n",
       "Maldives  ac    2020  cooling  useful     0.000000\n",
       "                2025  cooling  useful     0.000000\n",
       "                2030  cooling  useful     0.000000\n",
       "                2035  cooling  useful     0.000000\n",
       "                2040  cooling  useful     0.000000\n",
       "          dscd  2020  cooling  useful    19.711849\n",
       "                2025  cooling  useful    23.956027\n",
       "                2030  cooling  useful    29.237671\n",
       "                2035  cooling  useful    32.255753\n",
       "                2040  cooling  useful    34.707945\n",
       "          swac  2020  cooling  useful     0.000000\n",
       "                2025  cooling  useful     0.000000\n",
       "                2030  cooling  useful     0.000000\n",
       "                2035  cooling  useful     0.000000\n",
       "                2040  cooling  useful     0.000000\n",
       "dtype: float64"
      ]
     },
     "execution_count": 72,
     "metadata": {},
     "output_type": "execute_result"
    }
   ],
   "source": [
    "rep.set_filters(c = 'cooling')\n",
    "cool = rep.full_key('out')\n",
    "cool = cool.drop('yv','m','nd','hd','h')\n",
    "cool_gen = rep.get(cool)\n",
    "cool_gen"
   ]
  },
  {
   "cell_type": "code",
   "execution_count": 35,
   "metadata": {
    "scrolled": false
   },
   "outputs": [
    {
     "data": {
      "text/plain": [
       "nl        t             ya    c            l    \n",
       "Maldives  battery_ppl   2020  electricity  final     0.568497\n",
       "                        2025  electricity  final     2.844011\n",
       "                        2030  electricity  final     5.675761\n",
       "                        2035  electricity  final     7.293904\n",
       "                        2040  electricity  final     8.608645\n",
       "          dummay        2020  electricity  store     0.568497\n",
       "                        2025  electricity  store     2.844011\n",
       "                        2030  electricity  store     5.675761\n",
       "                        2035  electricity  store     7.293904\n",
       "                        2040  electricity  store     8.608645\n",
       "          oil_ppl       2020  electricity  final    20.000000\n",
       "                        2025  electricity  final    20.000000\n",
       "                        2030  electricity  final    20.000000\n",
       "                        2035  electricity  final    20.000000\n",
       "                        2040  electricity  final    20.000000\n",
       "          solar_pv_ppl  2020  electricity  final     1.136994\n",
       "                        2025  electricity  final     5.688021\n",
       "                        2030  electricity  final    11.351522\n",
       "                        2035  electricity  final    14.587808\n",
       "                        2040  electricity  final    17.217291\n",
       "dtype: float64"
      ]
     },
     "execution_count": 35,
     "metadata": {},
     "output_type": "execute_result"
    }
   ],
   "source": [
    "rep.set_filters(c = 'electricity')\n",
    "elec = rep.full_key('out')\n",
    "elec = elec.drop('yv','m','nd','hd','h')\n",
    "elec_gen = rep.get(elec)\n",
    "elec_gen"
   ]
  },
  {
   "cell_type": "code",
   "execution_count": 36,
   "metadata": {
    "scrolled": true
   },
   "outputs": [
    {
     "data": {
      "text/plain": [
       "nl        t      ya    c           l     \n",
       "Maldives  dscd   2020  freshwater  useful     3108164.4\n",
       "                 2025  freshwater  useful     3777386.4\n",
       "                 2030  freshwater  useful     4610196.0\n",
       "                 2035  freshwater  useful     5086087.2\n",
       "                 2040  freshwater  useful     5472748.8\n",
       "          ro_pl  2020  freshwater  useful    15200235.6\n",
       "                 2025  freshwater  useful    18473013.6\n",
       "                 2030  freshwater  useful    22545804.0\n",
       "                 2035  freshwater  useful    24873112.8\n",
       "                 2040  freshwater  useful    26764051.2\n",
       "dtype: float64"
      ]
     },
     "execution_count": 36,
     "metadata": {},
     "output_type": "execute_result"
    }
   ],
   "source": [
    "rep.set_filters(c = 'freshwater')\n",
    "wat = rep.full_key('out')\n",
    "wat = wat.drop('yv','m','nd','hd','h')\n",
    "wat_gen = rep.get(wat)\n",
    "wat_gen"
   ]
  },
  {
   "cell_type": "code",
   "execution_count": 37,
   "metadata": {},
   "outputs": [
    {
     "name": "stderr",
     "output_type": "stream",
     "text": [
      "Extra columns ['c'] when converting None to IAMC format\n"
     ]
    }
   ],
   "source": [
    "rep.set_filters(c = 'electricity')\n",
    "elec = rep.full_key('out')\n",
    "elec = elec.drop('yv','m','nd','hd','h')\n",
    "elec_gen = rep.get(elec)\n",
    "elec_gen\n",
    "\n",
    "def collapse_callback(df):\n",
    "    \"\"\"Callback function to populate the IAMC 'variable' column.\"\"\"\n",
    "    df['variable'] = 'Electricity Generation|' + df['l']+ '|'+df['t']\n",
    "    return df.drop(['t','l'], axis =1)\n",
    "    \n",
    "new_key = rep.convert_pyam(\n",
    "        quantities=elec,\n",
    "        year_time_dim='ya',\n",
    "        collapse=collapse_callback)\n",
    "    \n",
    "new_key = new_key[0]  # Unwrap the single item in the list\n",
    "    \n",
    "df_elec = rep.get(new_key)\n",
    "df_elec.data.unit = 'MWa'\n",
    "df_elec.to_csv('electricity_stor.csv')"
   ]
  },
  {
   "cell_type": "code",
   "execution_count": 38,
   "metadata": {},
   "outputs": [
    {
     "data": {
      "text/plain": [
       "Index(['Model', 'Scenario', 'Region', 'Variable', 'Unit', 'C', '2020', '2025',\n",
       "       '2030', '2035', '2040'],\n",
       "      dtype='object')"
      ]
     },
     "execution_count": 38,
     "metadata": {},
     "output_type": "execute_result"
    }
   ],
   "source": [
    "elec_gen = pd.read_csv(\"electricity_stor.csv\")\n",
    "elec_gen.columns "
   ]
  },
  {
   "cell_type": "code",
   "execution_count": 39,
   "metadata": {},
   "outputs": [
    {
     "name": "stderr",
     "output_type": "stream",
     "text": [
      "pyam - INFO: Running in a notebook, setting up a basic logging config at level INFO\n",
      "pyam.core - INFO: Reading file electricity_stor.csv\n"
     ]
    },
    {
     "data": {
      "text/html": [
       "<div>\n",
       "<style scoped>\n",
       "    .dataframe tbody tr th:only-of-type {\n",
       "        vertical-align: middle;\n",
       "    }\n",
       "\n",
       "    .dataframe tbody tr th {\n",
       "        vertical-align: top;\n",
       "    }\n",
       "\n",
       "    .dataframe thead th {\n",
       "        text-align: right;\n",
       "    }\n",
       "</style>\n",
       "<table border=\"1\" class=\"dataframe\">\n",
       "  <thead>\n",
       "    <tr style=\"text-align: right;\">\n",
       "      <th></th>\n",
       "      <th>model</th>\n",
       "      <th>scenario</th>\n",
       "      <th>region</th>\n",
       "      <th>variable</th>\n",
       "      <th>unit</th>\n",
       "      <th>year</th>\n",
       "      <th>c</th>\n",
       "      <th>value</th>\n",
       "    </tr>\n",
       "  </thead>\n",
       "  <tbody>\n",
       "    <tr>\n",
       "      <th>0</th>\n",
       "      <td>Maldives energy model</td>\n",
       "      <td>storage-oil-bound</td>\n",
       "      <td>Maldives</td>\n",
       "      <td>Electricity Generation|final|battery_ppl</td>\n",
       "      <td>MWa / a</td>\n",
       "      <td>2020</td>\n",
       "      <td>electricity</td>\n",
       "      <td>0.568497</td>\n",
       "    </tr>\n",
       "    <tr>\n",
       "      <th>1</th>\n",
       "      <td>Maldives energy model</td>\n",
       "      <td>storage-oil-bound</td>\n",
       "      <td>Maldives</td>\n",
       "      <td>Electricity Generation|final|battery_ppl</td>\n",
       "      <td>MWa / a</td>\n",
       "      <td>2025</td>\n",
       "      <td>electricity</td>\n",
       "      <td>2.844011</td>\n",
       "    </tr>\n",
       "    <tr>\n",
       "      <th>2</th>\n",
       "      <td>Maldives energy model</td>\n",
       "      <td>storage-oil-bound</td>\n",
       "      <td>Maldives</td>\n",
       "      <td>Electricity Generation|final|battery_ppl</td>\n",
       "      <td>MWa / a</td>\n",
       "      <td>2030</td>\n",
       "      <td>electricity</td>\n",
       "      <td>5.675761</td>\n",
       "    </tr>\n",
       "    <tr>\n",
       "      <th>3</th>\n",
       "      <td>Maldives energy model</td>\n",
       "      <td>storage-oil-bound</td>\n",
       "      <td>Maldives</td>\n",
       "      <td>Electricity Generation|final|battery_ppl</td>\n",
       "      <td>MWa / a</td>\n",
       "      <td>2035</td>\n",
       "      <td>electricity</td>\n",
       "      <td>7.293904</td>\n",
       "    </tr>\n",
       "    <tr>\n",
       "      <th>4</th>\n",
       "      <td>Maldives energy model</td>\n",
       "      <td>storage-oil-bound</td>\n",
       "      <td>Maldives</td>\n",
       "      <td>Electricity Generation|final|battery_ppl</td>\n",
       "      <td>MWa / a</td>\n",
       "      <td>2040</td>\n",
       "      <td>electricity</td>\n",
       "      <td>8.608645</td>\n",
       "    </tr>\n",
       "    <tr>\n",
       "      <th>5</th>\n",
       "      <td>Maldives energy model</td>\n",
       "      <td>storage-oil-bound</td>\n",
       "      <td>Maldives</td>\n",
       "      <td>Electricity Generation|final|oil_ppl</td>\n",
       "      <td>MWa / a</td>\n",
       "      <td>2020</td>\n",
       "      <td>electricity</td>\n",
       "      <td>20.000000</td>\n",
       "    </tr>\n",
       "    <tr>\n",
       "      <th>6</th>\n",
       "      <td>Maldives energy model</td>\n",
       "      <td>storage-oil-bound</td>\n",
       "      <td>Maldives</td>\n",
       "      <td>Electricity Generation|final|oil_ppl</td>\n",
       "      <td>MWa / a</td>\n",
       "      <td>2025</td>\n",
       "      <td>electricity</td>\n",
       "      <td>20.000000</td>\n",
       "    </tr>\n",
       "    <tr>\n",
       "      <th>7</th>\n",
       "      <td>Maldives energy model</td>\n",
       "      <td>storage-oil-bound</td>\n",
       "      <td>Maldives</td>\n",
       "      <td>Electricity Generation|final|oil_ppl</td>\n",
       "      <td>MWa / a</td>\n",
       "      <td>2030</td>\n",
       "      <td>electricity</td>\n",
       "      <td>20.000000</td>\n",
       "    </tr>\n",
       "    <tr>\n",
       "      <th>8</th>\n",
       "      <td>Maldives energy model</td>\n",
       "      <td>storage-oil-bound</td>\n",
       "      <td>Maldives</td>\n",
       "      <td>Electricity Generation|final|oil_ppl</td>\n",
       "      <td>MWa / a</td>\n",
       "      <td>2035</td>\n",
       "      <td>electricity</td>\n",
       "      <td>20.000000</td>\n",
       "    </tr>\n",
       "    <tr>\n",
       "      <th>9</th>\n",
       "      <td>Maldives energy model</td>\n",
       "      <td>storage-oil-bound</td>\n",
       "      <td>Maldives</td>\n",
       "      <td>Electricity Generation|final|oil_ppl</td>\n",
       "      <td>MWa / a</td>\n",
       "      <td>2040</td>\n",
       "      <td>electricity</td>\n",
       "      <td>20.000000</td>\n",
       "    </tr>\n",
       "    <tr>\n",
       "      <th>10</th>\n",
       "      <td>Maldives energy model</td>\n",
       "      <td>storage-oil-bound</td>\n",
       "      <td>Maldives</td>\n",
       "      <td>Electricity Generation|final|solar_pv_ppl</td>\n",
       "      <td>MWa / a</td>\n",
       "      <td>2020</td>\n",
       "      <td>electricity</td>\n",
       "      <td>1.136994</td>\n",
       "    </tr>\n",
       "    <tr>\n",
       "      <th>11</th>\n",
       "      <td>Maldives energy model</td>\n",
       "      <td>storage-oil-bound</td>\n",
       "      <td>Maldives</td>\n",
       "      <td>Electricity Generation|final|solar_pv_ppl</td>\n",
       "      <td>MWa / a</td>\n",
       "      <td>2025</td>\n",
       "      <td>electricity</td>\n",
       "      <td>5.688021</td>\n",
       "    </tr>\n",
       "    <tr>\n",
       "      <th>12</th>\n",
       "      <td>Maldives energy model</td>\n",
       "      <td>storage-oil-bound</td>\n",
       "      <td>Maldives</td>\n",
       "      <td>Electricity Generation|final|solar_pv_ppl</td>\n",
       "      <td>MWa / a</td>\n",
       "      <td>2030</td>\n",
       "      <td>electricity</td>\n",
       "      <td>11.351522</td>\n",
       "    </tr>\n",
       "    <tr>\n",
       "      <th>13</th>\n",
       "      <td>Maldives energy model</td>\n",
       "      <td>storage-oil-bound</td>\n",
       "      <td>Maldives</td>\n",
       "      <td>Electricity Generation|final|solar_pv_ppl</td>\n",
       "      <td>MWa / a</td>\n",
       "      <td>2035</td>\n",
       "      <td>electricity</td>\n",
       "      <td>14.587808</td>\n",
       "    </tr>\n",
       "    <tr>\n",
       "      <th>14</th>\n",
       "      <td>Maldives energy model</td>\n",
       "      <td>storage-oil-bound</td>\n",
       "      <td>Maldives</td>\n",
       "      <td>Electricity Generation|final|solar_pv_ppl</td>\n",
       "      <td>MWa / a</td>\n",
       "      <td>2040</td>\n",
       "      <td>electricity</td>\n",
       "      <td>17.217291</td>\n",
       "    </tr>\n",
       "    <tr>\n",
       "      <th>15</th>\n",
       "      <td>Maldives energy model</td>\n",
       "      <td>storage-oil-bound</td>\n",
       "      <td>Maldives</td>\n",
       "      <td>Electricity Generation|store|dummay</td>\n",
       "      <td>MWa / a</td>\n",
       "      <td>2020</td>\n",
       "      <td>electricity</td>\n",
       "      <td>0.568497</td>\n",
       "    </tr>\n",
       "    <tr>\n",
       "      <th>16</th>\n",
       "      <td>Maldives energy model</td>\n",
       "      <td>storage-oil-bound</td>\n",
       "      <td>Maldives</td>\n",
       "      <td>Electricity Generation|store|dummay</td>\n",
       "      <td>MWa / a</td>\n",
       "      <td>2025</td>\n",
       "      <td>electricity</td>\n",
       "      <td>2.844011</td>\n",
       "    </tr>\n",
       "    <tr>\n",
       "      <th>17</th>\n",
       "      <td>Maldives energy model</td>\n",
       "      <td>storage-oil-bound</td>\n",
       "      <td>Maldives</td>\n",
       "      <td>Electricity Generation|store|dummay</td>\n",
       "      <td>MWa / a</td>\n",
       "      <td>2030</td>\n",
       "      <td>electricity</td>\n",
       "      <td>5.675761</td>\n",
       "    </tr>\n",
       "    <tr>\n",
       "      <th>18</th>\n",
       "      <td>Maldives energy model</td>\n",
       "      <td>storage-oil-bound</td>\n",
       "      <td>Maldives</td>\n",
       "      <td>Electricity Generation|store|dummay</td>\n",
       "      <td>MWa / a</td>\n",
       "      <td>2035</td>\n",
       "      <td>electricity</td>\n",
       "      <td>7.293904</td>\n",
       "    </tr>\n",
       "    <tr>\n",
       "      <th>19</th>\n",
       "      <td>Maldives energy model</td>\n",
       "      <td>storage-oil-bound</td>\n",
       "      <td>Maldives</td>\n",
       "      <td>Electricity Generation|store|dummay</td>\n",
       "      <td>MWa / a</td>\n",
       "      <td>2040</td>\n",
       "      <td>electricity</td>\n",
       "      <td>8.608645</td>\n",
       "    </tr>\n",
       "  </tbody>\n",
       "</table>\n",
       "</div>"
      ],
      "text/plain": [
       "                    model           scenario    region  \\\n",
       "0   Maldives energy model  storage-oil-bound  Maldives   \n",
       "1   Maldives energy model  storage-oil-bound  Maldives   \n",
       "2   Maldives energy model  storage-oil-bound  Maldives   \n",
       "3   Maldives energy model  storage-oil-bound  Maldives   \n",
       "4   Maldives energy model  storage-oil-bound  Maldives   \n",
       "5   Maldives energy model  storage-oil-bound  Maldives   \n",
       "6   Maldives energy model  storage-oil-bound  Maldives   \n",
       "7   Maldives energy model  storage-oil-bound  Maldives   \n",
       "8   Maldives energy model  storage-oil-bound  Maldives   \n",
       "9   Maldives energy model  storage-oil-bound  Maldives   \n",
       "10  Maldives energy model  storage-oil-bound  Maldives   \n",
       "11  Maldives energy model  storage-oil-bound  Maldives   \n",
       "12  Maldives energy model  storage-oil-bound  Maldives   \n",
       "13  Maldives energy model  storage-oil-bound  Maldives   \n",
       "14  Maldives energy model  storage-oil-bound  Maldives   \n",
       "15  Maldives energy model  storage-oil-bound  Maldives   \n",
       "16  Maldives energy model  storage-oil-bound  Maldives   \n",
       "17  Maldives energy model  storage-oil-bound  Maldives   \n",
       "18  Maldives energy model  storage-oil-bound  Maldives   \n",
       "19  Maldives energy model  storage-oil-bound  Maldives   \n",
       "\n",
       "                                     variable     unit  year            c  \\\n",
       "0    Electricity Generation|final|battery_ppl  MWa / a  2020  electricity   \n",
       "1    Electricity Generation|final|battery_ppl  MWa / a  2025  electricity   \n",
       "2    Electricity Generation|final|battery_ppl  MWa / a  2030  electricity   \n",
       "3    Electricity Generation|final|battery_ppl  MWa / a  2035  electricity   \n",
       "4    Electricity Generation|final|battery_ppl  MWa / a  2040  electricity   \n",
       "5        Electricity Generation|final|oil_ppl  MWa / a  2020  electricity   \n",
       "6        Electricity Generation|final|oil_ppl  MWa / a  2025  electricity   \n",
       "7        Electricity Generation|final|oil_ppl  MWa / a  2030  electricity   \n",
       "8        Electricity Generation|final|oil_ppl  MWa / a  2035  electricity   \n",
       "9        Electricity Generation|final|oil_ppl  MWa / a  2040  electricity   \n",
       "10  Electricity Generation|final|solar_pv_ppl  MWa / a  2020  electricity   \n",
       "11  Electricity Generation|final|solar_pv_ppl  MWa / a  2025  electricity   \n",
       "12  Electricity Generation|final|solar_pv_ppl  MWa / a  2030  electricity   \n",
       "13  Electricity Generation|final|solar_pv_ppl  MWa / a  2035  electricity   \n",
       "14  Electricity Generation|final|solar_pv_ppl  MWa / a  2040  electricity   \n",
       "15        Electricity Generation|store|dummay  MWa / a  2020  electricity   \n",
       "16        Electricity Generation|store|dummay  MWa / a  2025  electricity   \n",
       "17        Electricity Generation|store|dummay  MWa / a  2030  electricity   \n",
       "18        Electricity Generation|store|dummay  MWa / a  2035  electricity   \n",
       "19        Electricity Generation|store|dummay  MWa / a  2040  electricity   \n",
       "\n",
       "        value  \n",
       "0    0.568497  \n",
       "1    2.844011  \n",
       "2    5.675761  \n",
       "3    7.293904  \n",
       "4    8.608645  \n",
       "5   20.000000  \n",
       "6   20.000000  \n",
       "7   20.000000  \n",
       "8   20.000000  \n",
       "9   20.000000  \n",
       "10   1.136994  \n",
       "11   5.688021  \n",
       "12  11.351522  \n",
       "13  14.587808  \n",
       "14  17.217291  \n",
       "15   0.568497  \n",
       "16   2.844011  \n",
       "17   5.675761  \n",
       "18   7.293904  \n",
       "19   8.608645  "
      ]
     },
     "execution_count": 39,
     "metadata": {},
     "output_type": "execute_result"
    }
   ],
   "source": [
    "# Loading data from csv into a pyam format\n",
    "elec_gen = pyam.IamDataFrame(data='electricity_stor.csv', encoding='ISO-8859-1')\n",
    "# Looking into data in the pyam format\n",
    "elec_gen.data"
   ]
  },
  {
   "cell_type": "code",
   "execution_count": 40,
   "metadata": {
    "scrolled": true
   },
   "outputs": [
    {
     "data": {
      "text/plain": [
       "<AxesSubplot:title={'center':'Electricity Generation by technology'}, xlabel='MWa / a', ylabel='Year'>"
      ]
     },
     "execution_count": 40,
     "metadata": {},
     "output_type": "execute_result"
    },
    {
     "data": {
      "image/png": "[encoded data removed]",
      "text/plain": [
       "<Figure size 432x288 with 1 Axes>"
      ]
     },
     "metadata": {},
     "output_type": "display_data"
    }
   ],
   "source": [
    "plotyrs = [x for x in set(sc_lo.set('year')) if x >= sc_lo.firstmodelyear]\n",
    "elec = elec_gen.filter(region=['Maldives'], variable='Electricity Generation|final|*', year=plotyrs)\n",
    "elec.plot.bar(stacked=True, orient='h',\n",
    "              title='Electricity Generation by technology')"
   ]
  },
  {
   "cell_type": "code",
   "execution_count": 41,
   "metadata": {},
   "outputs": [
    {
     "name": "stderr",
     "output_type": "stream",
     "text": [
      "message_ix.reporting.pyam - WARNING: Extra columns ['c'] when converting None to IAMC format\n"
     ]
    }
   ],
   "source": [
    "rep.set_filters(c = 'freshwater')\n",
    "wat = rep.full_key('out')\n",
    "wat = wat.drop('yv','m','nd','hd','h')\n",
    "wat_gen = rep.get(wat)\n",
    "wat_gen\n",
    "\n",
    "def collapse_callback(df):\n",
    "    \"\"\"Callback function to populate the IAMC 'variable' column.\"\"\"\n",
    "    df['variable'] = 'Electricity Generation|' + df['l']+ '|'+df['t']\n",
    "    return df.drop(['t','l'], axis =1)\n",
    "    \n",
    "new_key = rep.convert_pyam(\n",
    "        quantities=wat,\n",
    "        year_time_dim='ya',\n",
    "        collapse=collapse_callback)\n",
    "    \n",
    "new_key = new_key[0]  # Unwrap the single item in the list\n",
    "    \n",
    "df_wat = rep.get(new_key)\n",
    "df_wat.data.unit = 'm^3'\n",
    "df_wat.to_csv('freshwater_stor.csv')"
   ]
  },
  {
   "cell_type": "code",
   "execution_count": 42,
   "metadata": {},
   "outputs": [],
   "source": [
    "wat_gen = pd.read_csv(\"freshwater_stor.csv\")"
   ]
  },
  {
   "cell_type": "code",
   "execution_count": 43,
   "metadata": {},
   "outputs": [
    {
     "name": "stderr",
     "output_type": "stream",
     "text": [
      "pyam.core - INFO: Reading file freshwater_stor.csv\n"
     ]
    },
    {
     "data": {
      "text/html": [
       "<div>\n",
       "<style scoped>\n",
       "    .dataframe tbody tr th:only-of-type {\n",
       "        vertical-align: middle;\n",
       "    }\n",
       "\n",
       "    .dataframe tbody tr th {\n",
       "        vertical-align: top;\n",
       "    }\n",
       "\n",
       "    .dataframe thead th {\n",
       "        text-align: right;\n",
       "    }\n",
       "</style>\n",
       "<table border=\"1\" class=\"dataframe\">\n",
       "  <thead>\n",
       "    <tr style=\"text-align: right;\">\n",
       "      <th></th>\n",
       "      <th>model</th>\n",
       "      <th>scenario</th>\n",
       "      <th>region</th>\n",
       "      <th>variable</th>\n",
       "      <th>unit</th>\n",
       "      <th>year</th>\n",
       "      <th>c</th>\n",
       "      <th>value</th>\n",
       "    </tr>\n",
       "  </thead>\n",
       "  <tbody>\n",
       "    <tr>\n",
       "      <th>0</th>\n",
       "      <td>Maldives energy model</td>\n",
       "      <td>storage-oil-bound</td>\n",
       "      <td>Maldives</td>\n",
       "      <td>Electricity Generation|useful|dscd</td>\n",
       "      <td>m ** 3 / a</td>\n",
       "      <td>2020</td>\n",
       "      <td>freshwater</td>\n",
       "      <td>3108164.4</td>\n",
       "    </tr>\n",
       "    <tr>\n",
       "      <th>1</th>\n",
       "      <td>Maldives energy model</td>\n",
       "      <td>storage-oil-bound</td>\n",
       "      <td>Maldives</td>\n",
       "      <td>Electricity Generation|useful|dscd</td>\n",
       "      <td>m ** 3 / a</td>\n",
       "      <td>2025</td>\n",
       "      <td>freshwater</td>\n",
       "      <td>3777386.4</td>\n",
       "    </tr>\n",
       "    <tr>\n",
       "      <th>2</th>\n",
       "      <td>Maldives energy model</td>\n",
       "      <td>storage-oil-bound</td>\n",
       "      <td>Maldives</td>\n",
       "      <td>Electricity Generation|useful|dscd</td>\n",
       "      <td>m ** 3 / a</td>\n",
       "      <td>2030</td>\n",
       "      <td>freshwater</td>\n",
       "      <td>4610196.0</td>\n",
       "    </tr>\n",
       "    <tr>\n",
       "      <th>3</th>\n",
       "      <td>Maldives energy model</td>\n",
       "      <td>storage-oil-bound</td>\n",
       "      <td>Maldives</td>\n",
       "      <td>Electricity Generation|useful|dscd</td>\n",
       "      <td>m ** 3 / a</td>\n",
       "      <td>2035</td>\n",
       "      <td>freshwater</td>\n",
       "      <td>5086087.2</td>\n",
       "    </tr>\n",
       "    <tr>\n",
       "      <th>4</th>\n",
       "      <td>Maldives energy model</td>\n",
       "      <td>storage-oil-bound</td>\n",
       "      <td>Maldives</td>\n",
       "      <td>Electricity Generation|useful|dscd</td>\n",
       "      <td>m ** 3 / a</td>\n",
       "      <td>2040</td>\n",
       "      <td>freshwater</td>\n",
       "      <td>5472748.8</td>\n",
       "    </tr>\n",
       "    <tr>\n",
       "      <th>5</th>\n",
       "      <td>Maldives energy model</td>\n",
       "      <td>storage-oil-bound</td>\n",
       "      <td>Maldives</td>\n",
       "      <td>Electricity Generation|useful|ro_pl</td>\n",
       "      <td>m ** 3 / a</td>\n",
       "      <td>2020</td>\n",
       "      <td>freshwater</td>\n",
       "      <td>15200235.6</td>\n",
       "    </tr>\n",
       "    <tr>\n",
       "      <th>6</th>\n",
       "      <td>Maldives energy model</td>\n",
       "      <td>storage-oil-bound</td>\n",
       "      <td>Maldives</td>\n",
       "      <td>Electricity Generation|useful|ro_pl</td>\n",
       "      <td>m ** 3 / a</td>\n",
       "      <td>2025</td>\n",
       "      <td>freshwater</td>\n",
       "      <td>18473013.6</td>\n",
       "    </tr>\n",
       "    <tr>\n",
       "      <th>7</th>\n",
       "      <td>Maldives energy model</td>\n",
       "      <td>storage-oil-bound</td>\n",
       "      <td>Maldives</td>\n",
       "      <td>Electricity Generation|useful|ro_pl</td>\n",
       "      <td>m ** 3 / a</td>\n",
       "      <td>2030</td>\n",
       "      <td>freshwater</td>\n",
       "      <td>22545804.0</td>\n",
       "    </tr>\n",
       "    <tr>\n",
       "      <th>8</th>\n",
       "      <td>Maldives energy model</td>\n",
       "      <td>storage-oil-bound</td>\n",
       "      <td>Maldives</td>\n",
       "      <td>Electricity Generation|useful|ro_pl</td>\n",
       "      <td>m ** 3 / a</td>\n",
       "      <td>2035</td>\n",
       "      <td>freshwater</td>\n",
       "      <td>24873112.8</td>\n",
       "    </tr>\n",
       "    <tr>\n",
       "      <th>9</th>\n",
       "      <td>Maldives energy model</td>\n",
       "      <td>storage-oil-bound</td>\n",
       "      <td>Maldives</td>\n",
       "      <td>Electricity Generation|useful|ro_pl</td>\n",
       "      <td>m ** 3 / a</td>\n",
       "      <td>2040</td>\n",
       "      <td>freshwater</td>\n",
       "      <td>26764051.2</td>\n",
       "    </tr>\n",
       "  </tbody>\n",
       "</table>\n",
       "</div>"
      ],
      "text/plain": [
       "                   model           scenario    region  \\\n",
       "0  Maldives energy model  storage-oil-bound  Maldives   \n",
       "1  Maldives energy model  storage-oil-bound  Maldives   \n",
       "2  Maldives energy model  storage-oil-bound  Maldives   \n",
       "3  Maldives energy model  storage-oil-bound  Maldives   \n",
       "4  Maldives energy model  storage-oil-bound  Maldives   \n",
       "5  Maldives energy model  storage-oil-bound  Maldives   \n",
       "6  Maldives energy model  storage-oil-bound  Maldives   \n",
       "7  Maldives energy model  storage-oil-bound  Maldives   \n",
       "8  Maldives energy model  storage-oil-bound  Maldives   \n",
       "9  Maldives energy model  storage-oil-bound  Maldives   \n",
       "\n",
       "                              variable        unit  year           c  \\\n",
       "0   Electricity Generation|useful|dscd  m ** 3 / a  2020  freshwater   \n",
       "1   Electricity Generation|useful|dscd  m ** 3 / a  2025  freshwater   \n",
       "2   Electricity Generation|useful|dscd  m ** 3 / a  2030  freshwater   \n",
       "3   Electricity Generation|useful|dscd  m ** 3 / a  2035  freshwater   \n",
       "4   Electricity Generation|useful|dscd  m ** 3 / a  2040  freshwater   \n",
       "5  Electricity Generation|useful|ro_pl  m ** 3 / a  2020  freshwater   \n",
       "6  Electricity Generation|useful|ro_pl  m ** 3 / a  2025  freshwater   \n",
       "7  Electricity Generation|useful|ro_pl  m ** 3 / a  2030  freshwater   \n",
       "8  Electricity Generation|useful|ro_pl  m ** 3 / a  2035  freshwater   \n",
       "9  Electricity Generation|useful|ro_pl  m ** 3 / a  2040  freshwater   \n",
       "\n",
       "        value  \n",
       "0   3108164.4  \n",
       "1   3777386.4  \n",
       "2   4610196.0  \n",
       "3   5086087.2  \n",
       "4   5472748.8  \n",
       "5  15200235.6  \n",
       "6  18473013.6  \n",
       "7  22545804.0  \n",
       "8  24873112.8  \n",
       "9  26764051.2  "
      ]
     },
     "execution_count": 43,
     "metadata": {},
     "output_type": "execute_result"
    }
   ],
   "source": [
    "# Loading data from csv into a pyam format\n",
    "wat_gen = pyam.IamDataFrame(data='freshwater_stor.csv', encoding='ISO-8859-1')\n",
    "# Looking into data in the pyam format\n",
    "wat_gen.data"
   ]
  },
  {
   "cell_type": "code",
   "execution_count": 44,
   "metadata": {},
   "outputs": [
    {
     "data": {
      "text/plain": [
       "<AxesSubplot:title={'center':'model: Maldives energy model scenario: storage-oil-bound region: Maldives'}, xlabel='Year', ylabel='m ** 3 / a'>"
      ]
     },
     "execution_count": 44,
     "metadata": {},
     "output_type": "execute_result"
    },
    {
     "data": {
      "image/png": "[encoded data removed]",
      "text/plain": [
       "<Figure size 432x288 with 1 Axes>"
      ]
     },
     "metadata": {},
     "output_type": "display_data"
    }
   ],
   "source": [
    "wat = wat_gen.filter(region=['Maldives'], variable='Electricity Generation|useful|*', year=plotyrs)\n",
    "wat.plot.bar(stacked=True)"
   ]
  },
  {
   "cell_type": "code",
   "execution_count": 45,
   "metadata": {},
   "outputs": [
    {
     "name": "stderr",
     "output_type": "stream",
     "text": [
      "message_ix.reporting.pyam - WARNING: Extra columns ['c'] when converting None to IAMC format\n"
     ]
    }
   ],
   "source": [
    "rep.set_filters(c = 'cooling')\n",
    "cool = rep.full_key('out')\n",
    "cool = cool.drop('yv','m','nd','hd','h')\n",
    "cool_gen = rep.get(cool)\n",
    "cool_gen\n",
    "\n",
    "def collapse_callback(df):\n",
    "    \"\"\"Callback function to populate the IAMC 'variable' column.\"\"\"\n",
    "    df['variable'] = 'Electricity Generation|' + df['l']+ '|'+df['t']\n",
    "    return df.drop(['t','l'], axis =1)\n",
    "    \n",
    "new_key = rep.convert_pyam(\n",
    "        quantities=cool,\n",
    "        year_time_dim='ya',\n",
    "        collapse=collapse_callback)\n",
    "    \n",
    "new_key = new_key[0]  # Unwrap the single item in the list\n",
    "    \n",
    "df_cool = rep.get(new_key)\n",
    "df_cool.data.unit = 'MWa'\n",
    "df_cool.to_csv('cooling_stor.csv')"
   ]
  },
  {
   "cell_type": "code",
   "execution_count": 46,
   "metadata": {
    "scrolled": true
   },
   "outputs": [
    {
     "data": {
      "text/plain": [
       "Index(['Model', 'Scenario', 'Region', 'Variable', 'Unit', 'C', '2020', '2025',\n",
       "       '2030', '2035', '2040'],\n",
       "      dtype='object')"
      ]
     },
     "execution_count": 46,
     "metadata": {},
     "output_type": "execute_result"
    }
   ],
   "source": [
    "cool_gen = pd.read_csv(\"cooling_stor.csv\")\n",
    "cool_gen.columns "
   ]
  },
  {
   "cell_type": "code",
   "execution_count": 47,
   "metadata": {},
   "outputs": [
    {
     "name": "stderr",
     "output_type": "stream",
     "text": [
      "pyam.core - INFO: Reading file cooling_stor.csv\n"
     ]
    },
    {
     "data": {
      "text/html": [
       "<div>\n",
       "<style scoped>\n",
       "    .dataframe tbody tr th:only-of-type {\n",
       "        vertical-align: middle;\n",
       "    }\n",
       "\n",
       "    .dataframe tbody tr th {\n",
       "        vertical-align: top;\n",
       "    }\n",
       "\n",
       "    .dataframe thead th {\n",
       "        text-align: right;\n",
       "    }\n",
       "</style>\n",
       "<table border=\"1\" class=\"dataframe\">\n",
       "  <thead>\n",
       "    <tr style=\"text-align: right;\">\n",
       "      <th></th>\n",
       "      <th>model</th>\n",
       "      <th>scenario</th>\n",
       "      <th>region</th>\n",
       "      <th>variable</th>\n",
       "      <th>unit</th>\n",
       "      <th>year</th>\n",
       "      <th>c</th>\n",
       "      <th>value</th>\n",
       "    </tr>\n",
       "  </thead>\n",
       "  <tbody>\n",
       "    <tr>\n",
       "      <th>0</th>\n",
       "      <td>Maldives energy model</td>\n",
       "      <td>storage-oil-bound</td>\n",
       "      <td>Maldives</td>\n",
       "      <td>Electricity Generation|useful|ac</td>\n",
       "      <td>MWa_th / a</td>\n",
       "      <td>2020</td>\n",
       "      <td>cooling</td>\n",
       "      <td>0.000000</td>\n",
       "    </tr>\n",
       "    <tr>\n",
       "      <th>1</th>\n",
       "      <td>Maldives energy model</td>\n",
       "      <td>storage-oil-bound</td>\n",
       "      <td>Maldives</td>\n",
       "      <td>Electricity Generation|useful|ac</td>\n",
       "      <td>MWa_th / a</td>\n",
       "      <td>2025</td>\n",
       "      <td>cooling</td>\n",
       "      <td>0.000000</td>\n",
       "    </tr>\n",
       "    <tr>\n",
       "      <th>2</th>\n",
       "      <td>Maldives energy model</td>\n",
       "      <td>storage-oil-bound</td>\n",
       "      <td>Maldives</td>\n",
       "      <td>Electricity Generation|useful|ac</td>\n",
       "      <td>MWa_th / a</td>\n",
       "      <td>2030</td>\n",
       "      <td>cooling</td>\n",
       "      <td>0.000000</td>\n",
       "    </tr>\n",
       "    <tr>\n",
       "      <th>3</th>\n",
       "      <td>Maldives energy model</td>\n",
       "      <td>storage-oil-bound</td>\n",
       "      <td>Maldives</td>\n",
       "      <td>Electricity Generation|useful|ac</td>\n",
       "      <td>MWa_th / a</td>\n",
       "      <td>2035</td>\n",
       "      <td>cooling</td>\n",
       "      <td>0.000000</td>\n",
       "    </tr>\n",
       "    <tr>\n",
       "      <th>4</th>\n",
       "      <td>Maldives energy model</td>\n",
       "      <td>storage-oil-bound</td>\n",
       "      <td>Maldives</td>\n",
       "      <td>Electricity Generation|useful|ac</td>\n",
       "      <td>MWa_th / a</td>\n",
       "      <td>2040</td>\n",
       "      <td>cooling</td>\n",
       "      <td>0.000000</td>\n",
       "    </tr>\n",
       "    <tr>\n",
       "      <th>5</th>\n",
       "      <td>Maldives energy model</td>\n",
       "      <td>storage-oil-bound</td>\n",
       "      <td>Maldives</td>\n",
       "      <td>Electricity Generation|useful|dscd</td>\n",
       "      <td>MWa_th / a</td>\n",
       "      <td>2020</td>\n",
       "      <td>cooling</td>\n",
       "      <td>19.711849</td>\n",
       "    </tr>\n",
       "    <tr>\n",
       "      <th>6</th>\n",
       "      <td>Maldives energy model</td>\n",
       "      <td>storage-oil-bound</td>\n",
       "      <td>Maldives</td>\n",
       "      <td>Electricity Generation|useful|dscd</td>\n",
       "      <td>MWa_th / a</td>\n",
       "      <td>2025</td>\n",
       "      <td>cooling</td>\n",
       "      <td>23.956027</td>\n",
       "    </tr>\n",
       "    <tr>\n",
       "      <th>7</th>\n",
       "      <td>Maldives energy model</td>\n",
       "      <td>storage-oil-bound</td>\n",
       "      <td>Maldives</td>\n",
       "      <td>Electricity Generation|useful|dscd</td>\n",
       "      <td>MWa_th / a</td>\n",
       "      <td>2030</td>\n",
       "      <td>cooling</td>\n",
       "      <td>29.237671</td>\n",
       "    </tr>\n",
       "    <tr>\n",
       "      <th>8</th>\n",
       "      <td>Maldives energy model</td>\n",
       "      <td>storage-oil-bound</td>\n",
       "      <td>Maldives</td>\n",
       "      <td>Electricity Generation|useful|dscd</td>\n",
       "      <td>MWa_th / a</td>\n",
       "      <td>2035</td>\n",
       "      <td>cooling</td>\n",
       "      <td>32.255753</td>\n",
       "    </tr>\n",
       "    <tr>\n",
       "      <th>9</th>\n",
       "      <td>Maldives energy model</td>\n",
       "      <td>storage-oil-bound</td>\n",
       "      <td>Maldives</td>\n",
       "      <td>Electricity Generation|useful|dscd</td>\n",
       "      <td>MWa_th / a</td>\n",
       "      <td>2040</td>\n",
       "      <td>cooling</td>\n",
       "      <td>34.707945</td>\n",
       "    </tr>\n",
       "    <tr>\n",
       "      <th>10</th>\n",
       "      <td>Maldives energy model</td>\n",
       "      <td>storage-oil-bound</td>\n",
       "      <td>Maldives</td>\n",
       "      <td>Electricity Generation|useful|swac</td>\n",
       "      <td>MWa_th / a</td>\n",
       "      <td>2020</td>\n",
       "      <td>cooling</td>\n",
       "      <td>0.000000</td>\n",
       "    </tr>\n",
       "    <tr>\n",
       "      <th>11</th>\n",
       "      <td>Maldives energy model</td>\n",
       "      <td>storage-oil-bound</td>\n",
       "      <td>Maldives</td>\n",
       "      <td>Electricity Generation|useful|swac</td>\n",
       "      <td>MWa_th / a</td>\n",
       "      <td>2025</td>\n",
       "      <td>cooling</td>\n",
       "      <td>0.000000</td>\n",
       "    </tr>\n",
       "    <tr>\n",
       "      <th>12</th>\n",
       "      <td>Maldives energy model</td>\n",
       "      <td>storage-oil-bound</td>\n",
       "      <td>Maldives</td>\n",
       "      <td>Electricity Generation|useful|swac</td>\n",
       "      <td>MWa_th / a</td>\n",
       "      <td>2030</td>\n",
       "      <td>cooling</td>\n",
       "      <td>0.000000</td>\n",
       "    </tr>\n",
       "    <tr>\n",
       "      <th>13</th>\n",
       "      <td>Maldives energy model</td>\n",
       "      <td>storage-oil-bound</td>\n",
       "      <td>Maldives</td>\n",
       "      <td>Electricity Generation|useful|swac</td>\n",
       "      <td>MWa_th / a</td>\n",
       "      <td>2035</td>\n",
       "      <td>cooling</td>\n",
       "      <td>0.000000</td>\n",
       "    </tr>\n",
       "    <tr>\n",
       "      <th>14</th>\n",
       "      <td>Maldives energy model</td>\n",
       "      <td>storage-oil-bound</td>\n",
       "      <td>Maldives</td>\n",
       "      <td>Electricity Generation|useful|swac</td>\n",
       "      <td>MWa_th / a</td>\n",
       "      <td>2040</td>\n",
       "      <td>cooling</td>\n",
       "      <td>0.000000</td>\n",
       "    </tr>\n",
       "  </tbody>\n",
       "</table>\n",
       "</div>"
      ],
      "text/plain": [
       "                    model           scenario    region  \\\n",
       "0   Maldives energy model  storage-oil-bound  Maldives   \n",
       "1   Maldives energy model  storage-oil-bound  Maldives   \n",
       "2   Maldives energy model  storage-oil-bound  Maldives   \n",
       "3   Maldives energy model  storage-oil-bound  Maldives   \n",
       "4   Maldives energy model  storage-oil-bound  Maldives   \n",
       "5   Maldives energy model  storage-oil-bound  Maldives   \n",
       "6   Maldives energy model  storage-oil-bound  Maldives   \n",
       "7   Maldives energy model  storage-oil-bound  Maldives   \n",
       "8   Maldives energy model  storage-oil-bound  Maldives   \n",
       "9   Maldives energy model  storage-oil-bound  Maldives   \n",
       "10  Maldives energy model  storage-oil-bound  Maldives   \n",
       "11  Maldives energy model  storage-oil-bound  Maldives   \n",
       "12  Maldives energy model  storage-oil-bound  Maldives   \n",
       "13  Maldives energy model  storage-oil-bound  Maldives   \n",
       "14  Maldives energy model  storage-oil-bound  Maldives   \n",
       "\n",
       "                              variable        unit  year        c      value  \n",
       "0     Electricity Generation|useful|ac  MWa_th / a  2020  cooling   0.000000  \n",
       "1     Electricity Generation|useful|ac  MWa_th / a  2025  cooling   0.000000  \n",
       "2     Electricity Generation|useful|ac  MWa_th / a  2030  cooling   0.000000  \n",
       "3     Electricity Generation|useful|ac  MWa_th / a  2035  cooling   0.000000  \n",
       "4     Electricity Generation|useful|ac  MWa_th / a  2040  cooling   0.000000  \n",
       "5   Electricity Generation|useful|dscd  MWa_th / a  2020  cooling  19.711849  \n",
       "6   Electricity Generation|useful|dscd  MWa_th / a  2025  cooling  23.956027  \n",
       "7   Electricity Generation|useful|dscd  MWa_th / a  2030  cooling  29.237671  \n",
       "8   Electricity Generation|useful|dscd  MWa_th / a  2035  cooling  32.255753  \n",
       "9   Electricity Generation|useful|dscd  MWa_th / a  2040  cooling  34.707945  \n",
       "10  Electricity Generation|useful|swac  MWa_th / a  2020  cooling   0.000000  \n",
       "11  Electricity Generation|useful|swac  MWa_th / a  2025  cooling   0.000000  \n",
       "12  Electricity Generation|useful|swac  MWa_th / a  2030  cooling   0.000000  \n",
       "13  Electricity Generation|useful|swac  MWa_th / a  2035  cooling   0.000000  \n",
       "14  Electricity Generation|useful|swac  MWa_th / a  2040  cooling   0.000000  "
      ]
     },
     "execution_count": 47,
     "metadata": {},
     "output_type": "execute_result"
    }
   ],
   "source": [
    "# Loading data from csv into a pyam format\n",
    "cool_gen = pyam.IamDataFrame(data='cooling_stor.csv', encoding='ISO-8859-1')\n",
    "# Looking into data in the pyam format\n",
    "cool_gen.data"
   ]
  },
  {
   "cell_type": "code",
   "execution_count": 48,
   "metadata": {},
   "outputs": [
    {
     "data": {
      "text/plain": [
       "<AxesSubplot:title={'center':'model: Maldives energy model scenario: storage-oil-bound region: Maldives'}, xlabel='Year', ylabel='MWa_th / a'>"
      ]
     },
     "execution_count": 48,
     "metadata": {},
     "output_type": "execute_result"
    },
    {
     "data": {
      "image/png": "[encoded data removed]",
      "text/plain": [
       "<Figure size 432x288 with 1 Axes>"
      ]
     },
     "metadata": {},
     "output_type": "display_data"
    }
   ],
   "source": [
    "cool = cool_gen.filter(region=['Maldives'], variable='Electricity Generation|useful|*', year=plotyrs)\n",
    "cool.plot.bar(stacked=True)"
   ]
  },
  {
   "cell_type": "code",
   "execution_count": 69,
   "metadata": {},
   "outputs": [],
   "source": [
    "mp.close_db()"
   ]
  },
  {
   "cell_type": "code",
   "execution_count": null,
   "metadata": {},
   "outputs": [],
   "source": []
  }
 ],
 "metadata": {
  "kernelspec": {
   "display_name": "Python 3",
   "language": "python",
   "name": "python3"
  },
  "language_info": {
   "codemirror_mode": {
    "name": "ipython",
    "version": 3
   },
   "file_extension": ".py",
   "mimetype": "text/x-python",
   "name": "python",
   "nbconvert_exporter": "python",
   "pygments_lexer": "ipython3",
   "version": "3.8.8"
  }
 },
 "nbformat": 4,
 "nbformat_minor": 4
}
