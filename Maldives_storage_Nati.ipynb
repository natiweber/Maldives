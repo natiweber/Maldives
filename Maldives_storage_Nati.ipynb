{
 "cells": [
  {
   "cell_type": "markdown",
   "metadata": {},
   "source": [
    "## Adding sub-annual time slices and storage\n",
    "This script adds seasonality and storage to Maldives model/scenario\n",
    "For more information on seasonality, please refer to [this tutorial](<https://github.com/iiasa/message_ix/blob/master/tutorial/westeros/westeros_seasonality.ipynb>)"
   ]
  },
  {
   "cell_type": "code",
   "execution_count": 1,
   "metadata": {},
   "outputs": [],
   "source": [
    "# Importing required packages\n",
    "import itertools\n",
    "import pandas as pd\n",
    "\n",
    "import matplotlib.pyplot as plt\n",
    "%matplotlib inline\n",
    "plt.style.use('ggplot')\n",
    "\n",
    "import ixmp\n",
    "import message_ix\n",
    "\n",
    "from message_ix.utils import make_df"
   ]
  },
  {
   "cell_type": "code",
   "execution_count": 2,
   "metadata": {},
   "outputs": [],
   "source": [
    "mp = ixmp.Platform(name='local')"
   ]
  },
  {
   "cell_type": "code",
   "execution_count": 3,
   "metadata": {},
   "outputs": [],
   "source": [
    "# Loading a baseline scenario\n",
    "model = \"Maldives energy model\"\n",
    "#scen = \"baseline\"\n",
    "#version = 1\n",
    "base = message_ix.Scenario(mp, model=model, scenario='baseline')\n",
    "\n",
    "# Cloning to a new scenario for editing\n",
    "scen = base.clone(model, 'time-slice', \n",
    "                  keep_solution=False)\n",
    "\n",
    "# Checking out the scenario for editing\n",
    "scen.check_out()"
   ]
  },
  {
   "cell_type": "markdown",
   "metadata": {},
   "source": [
    "### 1. Representing sub-annual time slices\n",
    "#### 1.1. Modifying sets"
   ]
  },
  {
   "cell_type": "code",
   "execution_count": 4,
   "metadata": {},
   "outputs": [],
   "source": [
    "# Adding sub-annual time steps\n",
    "time_steps = ['day', 'night']\n",
    "scen.add_set('time', time_steps)"
   ]
  },
  {
   "cell_type": "code",
   "execution_count": 5,
   "metadata": {},
   "outputs": [],
   "source": [
    "# Defining a new temporal level\n",
    "time_level = 'daylight'\n",
    "scen.add_set('lvl_temporal', time_level)\n",
    "\n",
    "# Adding temporal hierarchy\n",
    "for t in time_steps:\n",
    "    scen.add_set('map_temporal_hierarchy', [time_level, t, 'year'])"
   ]
  },
  {
   "cell_type": "markdown",
   "metadata": {},
   "source": [
    "#### 1.2 Modifying parameters"
   ]
  },
  {
   "cell_type": "code",
   "execution_count": 6,
   "metadata": {},
   "outputs": [],
   "source": [
    "# Adding duration time\n",
    "for t in time_steps:\n",
    "    scen.add_par('duration_time', [t], 1/len(time_steps), '-')"
   ]
  },
  {
   "cell_type": "markdown",
   "metadata": {},
   "source": [
    "We define a function for manupulating the data of parameters for each sub-annual time slice. This is used for changing demand, input/output, var_cost, etc."
   ]
  },
  {
   "cell_type": "code",
   "execution_count": 7,
   "metadata": {},
   "outputs": [],
   "source": [
    "# A function for adding sub-annual data to a parameter\n",
    "def yearly_to_season(scen, parameter, data, filters=None):\n",
    "    if filters:\n",
    "        old = scen.par(parameter, filters)\n",
    "    else:\n",
    "        old = scen.par(parameter)\n",
    "    scen.remove_par(parameter, old)\n",
    "    \n",
    "    # Finding \"time\" related indexes and updating the data\n",
    "    time_idx = [x for x in scen.idx_names(parameter) if 'time' in x]\n",
    "    for h in data.keys():\n",
    "        new = old.copy()\n",
    "        for time in time_idx:\n",
    "            new[time] = h\n",
    "        new['value'] = data[h] * old['value']\n",
    "        scen.add_par(parameter, new)"
   ]
  },
  {
   "cell_type": "code",
   "execution_count": 8,
   "metadata": {},
   "outputs": [],
   "source": [
    "# Modifying demand for each time slice\n",
    "# Electricity demand\n",
    "demand_data = {'day': 0.4, 'night': 0.60}\n",
    "filters = {'commodity': 'electricity'}\n",
    "yearly_to_season(scen, 'demand', demand_data) #added =None\n",
    "\n",
    "# Here, I just divid them the yearly demand for day and night equally\n",
    "demand_data = {'day': 0.50, 'night': 0.50}\n",
    "filters = {'commodity': ['cooling', 'freshwater']}\n",
    "yearly_to_season(scen, 'demand', demand_data) #added =None"
   ]
  },
  {
   "cell_type": "code",
   "execution_count": 9,
   "metadata": {},
   "outputs": [],
   "source": [
    "# Modifying input and output parameters for each time slice\n",
    "# Output of solar PV at night zero\n",
    "pv_data = {'day': 1, 'night': 0}\n",
    "pv_filters = {'technology': 'solar_pv_ppl'}\n",
    "yearly_to_season(scen, 'output', pv_data, pv_filters)\n",
    "\n",
    "# Output of other technologies\n",
    "fixed_data = {'day': 1, 'night': 1}\n",
    "other_filters = {'technology': ['oil_ppl', 'battery_ppl', 'ac', 'ro_pl', 'swac', 'dscd']}\n",
    "yearly_to_season(scen, 'output', fixed_data, other_filters)\n",
    "\n",
    "# Input of all technologies\n",
    "yearly_to_season(scen, 'input', fixed_data)"
   ]
  },
  {
   "cell_type": "code",
   "execution_count": 10,
   "metadata": {},
   "outputs": [],
   "source": [
    "# Modifying capacity factor\n",
    "# Yearly capacity factor of solar_pv in the baseline scenario\n",
    "cf_solar = scen.par('capacity_factor', {'technology': 'solar_pv_ppl'})['value'].mean()\n",
    "\n",
    "# Converting yearly capacity factor to day-night (multiplying CF by 2 for day)\n",
    "cf_data = {'day': 2, 'night': 0} \n",
    "yearly_to_season(scen, 'capacity_factor', cf_data, pv_filters)\n",
    "\n",
    "# Capacity factor of other technologies remains unchanged in each time slice\n",
    "yearly_to_season(scen, 'capacity_factor', fixed_data, other_filters)\n"
   ]
  },
  {
   "cell_type": "code",
   "execution_count": 11,
   "metadata": {},
   "outputs": [],
   "source": [
    "# Modifying initial penetration rates for each time slice\n",
    "half_data = {'day': 0.5, 'night': 0.5} \n",
    "yearly_to_season(scen, 'initial_activity_up', half_data)"
   ]
  },
  {
   "cell_type": "code",
   "execution_count": 12,
   "metadata": {},
   "outputs": [],
   "source": [
    "# Modifying historical activity \n",
    "hist_data = {'day': 1, 'night': 0}\n",
    "yearly_to_season(scen, 'historical_activity', hist_data, pv_filters)\n",
    "# For others divide equally between day and night\n",
    "hist_data = {'day': 0.5, 'night': 0.5}\n",
    "yearly_to_season(scen, 'historical_activity', hist_data, other_filters)"
   ]
  },
  {
   "cell_type": "code",
   "execution_count": 13,
   "metadata": {},
   "outputs": [],
   "source": [
    "# Modifying variable cost\n",
    "yearly_to_season(scen, 'var_cost', fixed_data)"
   ]
  },
  {
   "cell_type": "code",
   "execution_count": 14,
   "metadata": {},
   "outputs": [],
   "source": [
    "# Removing output of solar_pv at night"
   ]
  },
  {
   "cell_type": "code",
   "execution_count": 15,
   "metadata": {},
   "outputs": [],
   "source": [
    "scen.commit(comment='introducing seasonality')\n",
    "scen.set_as_default()"
   ]
  },
  {
   "cell_type": "code",
   "execution_count": 16,
   "metadata": {},
   "outputs": [],
   "source": [
    "scen.solve()"
   ]
  },
  {
   "cell_type": "markdown",
   "metadata": {},
   "source": [
    "### 2. Representing storage"
   ]
  },
  {
   "cell_type": "code",
   "execution_count": 17,
   "metadata": {},
   "outputs": [],
   "source": [
    "# Cloning to a new scenario for adding storage\n",
    "sc = scen.clone(model, 'storage', 'storage_solution', keep_solution=False)\n",
    "\n",
    "# Checking out the scenario for editing\n",
    "sc.check_out()"
   ]
  },
  {
   "cell_type": "markdown",
   "metadata": {},
   "source": [
    "#### 2.1 Configuring storage sets"
   ]
  },
  {
   "cell_type": "code",
   "execution_count": 18,
   "metadata": {},
   "outputs": [],
   "source": [
    "# Adding level of storage\n",
    "sc.add_set('level', 'store')\n",
    "\n",
    "# Adding storage technologies (based on the notation of: reservoir, charger, and discharger)\n",
    "sc.add_set('technology', ['battery_stor', 'dummay', 'battery_ppl'])\n",
    "\n",
    "# Adding a storage commodity\n",
    "sc.add_set('commodity', ['dummay'])\n",
    "\n",
    "# Specifying storage reservoir technology\n",
    "sc.add_set('storage_tec', 'battery_stor')\n",
    "\n",
    "# Specifying storage level\n",
    "sc.add_set('level_storage', 'store')\n",
    "\n",
    "# Adding mapping for storage and charger/discharger technologies\n",
    "for tec in ['dummay', 'battery_ppl']:\n",
    "    sc.add_set('map_tec_storage', ['Maldives', tec, 'battery_stor', 'store',\n",
    "                                     'electricity'])"
   ]
  },
  {
   "cell_type": "markdown",
   "metadata": {},
   "source": [
    "#### 2.2. Configuring storage parameters"
   ]
  },
  {
   "cell_type": "code",
   "execution_count": 19,
   "metadata": {},
   "outputs": [],
   "source": [
    "# Adding the order of time slices\n",
    "sc.add_par('time_order', ['daylight', 'day'], 1, '-')\n",
    "sc.add_par('time_order', ['daylight', 'night'], 2, '-')"
   ]
  },
  {
   "cell_type": "code",
   "execution_count": 20,
   "metadata": {},
   "outputs": [],
   "source": [
    "# Adding output and input for storage technologies\n",
    "# Loading the output of battery\n",
    "data = sc.par('output', {'technology': 'battery_ppl'})\n",
    "\n",
    "# Order of data: ['commodity', 'level']\n",
    "output_spec = {'battery_stor': ['dummay', 'final'],\n",
    "               'dummay': ['electricity', 'store'],\n",
    "               }\n",
    "for tec, item in output_spec.items():\n",
    "    data['technology'] = tec\n",
    "    data['commodity'] = item[0]\n",
    "    data['level'] = item[1]\n",
    "    sc.add_par('output', data)\n",
    "\n",
    "# Configuring input parameter\n",
    "data = data.rename({'node_dest': 'node_origin', 'time_dest': 'time_origin'}, axis=1)\n",
    "input_spec = {'battery_stor': ['dummay', 'final'],\n",
    "              'dummay': ['electricity', 'final'],\n",
    "              'battery_ppl': ['electricity', 'store'],\n",
    "              }\n",
    "\n",
    "for tec, item in input_spec.items():\n",
    "    data['technology'] = tec\n",
    "    data['commodity'] = item[0]\n",
    "    data['level'] = item[1]\n",
    "    sc.add_par('input', data)\n"
   ]
  },
  {
   "cell_type": "code",
   "execution_count": 21,
   "metadata": {},
   "outputs": [],
   "source": [
    "# Adding storage self-discharge (as %) and initial content (assuming 3% loss of battery charge between day and night (6%/day))\n",
    "for year, h in itertools.product(set(sc.set('year')), time_steps):\n",
    "    storage_spec = ['Maldives', 'battery_stor', 'store', 'dummay', year, h]\n",
    "    sc.add_par('storage_self_discharge', storage_spec, 0.03, '%')\n",
    "\n",
    "    # Adding initial content of storage (optional)\n",
    "    initial_value = 0\n",
    "    storage_spec = ['Maldives', 'battery_stor', 'store', 'dummay', year, 'day']\n",
    "    sc.add_par('storage_initial', storage_spec, initial_value, 'MWa')"
   ]
  },
  {
   "cell_type": "markdown",
   "metadata": {},
   "source": [
    "#### Committing and solving"
   ]
  },
  {
   "cell_type": "code",
   "execution_count": 22,
   "metadata": {
    "scrolled": false
   },
   "outputs": [
    {
     "ename": "at.ac.iiasa.ixmp.exceptions.IxException",
     "evalue": "at.ac.iiasa.ixmp.exceptions.IxException: There exists no variable 'STORAGE'!",
     "output_type": "error",
     "traceback": [
      "\u001b[1;31m---------------------------------------------------------------------------\u001b[0m",
      "\u001b[1;31mException\u001b[0m                                 Traceback (most recent call last)",
      "\u001b[1;32m~\\Anaconda3\\envs\\message\\lib\\site-packages\\_jpype.cp38-win_amd64.pyd\u001b[0m in \u001b[0;36mat.ac.iiasa.ixmp.objects.MsgScenario.readSolutionFromGDX\u001b[1;34m()\u001b[0m\n",
      "\u001b[1;32m~\\Anaconda3\\envs\\message\\lib\\site-packages\\_jpype.cp38-win_amd64.pyd\u001b[0m in \u001b[0;36mat.ac.iiasa.ixmp.objects.MsgScenario.readSolutionFromGDX\u001b[1;34m()\u001b[0m\n",
      "\u001b[1;32m~\\Anaconda3\\envs\\message\\lib\\site-packages\\_jpype.cp38-win_amd64.pyd\u001b[0m in \u001b[0;36mat.ac.iiasa.ixmp.objects.Scenario.readSolFromGDX\u001b[1;34m()\u001b[0m\n",
      "\u001b[1;32m~\\Anaconda3\\envs\\message\\lib\\site-packages\\_jpype.cp38-win_amd64.pyd\u001b[0m in \u001b[0;36mat.ac.iiasa.ixmp.objects.Scenario.internalVariablesFromGDX\u001b[1;34m()\u001b[0m\n",
      "\u001b[1;32m~\\Anaconda3\\envs\\message\\lib\\site-packages\\_jpype.cp38-win_amd64.pyd\u001b[0m in \u001b[0;36mat.ac.iiasa.ixmp.objects.Scenario.getVar\u001b[1;34m()\u001b[0m\n",
      "\u001b[1;32m~\\Anaconda3\\envs\\message\\lib\\site-packages\\_jpype.cp38-win_amd64.pyd\u001b[0m in \u001b[0;36mat.ac.iiasa.ixmp.objects.Scenario.getVar\u001b[1;34m()\u001b[0m\n",
      "\u001b[1;31mException\u001b[0m: Java Exception",
      "\nThe above exception was the direct cause of the following exception:\n",
      "\u001b[1;31mat.ac.iiasa.ixmp.exceptions.IxException\u001b[0m   Traceback (most recent call last)",
      "\u001b[1;32m<ipython-input-22-3299a8ec02f0>\u001b[0m in \u001b[0;36m<module>\u001b[1;34m\u001b[0m\n\u001b[0;32m      1\u001b[0m \u001b[0msc\u001b[0m\u001b[1;33m.\u001b[0m\u001b[0mcommit\u001b[0m\u001b[1;33m(\u001b[0m\u001b[1;34m'storage setup added'\u001b[0m\u001b[1;33m)\u001b[0m\u001b[1;33m\u001b[0m\u001b[1;33m\u001b[0m\u001b[0m\n\u001b[1;32m----> 2\u001b[1;33m \u001b[0msc\u001b[0m\u001b[1;33m.\u001b[0m\u001b[0msolve\u001b[0m\u001b[1;33m(\u001b[0m\u001b[0mvar_list\u001b[0m\u001b[1;33m=\u001b[0m\u001b[1;33m[\u001b[0m\u001b[1;34m'STORAGE'\u001b[0m\u001b[1;33m,\u001b[0m \u001b[1;34m'STORAGE_CHARGE'\u001b[0m\u001b[1;33m,\u001b[0m \u001b[1;34m'STORAGE_INIT'\u001b[0m\u001b[1;33m]\u001b[0m\u001b[1;33m)\u001b[0m\u001b[1;33m\u001b[0m\u001b[1;33m\u001b[0m\u001b[0m\n\u001b[0m",
      "\u001b[1;32m~\\Anaconda3\\envs\\message\\lib\\site-packages\\message_ix\\core.py\u001b[0m in \u001b[0;36msolve\u001b[1;34m(self, model, solve_options, **kwargs)\u001b[0m\n\u001b[0;32m    547\u001b[0m             \u001b[1;33m:\u001b[0m\u001b[1;32mclass\u001b[0m\u001b[1;33m:\u001b[0m\u001b[0;31m`\u001b[0m\u001b[1;33m.\u001b[0m\u001b[0mGAMSModel\u001b[0m\u001b[0;31m`\u001b[0m\u001b[1;33m.\u001b[0m\u001b[1;33m\u001b[0m\u001b[1;33m\u001b[0m\u001b[0m\n\u001b[0;32m    548\u001b[0m         \"\"\"\n\u001b[1;32m--> 549\u001b[1;33m         \u001b[0msuper\u001b[0m\u001b[1;33m(\u001b[0m\u001b[1;33m)\u001b[0m\u001b[1;33m.\u001b[0m\u001b[0msolve\u001b[0m\u001b[1;33m(\u001b[0m\u001b[0mmodel\u001b[0m\u001b[1;33m=\u001b[0m\u001b[0mmodel\u001b[0m\u001b[1;33m,\u001b[0m \u001b[0msolve_options\u001b[0m\u001b[1;33m=\u001b[0m\u001b[0msolve_options\u001b[0m\u001b[1;33m,\u001b[0m \u001b[1;33m**\u001b[0m\u001b[0mkwargs\u001b[0m\u001b[1;33m)\u001b[0m\u001b[1;33m\u001b[0m\u001b[1;33m\u001b[0m\u001b[0m\n\u001b[0m\u001b[0;32m    550\u001b[0m \u001b[1;33m\u001b[0m\u001b[0m\n\u001b[0;32m    551\u001b[0m     \u001b[1;32mdef\u001b[0m \u001b[0madd_macro\u001b[0m\u001b[1;33m(\u001b[0m\u001b[0mself\u001b[0m\u001b[1;33m,\u001b[0m \u001b[0mdata\u001b[0m\u001b[1;33m,\u001b[0m \u001b[0mscenario\u001b[0m\u001b[1;33m=\u001b[0m\u001b[1;32mNone\u001b[0m\u001b[1;33m,\u001b[0m \u001b[0mcheck_convergence\u001b[0m\u001b[1;33m=\u001b[0m\u001b[1;32mTrue\u001b[0m\u001b[1;33m,\u001b[0m \u001b[1;33m**\u001b[0m\u001b[0mkwargs\u001b[0m\u001b[1;33m)\u001b[0m\u001b[1;33m:\u001b[0m\u001b[1;33m\u001b[0m\u001b[1;33m\u001b[0m\u001b[0m\n",
      "\u001b[1;32m~\\Anaconda3\\envs\\message\\lib\\site-packages\\ixmp\\core.py\u001b[0m in \u001b[0;36msolve\u001b[1;34m(self, model, callback, cb_kwargs, **model_options)\u001b[0m\n\u001b[0;32m   1607\u001b[0m         \u001b[1;31m# Iterate until convergence\u001b[0m\u001b[1;33m\u001b[0m\u001b[1;33m\u001b[0m\u001b[1;33m\u001b[0m\u001b[0m\n\u001b[0;32m   1608\u001b[0m         \u001b[1;32mwhile\u001b[0m \u001b[1;32mTrue\u001b[0m\u001b[1;33m:\u001b[0m\u001b[1;33m\u001b[0m\u001b[1;33m\u001b[0m\u001b[0m\n\u001b[1;32m-> 1609\u001b[1;33m             \u001b[0mmodel\u001b[0m\u001b[1;33m.\u001b[0m\u001b[0mrun\u001b[0m\u001b[1;33m(\u001b[0m\u001b[0mself\u001b[0m\u001b[1;33m)\u001b[0m\u001b[1;33m\u001b[0m\u001b[1;33m\u001b[0m\u001b[0m\n\u001b[0m\u001b[0;32m   1610\u001b[0m \u001b[1;33m\u001b[0m\u001b[0m\n\u001b[0;32m   1611\u001b[0m             \u001b[1;31m# Store an iteration number to help the callback\u001b[0m\u001b[1;33m\u001b[0m\u001b[1;33m\u001b[0m\u001b[1;33m\u001b[0m\u001b[0m\n",
      "\u001b[1;32m~\\Anaconda3\\envs\\message\\lib\\site-packages\\message_ix\\models.py\u001b[0m in \u001b[0;36mrun\u001b[1;34m(self, scenario)\u001b[0m\n\u001b[0;32m    117\u001b[0m \u001b[1;33m\u001b[0m\u001b[0m\n\u001b[0;32m    118\u001b[0m         \u001b[1;32mtry\u001b[0m\u001b[1;33m:\u001b[0m\u001b[1;33m\u001b[0m\u001b[1;33m\u001b[0m\u001b[0m\n\u001b[1;32m--> 119\u001b[1;33m             \u001b[0mresult\u001b[0m \u001b[1;33m=\u001b[0m \u001b[0msuper\u001b[0m\u001b[1;33m(\u001b[0m\u001b[1;33m)\u001b[0m\u001b[1;33m.\u001b[0m\u001b[0mrun\u001b[0m\u001b[1;33m(\u001b[0m\u001b[0mscenario\u001b[0m\u001b[1;33m)\u001b[0m\u001b[1;33m\u001b[0m\u001b[1;33m\u001b[0m\u001b[0m\n\u001b[0m\u001b[0;32m    120\u001b[0m         \u001b[1;32mfinally\u001b[0m\u001b[1;33m:\u001b[0m\u001b[1;33m\u001b[0m\u001b[1;33m\u001b[0m\u001b[0m\n\u001b[0;32m    121\u001b[0m             \u001b[1;31m# Remove the optfile regardless of whether the run completed\u001b[0m\u001b[1;33m\u001b[0m\u001b[1;33m\u001b[0m\u001b[1;33m\u001b[0m\u001b[0m\n",
      "\u001b[1;32m~\\Anaconda3\\envs\\message\\lib\\site-packages\\ixmp\\model\\gams.py\u001b[0m in \u001b[0;36mrun\u001b[1;34m(self, scenario)\u001b[0m\n\u001b[0;32m    149\u001b[0m \u001b[1;33m\u001b[0m\u001b[0m\n\u001b[0;32m    150\u001b[0m         \u001b[1;31m# Read model solution\u001b[0m\u001b[1;33m\u001b[0m\u001b[1;33m\u001b[0m\u001b[1;33m\u001b[0m\u001b[0m\n\u001b[1;32m--> 151\u001b[1;33m         backend.read_file(self.out_file, ItemType.MODEL, **s_arg,\n\u001b[0m\u001b[0;32m    152\u001b[0m                           \u001b[0mcheck_solution\u001b[0m\u001b[1;33m=\u001b[0m\u001b[0mself\u001b[0m\u001b[1;33m.\u001b[0m\u001b[0mcheck_solution\u001b[0m\u001b[1;33m,\u001b[0m\u001b[1;33m\u001b[0m\u001b[1;33m\u001b[0m\u001b[0m\n\u001b[0;32m    153\u001b[0m                           \u001b[0mcomment\u001b[0m\u001b[1;33m=\u001b[0m\u001b[0mself\u001b[0m\u001b[1;33m.\u001b[0m\u001b[0mcomment\u001b[0m \u001b[1;32mor\u001b[0m \u001b[1;34m''\u001b[0m\u001b[1;33m,\u001b[0m\u001b[1;33m\u001b[0m\u001b[1;33m\u001b[0m\u001b[0m\n",
      "\u001b[1;32m~\\Anaconda3\\envs\\message\\lib\\site-packages\\ixmp\\backend\\jdbc.py\u001b[0m in \u001b[0;36mread_file\u001b[1;34m(self, path, item_type, **kwargs)\u001b[0m\n\u001b[0;32m    460\u001b[0m                 \u001b[1;32mraise\u001b[0m \u001b[0mValueError\u001b[0m\u001b[1;33m(\u001b[0m\u001b[1;34mf'extra keyword arguments {kwargs}'\u001b[0m\u001b[1;33m)\u001b[0m\u001b[1;33m\u001b[0m\u001b[1;33m\u001b[0m\u001b[0m\n\u001b[0;32m    461\u001b[0m \u001b[1;33m\u001b[0m\u001b[0m\n\u001b[1;32m--> 462\u001b[1;33m             \u001b[0mself\u001b[0m\u001b[1;33m.\u001b[0m\u001b[0mjindex\u001b[0m\u001b[1;33m[\u001b[0m\u001b[0mts\u001b[0m\u001b[1;33m]\u001b[0m\u001b[1;33m.\u001b[0m\u001b[0mreadSolutionFromGDX\u001b[0m\u001b[1;33m(\u001b[0m\u001b[1;33m*\u001b[0m\u001b[0margs\u001b[0m\u001b[1;33m)\u001b[0m\u001b[1;33m\u001b[0m\u001b[1;33m\u001b[0m\u001b[0m\n\u001b[0m\u001b[0;32m    463\u001b[0m \u001b[1;33m\u001b[0m\u001b[0m\n\u001b[0;32m    464\u001b[0m             \u001b[0mself\u001b[0m\u001b[1;33m.\u001b[0m\u001b[0mcache_invalidate\u001b[0m\u001b[1;33m(\u001b[0m\u001b[0mts\u001b[0m\u001b[1;33m)\u001b[0m\u001b[1;33m\u001b[0m\u001b[1;33m\u001b[0m\u001b[0m\n",
      "\u001b[1;31mat.ac.iiasa.ixmp.exceptions.IxException\u001b[0m: at.ac.iiasa.ixmp.exceptions.IxException: There exists no variable 'STORAGE'!"
     ]
    }
   ],
   "source": [
    "sc.commit('storage setup added')\n",
    "sc.solve(var_list=['STORAGE', 'STORAGE_CHARGE', 'STORAGE_INIT'])"
   ]
  },
  {
   "cell_type": "code",
   "execution_count": 42,
   "metadata": {
    "collapsed": true
   },
   "outputs": [
    {
     "ename": "RuntimeError",
     "evalue": "unhandled Java exception: There exists no variable 'STORAGE'!",
     "output_type": "error",
     "traceback": [
      "\u001b[1;31m---------------------------------------------------------------------------\u001b[0m",
      "\u001b[1;31mRuntimeError\u001b[0m                              Traceback (most recent call last)",
      "\u001b[1;32m<ipython-input-42-b99ce6c7078d>\u001b[0m in \u001b[0;36m<module>\u001b[1;34m\u001b[0m\n\u001b[0;32m      1\u001b[0m \u001b[1;31m# The battery doesn't work as it is expensive with PV (oil_ppl supplies all demand)\u001b[0m\u001b[1;33m\u001b[0m\u001b[1;33m\u001b[0m\u001b[1;33m\u001b[0m\u001b[0m\n\u001b[1;32m----> 2\u001b[1;33m \u001b[0msc\u001b[0m\u001b[1;33m.\u001b[0m\u001b[0mvar\u001b[0m\u001b[1;33m(\u001b[0m\u001b[1;34m'STORAGE'\u001b[0m\u001b[1;33m)\u001b[0m\u001b[1;33m\u001b[0m\u001b[1;33m\u001b[0m\u001b[0m\n\u001b[0m",
      "\u001b[1;32m~\\Anaconda3\\envs\\message\\lib\\site-packages\\message_ix\\core.py\u001b[0m in \u001b[0;36mvar\u001b[1;34m(self, name, filters)\u001b[0m\n\u001b[0;32m    170\u001b[0m             \u001b[0mFiltered\u001b[0m \u001b[0melements\u001b[0m \u001b[0mof\u001b[0m \u001b[0mthe\u001b[0m \u001b[0mvariable\u001b[0m\u001b[1;33m.\u001b[0m\u001b[1;33m\u001b[0m\u001b[1;33m\u001b[0m\u001b[0m\n\u001b[0;32m    171\u001b[0m         \"\"\"\n\u001b[1;32m--> 172\u001b[1;33m         \u001b[1;32mreturn\u001b[0m \u001b[0mself\u001b[0m\u001b[1;33m.\u001b[0m\u001b[0m_year_as_int\u001b[0m\u001b[1;33m(\u001b[0m\u001b[0mname\u001b[0m\u001b[1;33m,\u001b[0m \u001b[0msuper\u001b[0m\u001b[1;33m(\u001b[0m\u001b[1;33m)\u001b[0m\u001b[1;33m.\u001b[0m\u001b[0mvar\u001b[0m\u001b[1;33m(\u001b[0m\u001b[0mname\u001b[0m\u001b[1;33m,\u001b[0m \u001b[0mfilters\u001b[0m\u001b[1;33m)\u001b[0m\u001b[1;33m)\u001b[0m\u001b[1;33m\u001b[0m\u001b[1;33m\u001b[0m\u001b[0m\n\u001b[0m\u001b[0;32m    173\u001b[0m \u001b[1;33m\u001b[0m\u001b[0m\n\u001b[0;32m    174\u001b[0m     \u001b[1;32mdef\u001b[0m \u001b[0mcat_list\u001b[0m\u001b[1;33m(\u001b[0m\u001b[0mself\u001b[0m\u001b[1;33m,\u001b[0m \u001b[0mname\u001b[0m\u001b[1;33m)\u001b[0m\u001b[1;33m:\u001b[0m\u001b[1;33m\u001b[0m\u001b[1;33m\u001b[0m\u001b[0m\n",
      "\u001b[1;32m~\\Anaconda3\\envs\\message\\lib\\site-packages\\ixmp\\core.py\u001b[0m in \u001b[0;36mvar\u001b[1;34m(self, name, filters, **kwargs)\u001b[0m\n\u001b[0;32m   1418\u001b[0m             \u001b[0mindex\u001b[0m \u001b[0mnames\u001b[0m \u001b[0mmapped\u001b[0m \u001b[0mlist\u001b[0m \u001b[0mof\u001b[0m \u001b[0mindex\u001b[0m \u001b[0mset\u001b[0m \u001b[0melements\u001b[0m\u001b[1;33m\u001b[0m\u001b[1;33m\u001b[0m\u001b[0m\n\u001b[0;32m   1419\u001b[0m         \"\"\"\n\u001b[1;32m-> 1420\u001b[1;33m         \u001b[1;32mreturn\u001b[0m \u001b[0mself\u001b[0m\u001b[1;33m.\u001b[0m\u001b[0m_backend\u001b[0m\u001b[1;33m(\u001b[0m\u001b[1;34m'item_get_elements'\u001b[0m\u001b[1;33m,\u001b[0m \u001b[1;34m'var'\u001b[0m\u001b[1;33m,\u001b[0m \u001b[0mname\u001b[0m\u001b[1;33m,\u001b[0m \u001b[0mfilters\u001b[0m\u001b[1;33m)\u001b[0m\u001b[1;33m\u001b[0m\u001b[1;33m\u001b[0m\u001b[0m\n\u001b[0m\u001b[0;32m   1421\u001b[0m \u001b[1;33m\u001b[0m\u001b[0m\n\u001b[0;32m   1422\u001b[0m     \u001b[1;32mdef\u001b[0m \u001b[0mequ_list\u001b[0m\u001b[1;33m(\u001b[0m\u001b[0mself\u001b[0m\u001b[1;33m)\u001b[0m\u001b[1;33m:\u001b[0m\u001b[1;33m\u001b[0m\u001b[1;33m\u001b[0m\u001b[0m\n",
      "\u001b[1;32m~\\Anaconda3\\envs\\message\\lib\\site-packages\\ixmp\\core.py\u001b[0m in \u001b[0;36m_backend\u001b[1;34m(self, method, *args, **kwargs)\u001b[0m\n\u001b[0;32m    485\u001b[0m         \u001b[0mstill\u001b[0m \u001b[0malive\u001b[0m\u001b[1;33m.\u001b[0m\u001b[1;33m\u001b[0m\u001b[1;33m\u001b[0m\u001b[0m\n\u001b[0;32m    486\u001b[0m         \"\"\"\n\u001b[1;32m--> 487\u001b[1;33m         \u001b[1;32mreturn\u001b[0m \u001b[0mself\u001b[0m\u001b[1;33m.\u001b[0m\u001b[0mplatform\u001b[0m\u001b[1;33m.\u001b[0m\u001b[0m_backend\u001b[0m\u001b[1;33m(\u001b[0m\u001b[0mself\u001b[0m\u001b[1;33m,\u001b[0m \u001b[0mmethod\u001b[0m\u001b[1;33m,\u001b[0m \u001b[1;33m*\u001b[0m\u001b[0margs\u001b[0m\u001b[1;33m,\u001b[0m \u001b[1;33m**\u001b[0m\u001b[0mkwargs\u001b[0m\u001b[1;33m)\u001b[0m\u001b[1;33m\u001b[0m\u001b[1;33m\u001b[0m\u001b[0m\n\u001b[0m\u001b[0;32m    488\u001b[0m \u001b[1;33m\u001b[0m\u001b[0m\n\u001b[0;32m    489\u001b[0m     \u001b[1;32mdef\u001b[0m \u001b[0m__del__\u001b[0m\u001b[1;33m(\u001b[0m\u001b[0mself\u001b[0m\u001b[1;33m)\u001b[0m\u001b[1;33m:\u001b[0m\u001b[1;33m\u001b[0m\u001b[1;33m\u001b[0m\u001b[0m\n",
      "\u001b[1;32m~\\Anaconda3\\envs\\message\\lib\\site-packages\\ixmp\\backend\\base.py\u001b[0m in \u001b[0;36m__call__\u001b[1;34m(self, obj, method, *args, **kwargs)\u001b[0m\n\u001b[0;32m     21\u001b[0m         \u001b[1;32mfor\u001b[0m \u001b[0mthe\u001b[0m \u001b[0mmethod\u001b[0m \u001b[0mname\u001b[0m\u001b[1;33m,\u001b[0m \u001b[0me\u001b[0m\u001b[1;33m.\u001b[0m\u001b[0mg\u001b[0m\u001b[1;33m.\u001b[0m \u001b[1;34m'ts_{method}'\u001b[0m\u001b[1;33m.\u001b[0m\u001b[1;33m\u001b[0m\u001b[1;33m\u001b[0m\u001b[0m\n\u001b[0;32m     22\u001b[0m         \"\"\"\n\u001b[1;32m---> 23\u001b[1;33m         \u001b[1;32mreturn\u001b[0m \u001b[0mgetattr\u001b[0m\u001b[1;33m(\u001b[0m\u001b[0mself\u001b[0m\u001b[1;33m,\u001b[0m \u001b[0mmethod\u001b[0m\u001b[1;33m)\u001b[0m\u001b[1;33m(\u001b[0m\u001b[0mobj\u001b[0m\u001b[1;33m,\u001b[0m \u001b[1;33m*\u001b[0m\u001b[0margs\u001b[0m\u001b[1;33m,\u001b[0m \u001b[1;33m**\u001b[0m\u001b[0mkwargs\u001b[0m\u001b[1;33m)\u001b[0m\u001b[1;33m\u001b[0m\u001b[1;33m\u001b[0m\u001b[0m\n\u001b[0m\u001b[0;32m     24\u001b[0m \u001b[1;33m\u001b[0m\u001b[0m\n\u001b[0;32m     25\u001b[0m     \u001b[1;31m# Platform methods\u001b[0m\u001b[1;33m\u001b[0m\u001b[1;33m\u001b[0m\u001b[1;33m\u001b[0m\u001b[0m\n",
      "\u001b[1;32m~\\Anaconda3\\envs\\message\\lib\\site-packages\\ixmp\\backend\\jdbc.py\u001b[0m in \u001b[0;36mitem_get_elements\u001b[1;34m(self, s, type, name, filters)\u001b[0m\n\u001b[0;32m    839\u001b[0m \u001b[1;33m\u001b[0m\u001b[0m\n\u001b[0;32m    840\u001b[0m         \u001b[1;31m# Retrieve the item\u001b[0m\u001b[1;33m\u001b[0m\u001b[1;33m\u001b[0m\u001b[1;33m\u001b[0m\u001b[0m\n\u001b[1;32m--> 841\u001b[1;33m         \u001b[0mitem\u001b[0m \u001b[1;33m=\u001b[0m \u001b[0mself\u001b[0m\u001b[1;33m.\u001b[0m\u001b[0m_get_item\u001b[0m\u001b[1;33m(\u001b[0m\u001b[0ms\u001b[0m\u001b[1;33m,\u001b[0m \u001b[0mtype\u001b[0m\u001b[1;33m,\u001b[0m \u001b[0mname\u001b[0m\u001b[1;33m,\u001b[0m \u001b[0mload\u001b[0m\u001b[1;33m=\u001b[0m\u001b[1;32mTrue\u001b[0m\u001b[1;33m)\u001b[0m\u001b[1;33m\u001b[0m\u001b[1;33m\u001b[0m\u001b[0m\n\u001b[0m\u001b[0;32m    842\u001b[0m         \u001b[0midx_names\u001b[0m \u001b[1;33m=\u001b[0m \u001b[0mlist\u001b[0m\u001b[1;33m(\u001b[0m\u001b[0mitem\u001b[0m\u001b[1;33m.\u001b[0m\u001b[0mgetIdxNames\u001b[0m\u001b[1;33m(\u001b[0m\u001b[1;33m)\u001b[0m\u001b[1;33m)\u001b[0m\u001b[1;33m\u001b[0m\u001b[1;33m\u001b[0m\u001b[0m\n\u001b[0;32m    843\u001b[0m         \u001b[0midx_sets\u001b[0m \u001b[1;33m=\u001b[0m \u001b[0mlist\u001b[0m\u001b[1;33m(\u001b[0m\u001b[0mitem\u001b[0m\u001b[1;33m.\u001b[0m\u001b[0mgetIdxSets\u001b[0m\u001b[1;33m(\u001b[0m\u001b[1;33m)\u001b[0m\u001b[1;33m)\u001b[0m\u001b[1;33m\u001b[0m\u001b[1;33m\u001b[0m\u001b[0m\n",
      "\u001b[1;32m~\\Anaconda3\\envs\\message\\lib\\site-packages\\ixmp\\backend\\jdbc.py\u001b[0m in \u001b[0;36m_get_item\u001b[1;34m(self, s, ix_type, name, load)\u001b[0m\n\u001b[0;32m   1040\u001b[0m                 \u001b[1;32mraise\u001b[0m \u001b[0mKeyError\u001b[0m\u001b[1;33m(\u001b[0m\u001b[0mname\u001b[0m\u001b[1;33m)\u001b[0m \u001b[1;32mfrom\u001b[0m \u001b[1;32mNone\u001b[0m\u001b[1;33m\u001b[0m\u001b[1;33m\u001b[0m\u001b[0m\n\u001b[0;32m   1041\u001b[0m             \u001b[1;32melse\u001b[0m\u001b[1;33m:\u001b[0m  \u001b[1;31m# pragma: no cover\u001b[0m\u001b[1;33m\u001b[0m\u001b[1;33m\u001b[0m\u001b[0m\n\u001b[1;32m-> 1042\u001b[1;33m                 \u001b[0m_raise_jexception\u001b[0m\u001b[1;33m(\u001b[0m\u001b[0me\u001b[0m\u001b[1;33m)\u001b[0m\u001b[1;33m\u001b[0m\u001b[1;33m\u001b[0m\u001b[0m\n\u001b[0m\u001b[0;32m   1043\u001b[0m \u001b[1;33m\u001b[0m\u001b[0m\n\u001b[0;32m   1044\u001b[0m \u001b[1;33m\u001b[0m\u001b[0m\n",
      "\u001b[1;32m~\\Anaconda3\\envs\\message\\lib\\site-packages\\ixmp\\backend\\jdbc.py\u001b[0m in \u001b[0;36m_raise_jexception\u001b[1;34m(exc, msg)\u001b[0m\n\u001b[0;32m    132\u001b[0m     \u001b[1;32melse\u001b[0m\u001b[1;33m:\u001b[0m\u001b[1;33m\u001b[0m\u001b[1;33m\u001b[0m\u001b[0m\n\u001b[0;32m    133\u001b[0m         \u001b[0mmsg\u001b[0m \u001b[1;33m+=\u001b[0m \u001b[0mexc\u001b[0m\u001b[1;33m.\u001b[0m\u001b[0mmessage\u001b[0m\u001b[1;33m(\u001b[0m\u001b[1;33m)\u001b[0m\u001b[1;33m\u001b[0m\u001b[1;33m\u001b[0m\u001b[0m\n\u001b[1;32m--> 134\u001b[1;33m     \u001b[1;32mraise\u001b[0m \u001b[0mRuntimeError\u001b[0m\u001b[1;33m(\u001b[0m\u001b[0mmsg\u001b[0m\u001b[1;33m)\u001b[0m \u001b[1;32mfrom\u001b[0m \u001b[1;32mNone\u001b[0m\u001b[1;33m\u001b[0m\u001b[1;33m\u001b[0m\u001b[0m\n\u001b[0m\u001b[0;32m    135\u001b[0m \u001b[1;33m\u001b[0m\u001b[0m\n\u001b[0;32m    136\u001b[0m \u001b[1;33m\u001b[0m\u001b[0m\n",
      "\u001b[1;31mRuntimeError\u001b[0m: unhandled Java exception: There exists no variable 'STORAGE'!"
     ]
    }
   ],
   "source": [
    "# The battery doesn't work as it is expensive with PV (oil_ppl supplies all demand)\n",
    "sc.var('STORAGE')"
   ]
  },
  {
   "cell_type": "code",
   "execution_count": 43,
   "metadata": {},
   "outputs": [],
   "source": [
    "# A new scenario with lower cost of battery or bound on oil\n",
    "sc_lo = sc.clone(scenario='storage-oil-bound', keep_solution=False)\n",
    "sc_lo.check_out()"
   ]
  },
  {
   "cell_type": "code",
   "execution_count": 44,
   "metadata": {},
   "outputs": [],
   "source": [
    "# Reducing inv_cost\n",
    "for parname in ['inv_cost']:\n",
    "    df = sc_lo.par(parname, {'technology': 'battery_ppl', })\n",
    "    df['value'] *= 1\n",
    "    sc_lo.add_par(parname, df)"
   ]
  },
  {
   "cell_type": "code",
   "execution_count": 45,
   "metadata": {},
   "outputs": [],
   "source": [
    "# bound on activity of oil at night\n",
    "base_act = {\n",
    "    'node_loc': 'Maldives',\n",
    "    'year_act': list(set(sc_lo.set('year'))),\n",
    "    'mode': 'standard',\n",
    "    'time': 'night',\n",
    "    'unit': 'MWa',\n",
    "}\n",
    "\n",
    "new_activity = {'oil_ppl': 100}\n",
    "\n",
    "for tec, val in new_activity.items():\n",
    "    df = make_df(base_act, technology=tec, value=val)\n",
    "    sc_lo.add_par('bound_activity_up', df)"
   ]
  },
  {
   "cell_type": "code",
   "execution_count": 46,
   "metadata": {
    "collapsed": true
   },
   "outputs": [
    {
     "ename": "at.ac.iiasa.ixmp.exceptions.IxException",
     "evalue": "at.ac.iiasa.ixmp.exceptions.IxException: There exists no variable 'STORAGE'!",
     "output_type": "error",
     "traceback": [
      "\u001b[1;31m---------------------------------------------------------------------------\u001b[0m",
      "\u001b[1;31mException\u001b[0m                                 Traceback (most recent call last)",
      "\u001b[1;32m~\\Anaconda3\\envs\\message\\lib\\site-packages\\_jpype.cp38-win_amd64.pyd\u001b[0m in \u001b[0;36mat.ac.iiasa.ixmp.objects.MsgScenario.readSolutionFromGDX\u001b[1;34m()\u001b[0m\n",
      "\u001b[1;32m~\\Anaconda3\\envs\\message\\lib\\site-packages\\_jpype.cp38-win_amd64.pyd\u001b[0m in \u001b[0;36mat.ac.iiasa.ixmp.objects.MsgScenario.readSolutionFromGDX\u001b[1;34m()\u001b[0m\n",
      "\u001b[1;32m~\\Anaconda3\\envs\\message\\lib\\site-packages\\_jpype.cp38-win_amd64.pyd\u001b[0m in \u001b[0;36mat.ac.iiasa.ixmp.objects.Scenario.readSolFromGDX\u001b[1;34m()\u001b[0m\n",
      "\u001b[1;32m~\\Anaconda3\\envs\\message\\lib\\site-packages\\_jpype.cp38-win_amd64.pyd\u001b[0m in \u001b[0;36mat.ac.iiasa.ixmp.objects.Scenario.internalVariablesFromGDX\u001b[1;34m()\u001b[0m\n",
      "\u001b[1;32m~\\Anaconda3\\envs\\message\\lib\\site-packages\\_jpype.cp38-win_amd64.pyd\u001b[0m in \u001b[0;36mat.ac.iiasa.ixmp.objects.Scenario.getVar\u001b[1;34m()\u001b[0m\n",
      "\u001b[1;32m~\\Anaconda3\\envs\\message\\lib\\site-packages\\_jpype.cp38-win_amd64.pyd\u001b[0m in \u001b[0;36mat.ac.iiasa.ixmp.objects.Scenario.getVar\u001b[1;34m()\u001b[0m\n",
      "\u001b[1;31mException\u001b[0m: Java Exception",
      "\nThe above exception was the direct cause of the following exception:\n",
      "\u001b[1;31mat.ac.iiasa.ixmp.exceptions.IxException\u001b[0m   Traceback (most recent call last)",
      "\u001b[1;32m<ipython-input-46-5f24f64e5bad>\u001b[0m in \u001b[0;36m<module>\u001b[1;34m\u001b[0m\n\u001b[0;32m      1\u001b[0m \u001b[0msc_lo\u001b[0m\u001b[1;33m.\u001b[0m\u001b[0mcommit\u001b[0m\u001b[1;33m(\u001b[0m\u001b[1;34m''\u001b[0m\u001b[1;33m)\u001b[0m\u001b[1;33m\u001b[0m\u001b[1;33m\u001b[0m\u001b[0m\n\u001b[1;32m----> 2\u001b[1;33m \u001b[0msc_lo\u001b[0m\u001b[1;33m.\u001b[0m\u001b[0msolve\u001b[0m\u001b[1;33m(\u001b[0m\u001b[0mvar_list\u001b[0m\u001b[1;33m=\u001b[0m\u001b[1;33m[\u001b[0m\u001b[1;34m'STORAGE'\u001b[0m\u001b[1;33m,\u001b[0m \u001b[1;34m'STORAGE_CHARGE'\u001b[0m\u001b[1;33m,\u001b[0m \u001b[1;34m'STORAGE_INIT'\u001b[0m\u001b[1;33m]\u001b[0m\u001b[1;33m)\u001b[0m\u001b[1;33m\u001b[0m\u001b[1;33m\u001b[0m\u001b[0m\n\u001b[0m",
      "\u001b[1;32m~\\Anaconda3\\envs\\message\\lib\\site-packages\\message_ix\\core.py\u001b[0m in \u001b[0;36msolve\u001b[1;34m(self, model, solve_options, **kwargs)\u001b[0m\n\u001b[0;32m    547\u001b[0m             \u001b[1;33m:\u001b[0m\u001b[1;32mclass\u001b[0m\u001b[1;33m:\u001b[0m\u001b[0;31m`\u001b[0m\u001b[1;33m.\u001b[0m\u001b[0mGAMSModel\u001b[0m\u001b[0;31m`\u001b[0m\u001b[1;33m.\u001b[0m\u001b[1;33m\u001b[0m\u001b[1;33m\u001b[0m\u001b[0m\n\u001b[0;32m    548\u001b[0m         \"\"\"\n\u001b[1;32m--> 549\u001b[1;33m         \u001b[0msuper\u001b[0m\u001b[1;33m(\u001b[0m\u001b[1;33m)\u001b[0m\u001b[1;33m.\u001b[0m\u001b[0msolve\u001b[0m\u001b[1;33m(\u001b[0m\u001b[0mmodel\u001b[0m\u001b[1;33m=\u001b[0m\u001b[0mmodel\u001b[0m\u001b[1;33m,\u001b[0m \u001b[0msolve_options\u001b[0m\u001b[1;33m=\u001b[0m\u001b[0msolve_options\u001b[0m\u001b[1;33m,\u001b[0m \u001b[1;33m**\u001b[0m\u001b[0mkwargs\u001b[0m\u001b[1;33m)\u001b[0m\u001b[1;33m\u001b[0m\u001b[1;33m\u001b[0m\u001b[0m\n\u001b[0m\u001b[0;32m    550\u001b[0m \u001b[1;33m\u001b[0m\u001b[0m\n\u001b[0;32m    551\u001b[0m     \u001b[1;32mdef\u001b[0m \u001b[0madd_macro\u001b[0m\u001b[1;33m(\u001b[0m\u001b[0mself\u001b[0m\u001b[1;33m,\u001b[0m \u001b[0mdata\u001b[0m\u001b[1;33m,\u001b[0m \u001b[0mscenario\u001b[0m\u001b[1;33m=\u001b[0m\u001b[1;32mNone\u001b[0m\u001b[1;33m,\u001b[0m \u001b[0mcheck_convergence\u001b[0m\u001b[1;33m=\u001b[0m\u001b[1;32mTrue\u001b[0m\u001b[1;33m,\u001b[0m \u001b[1;33m**\u001b[0m\u001b[0mkwargs\u001b[0m\u001b[1;33m)\u001b[0m\u001b[1;33m:\u001b[0m\u001b[1;33m\u001b[0m\u001b[1;33m\u001b[0m\u001b[0m\n",
      "\u001b[1;32m~\\Anaconda3\\envs\\message\\lib\\site-packages\\ixmp\\core.py\u001b[0m in \u001b[0;36msolve\u001b[1;34m(self, model, callback, cb_kwargs, **model_options)\u001b[0m\n\u001b[0;32m   1607\u001b[0m         \u001b[1;31m# Iterate until convergence\u001b[0m\u001b[1;33m\u001b[0m\u001b[1;33m\u001b[0m\u001b[1;33m\u001b[0m\u001b[0m\n\u001b[0;32m   1608\u001b[0m         \u001b[1;32mwhile\u001b[0m \u001b[1;32mTrue\u001b[0m\u001b[1;33m:\u001b[0m\u001b[1;33m\u001b[0m\u001b[1;33m\u001b[0m\u001b[0m\n\u001b[1;32m-> 1609\u001b[1;33m             \u001b[0mmodel\u001b[0m\u001b[1;33m.\u001b[0m\u001b[0mrun\u001b[0m\u001b[1;33m(\u001b[0m\u001b[0mself\u001b[0m\u001b[1;33m)\u001b[0m\u001b[1;33m\u001b[0m\u001b[1;33m\u001b[0m\u001b[0m\n\u001b[0m\u001b[0;32m   1610\u001b[0m \u001b[1;33m\u001b[0m\u001b[0m\n\u001b[0;32m   1611\u001b[0m             \u001b[1;31m# Store an iteration number to help the callback\u001b[0m\u001b[1;33m\u001b[0m\u001b[1;33m\u001b[0m\u001b[1;33m\u001b[0m\u001b[0m\n",
      "\u001b[1;32m~\\Anaconda3\\envs\\message\\lib\\site-packages\\message_ix\\models.py\u001b[0m in \u001b[0;36mrun\u001b[1;34m(self, scenario)\u001b[0m\n\u001b[0;32m    117\u001b[0m \u001b[1;33m\u001b[0m\u001b[0m\n\u001b[0;32m    118\u001b[0m         \u001b[1;32mtry\u001b[0m\u001b[1;33m:\u001b[0m\u001b[1;33m\u001b[0m\u001b[1;33m\u001b[0m\u001b[0m\n\u001b[1;32m--> 119\u001b[1;33m             \u001b[0mresult\u001b[0m \u001b[1;33m=\u001b[0m \u001b[0msuper\u001b[0m\u001b[1;33m(\u001b[0m\u001b[1;33m)\u001b[0m\u001b[1;33m.\u001b[0m\u001b[0mrun\u001b[0m\u001b[1;33m(\u001b[0m\u001b[0mscenario\u001b[0m\u001b[1;33m)\u001b[0m\u001b[1;33m\u001b[0m\u001b[1;33m\u001b[0m\u001b[0m\n\u001b[0m\u001b[0;32m    120\u001b[0m         \u001b[1;32mfinally\u001b[0m\u001b[1;33m:\u001b[0m\u001b[1;33m\u001b[0m\u001b[1;33m\u001b[0m\u001b[0m\n\u001b[0;32m    121\u001b[0m             \u001b[1;31m# Remove the optfile regardless of whether the run completed\u001b[0m\u001b[1;33m\u001b[0m\u001b[1;33m\u001b[0m\u001b[1;33m\u001b[0m\u001b[0m\n",
      "\u001b[1;32m~\\Anaconda3\\envs\\message\\lib\\site-packages\\ixmp\\model\\gams.py\u001b[0m in \u001b[0;36mrun\u001b[1;34m(self, scenario)\u001b[0m\n\u001b[0;32m    149\u001b[0m \u001b[1;33m\u001b[0m\u001b[0m\n\u001b[0;32m    150\u001b[0m         \u001b[1;31m# Read model solution\u001b[0m\u001b[1;33m\u001b[0m\u001b[1;33m\u001b[0m\u001b[1;33m\u001b[0m\u001b[0m\n\u001b[1;32m--> 151\u001b[1;33m         backend.read_file(self.out_file, ItemType.MODEL, **s_arg,\n\u001b[0m\u001b[0;32m    152\u001b[0m                           \u001b[0mcheck_solution\u001b[0m\u001b[1;33m=\u001b[0m\u001b[0mself\u001b[0m\u001b[1;33m.\u001b[0m\u001b[0mcheck_solution\u001b[0m\u001b[1;33m,\u001b[0m\u001b[1;33m\u001b[0m\u001b[1;33m\u001b[0m\u001b[0m\n\u001b[0;32m    153\u001b[0m                           \u001b[0mcomment\u001b[0m\u001b[1;33m=\u001b[0m\u001b[0mself\u001b[0m\u001b[1;33m.\u001b[0m\u001b[0mcomment\u001b[0m \u001b[1;32mor\u001b[0m \u001b[1;34m''\u001b[0m\u001b[1;33m,\u001b[0m\u001b[1;33m\u001b[0m\u001b[1;33m\u001b[0m\u001b[0m\n",
      "\u001b[1;32m~\\Anaconda3\\envs\\message\\lib\\site-packages\\ixmp\\backend\\jdbc.py\u001b[0m in \u001b[0;36mread_file\u001b[1;34m(self, path, item_type, **kwargs)\u001b[0m\n\u001b[0;32m    460\u001b[0m                 \u001b[1;32mraise\u001b[0m \u001b[0mValueError\u001b[0m\u001b[1;33m(\u001b[0m\u001b[1;34mf'extra keyword arguments {kwargs}'\u001b[0m\u001b[1;33m)\u001b[0m\u001b[1;33m\u001b[0m\u001b[1;33m\u001b[0m\u001b[0m\n\u001b[0;32m    461\u001b[0m \u001b[1;33m\u001b[0m\u001b[0m\n\u001b[1;32m--> 462\u001b[1;33m             \u001b[0mself\u001b[0m\u001b[1;33m.\u001b[0m\u001b[0mjindex\u001b[0m\u001b[1;33m[\u001b[0m\u001b[0mts\u001b[0m\u001b[1;33m]\u001b[0m\u001b[1;33m.\u001b[0m\u001b[0mreadSolutionFromGDX\u001b[0m\u001b[1;33m(\u001b[0m\u001b[1;33m*\u001b[0m\u001b[0margs\u001b[0m\u001b[1;33m)\u001b[0m\u001b[1;33m\u001b[0m\u001b[1;33m\u001b[0m\u001b[0m\n\u001b[0m\u001b[0;32m    463\u001b[0m \u001b[1;33m\u001b[0m\u001b[0m\n\u001b[0;32m    464\u001b[0m             \u001b[0mself\u001b[0m\u001b[1;33m.\u001b[0m\u001b[0mcache_invalidate\u001b[0m\u001b[1;33m(\u001b[0m\u001b[0mts\u001b[0m\u001b[1;33m)\u001b[0m\u001b[1;33m\u001b[0m\u001b[1;33m\u001b[0m\u001b[0m\n",
      "\u001b[1;31mat.ac.iiasa.ixmp.exceptions.IxException\u001b[0m: at.ac.iiasa.ixmp.exceptions.IxException: There exists no variable 'STORAGE'!"
     ]
    }
   ],
   "source": [
    "sc_lo.commit('')\n",
    "sc_lo.solve(var_list=['STORAGE', 'STORAGE_CHARGE', 'STORAGE_INIT'])"
   ]
  },
  {
   "cell_type": "code",
   "execution_count": 168,
   "metadata": {
    "collapsed": true
   },
   "outputs": [
    {
     "data": {
      "text/html": [
       "<div>\n",
       "<style scoped>\n",
       "    .dataframe tbody tr th:only-of-type {\n",
       "        vertical-align: middle;\n",
       "    }\n",
       "\n",
       "    .dataframe tbody tr th {\n",
       "        vertical-align: top;\n",
       "    }\n",
       "\n",
       "    .dataframe thead th {\n",
       "        text-align: right;\n",
       "    }\n",
       "</style>\n",
       "<table border=\"1\" class=\"dataframe\">\n",
       "  <thead>\n",
       "    <tr style=\"text-align: right;\">\n",
       "      <th></th>\n",
       "      <th>node</th>\n",
       "      <th>technology</th>\n",
       "      <th>level</th>\n",
       "      <th>commodity</th>\n",
       "      <th>year</th>\n",
       "      <th>time</th>\n",
       "      <th>lvl</th>\n",
       "      <th>mrg</th>\n",
       "    </tr>\n",
       "  </thead>\n",
       "  <tbody>\n",
       "    <tr>\n",
       "      <th>0</th>\n",
       "      <td>Maldives</td>\n",
       "      <td>battery_stor</td>\n",
       "      <td>store</td>\n",
       "      <td>electricity</td>\n",
       "      <td>2025</td>\n",
       "      <td>year</td>\n",
       "      <td>0.000000</td>\n",
       "      <td>0.000000e+00</td>\n",
       "    </tr>\n",
       "    <tr>\n",
       "      <th>1</th>\n",
       "      <td>Maldives</td>\n",
       "      <td>battery_stor</td>\n",
       "      <td>store</td>\n",
       "      <td>electricity</td>\n",
       "      <td>2025</td>\n",
       "      <td>day</td>\n",
       "      <td>186.004677</td>\n",
       "      <td>0.000000e+00</td>\n",
       "    </tr>\n",
       "    <tr>\n",
       "      <th>2</th>\n",
       "      <td>Maldives</td>\n",
       "      <td>battery_stor</td>\n",
       "      <td>store</td>\n",
       "      <td>electricity</td>\n",
       "      <td>2025</td>\n",
       "      <td>night</td>\n",
       "      <td>0.000000</td>\n",
       "      <td>4.940656e-324</td>\n",
       "    </tr>\n",
       "    <tr>\n",
       "      <th>3</th>\n",
       "      <td>Maldives</td>\n",
       "      <td>battery_stor</td>\n",
       "      <td>store</td>\n",
       "      <td>electricity</td>\n",
       "      <td>2030</td>\n",
       "      <td>year</td>\n",
       "      <td>0.000000</td>\n",
       "      <td>0.000000e+00</td>\n",
       "    </tr>\n",
       "    <tr>\n",
       "      <th>4</th>\n",
       "      <td>Maldives</td>\n",
       "      <td>battery_stor</td>\n",
       "      <td>store</td>\n",
       "      <td>electricity</td>\n",
       "      <td>2030</td>\n",
       "      <td>day</td>\n",
       "      <td>211.740177</td>\n",
       "      <td>0.000000e+00</td>\n",
       "    </tr>\n",
       "    <tr>\n",
       "      <th>5</th>\n",
       "      <td>Maldives</td>\n",
       "      <td>battery_stor</td>\n",
       "      <td>store</td>\n",
       "      <td>electricity</td>\n",
       "      <td>2030</td>\n",
       "      <td>night</td>\n",
       "      <td>0.000000</td>\n",
       "      <td>4.940656e-324</td>\n",
       "    </tr>\n",
       "    <tr>\n",
       "      <th>6</th>\n",
       "      <td>Maldives</td>\n",
       "      <td>battery_stor</td>\n",
       "      <td>store</td>\n",
       "      <td>electricity</td>\n",
       "      <td>2035</td>\n",
       "      <td>year</td>\n",
       "      <td>0.000000</td>\n",
       "      <td>0.000000e+00</td>\n",
       "    </tr>\n",
       "    <tr>\n",
       "      <th>7</th>\n",
       "      <td>Maldives</td>\n",
       "      <td>battery_stor</td>\n",
       "      <td>store</td>\n",
       "      <td>electricity</td>\n",
       "      <td>2035</td>\n",
       "      <td>day</td>\n",
       "      <td>224.308677</td>\n",
       "      <td>0.000000e+00</td>\n",
       "    </tr>\n",
       "    <tr>\n",
       "      <th>8</th>\n",
       "      <td>Maldives</td>\n",
       "      <td>battery_stor</td>\n",
       "      <td>store</td>\n",
       "      <td>electricity</td>\n",
       "      <td>2035</td>\n",
       "      <td>night</td>\n",
       "      <td>0.000000</td>\n",
       "      <td>4.940656e-324</td>\n",
       "    </tr>\n",
       "    <tr>\n",
       "      <th>9</th>\n",
       "      <td>Maldives</td>\n",
       "      <td>battery_stor</td>\n",
       "      <td>store</td>\n",
       "      <td>electricity</td>\n",
       "      <td>2040</td>\n",
       "      <td>year</td>\n",
       "      <td>0.000000</td>\n",
       "      <td>0.000000e+00</td>\n",
       "    </tr>\n",
       "    <tr>\n",
       "      <th>10</th>\n",
       "      <td>Maldives</td>\n",
       "      <td>battery_stor</td>\n",
       "      <td>store</td>\n",
       "      <td>electricity</td>\n",
       "      <td>2040</td>\n",
       "      <td>day</td>\n",
       "      <td>228.498177</td>\n",
       "      <td>0.000000e+00</td>\n",
       "    </tr>\n",
       "    <tr>\n",
       "      <th>11</th>\n",
       "      <td>Maldives</td>\n",
       "      <td>battery_stor</td>\n",
       "      <td>store</td>\n",
       "      <td>electricity</td>\n",
       "      <td>2040</td>\n",
       "      <td>night</td>\n",
       "      <td>0.000000</td>\n",
       "      <td>4.940656e-324</td>\n",
       "    </tr>\n",
       "  </tbody>\n",
       "</table>\n",
       "</div>"
      ],
      "text/plain": [
       "        node    technology  level    commodity  year   time         lvl  \\\n",
       "0   Maldives  battery_stor  store  electricity  2025   year    0.000000   \n",
       "1   Maldives  battery_stor  store  electricity  2025    day  186.004677   \n",
       "2   Maldives  battery_stor  store  electricity  2025  night    0.000000   \n",
       "3   Maldives  battery_stor  store  electricity  2030   year    0.000000   \n",
       "4   Maldives  battery_stor  store  electricity  2030    day  211.740177   \n",
       "5   Maldives  battery_stor  store  electricity  2030  night    0.000000   \n",
       "6   Maldives  battery_stor  store  electricity  2035   year    0.000000   \n",
       "7   Maldives  battery_stor  store  electricity  2035    day  224.308677   \n",
       "8   Maldives  battery_stor  store  electricity  2035  night    0.000000   \n",
       "9   Maldives  battery_stor  store  electricity  2040   year    0.000000   \n",
       "10  Maldives  battery_stor  store  electricity  2040    day  228.498177   \n",
       "11  Maldives  battery_stor  store  electricity  2040  night    0.000000   \n",
       "\n",
       "              mrg  \n",
       "0    0.000000e+00  \n",
       "1    0.000000e+00  \n",
       "2   4.940656e-324  \n",
       "3    0.000000e+00  \n",
       "4    0.000000e+00  \n",
       "5   4.940656e-324  \n",
       "6    0.000000e+00  \n",
       "7    0.000000e+00  \n",
       "8   4.940656e-324  \n",
       "9    0.000000e+00  \n",
       "10   0.000000e+00  \n",
       "11  4.940656e-324  "
      ]
     },
     "execution_count": 168,
     "metadata": {},
     "output_type": "execute_result"
    }
   ],
   "source": [
    "sc_lo.var('STORAGE')"
   ]
  },
  {
   "cell_type": "code",
   "execution_count": 1,
   "metadata": {
    "scrolled": true
   },
   "outputs": [
    {
     "ename": "NameError",
     "evalue": "name 'mp' is not defined",
     "output_type": "error",
     "traceback": [
      "\u001b[1;31m---------------------------------------------------------------------------\u001b[0m",
      "\u001b[1;31mNameError\u001b[0m                                 Traceback (most recent call last)",
      "\u001b[1;32m<ipython-input-1-7cf9c998c566>\u001b[0m in \u001b[0;36m<module>\u001b[1;34m\u001b[0m\n\u001b[1;32m----> 1\u001b[1;33m \u001b[0mmp\u001b[0m\u001b[1;33m.\u001b[0m\u001b[0mclose_db\u001b[0m\u001b[1;33m(\u001b[0m\u001b[1;33m)\u001b[0m\u001b[1;33m\u001b[0m\u001b[1;33m\u001b[0m\u001b[0m\n\u001b[0m",
      "\u001b[1;31mNameError\u001b[0m: name 'mp' is not defined"
     ]
    }
   ],
   "source": [
    "mp.close_db()"
   ]
  },
  {
   "cell_type": "code",
   "execution_count": null,
   "metadata": {},
   "outputs": [],
   "source": []
  }
 ],
 "metadata": {
  "kernelspec": {
   "display_name": "Python 3",
   "language": "python",
   "name": "python3"
  },
  "language_info": {
   "codemirror_mode": {
    "name": "ipython",
    "version": 3
   },
   "file_extension": ".py",
   "mimetype": "text/x-python",
   "name": "python",
   "nbconvert_exporter": "python",
   "pygments_lexer": "ipython3",
   "version": "3.8.5"
  }
 },
 "nbformat": 4,
 "nbformat_minor": 4
}
