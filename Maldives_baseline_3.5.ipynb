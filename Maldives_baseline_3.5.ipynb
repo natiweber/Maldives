{
 "cells": [
  {
   "cell_type": "markdown",
   "metadata": {},
   "source": [
    "# Maldives 2040"
   ]
  },
  {
   "cell_type": "markdown",
   "metadata": {},
   "source": [
    "Abbreviations:\n",
    "air-conditioning  (AC) \\\n",
    "Seawater air conditioning (SWAC) \\\n",
    "Reverse Osmosis desalination (RO) \\\n",
    "Deep Seawater Cooling and Desalination (DSCD) "
   ]
  },
  {
   "cell_type": "markdown",
   "metadata": {},
   "source": [
    "## 2 METHODOLOGY                                       "
   ]
  },
  {
   "cell_type": "code",
   "execution_count": 1,
   "metadata": {},
   "outputs": [
    {
     "data": {
      "application/javascript": [
       "IPython.OutputArea.prototype._should_scroll = function(lines) { return false; }"
      ],
      "text/plain": [
       "<IPython.core.display.Javascript object>"
      ]
     },
     "metadata": {},
     "output_type": "display_data"
    }
   ],
   "source": [
    "import itertools\n",
    "import pandas as pd\n",
    "\n",
    "import matplotlib.pyplot as plt\n",
    "%matplotlib inline\n",
    "plt.style.use('ggplot')\n",
    "\n",
    "import ixmp\n",
    "import message_ix\n",
    "\n",
    "from message_ix.utils import make_df"
   ]
  },
  {
   "cell_type": "code",
   "execution_count": 2,
   "metadata": {
    "scrolled": true
   },
   "outputs": [],
   "source": [
    "mp = ixmp.Platform()"
   ]
  },
  {
   "cell_type": "code",
   "execution_count": 3,
   "metadata": {},
   "outputs": [],
   "source": [
    "#scen = \"baseline\"\n",
    "#version = 1\n",
    "scenario = message_ix.Scenario(mp, model=\"Maldives energy model\",\n",
    "                               scenario='baseline', version='new')"
   ]
  },
  {
   "cell_type": "markdown",
   "metadata": {},
   "source": [
    "### Time and Spatial Detail\n",
    "\n",
    "Horizons: 2025, 2030, 2035, 2040.\n"
   ]
  },
  {
   "cell_type": "code",
   "execution_count": 4,
   "metadata": {},
   "outputs": [],
   "source": [
    "history = [2015]\n",
    "horizon = [2020, 2025, 2030, 2035, 2040]\n",
    "scenario.add_horizon(year= history + horizon, firstmodelyear=horizon[0])"
   ]
  },
  {
   "cell_type": "code",
   "execution_count": 5,
   "metadata": {},
   "outputs": [],
   "source": [
    "country = 'Maldives'\n",
    "scenario.add_spatial_sets({'country': country})"
   ]
  },
  {
   "cell_type": "code",
   "execution_count": 6,
   "metadata": {},
   "outputs": [],
   "source": [
    "scenario.add_set(\"commodity\", [\"electricity\", 'freshwater', 'cooling', 'other_electricity'])\n",
    "scenario.add_set(\"level\", [\"secondary\", \"final\", \"useful\"])\n",
    "scenario.add_set(\"technology\", ['oil_ppl', 'solar_pv_ppl', 'battery_ppl', 'ro_pl', 'appliances'])\n",
    "scenario.add_set(\"mode\", \"standard\")"
   ]
  },
  {
   "cell_type": "markdown",
   "metadata": {},
   "source": [
    "### 2.1 Growth estimation"
   ]
  },
  {
   "cell_type": "code",
   "execution_count": 7,
   "metadata": {
    "scrolled": true
   },
   "outputs": [
    {
     "data": {
      "text/plain": [
       "<AxesSubplot:title={'center':'Demand'}>"
      ]
     },
     "execution_count": 7,
     "metadata": {},
     "output_type": "execute_result"
    },
    {
     "data": {
      "image/png": "[encoded data removed]",
      "text/plain": [
       "<Figure size 432x288 with 1 Axes>"
      ]
     },
     "metadata": {},
     "output_type": "display_data"
    }
   ],
   "source": [
    "#growth for years 2020, 2025, 2030, 2035, 2040\n",
    "demand = pd.Series([1.03, 1.62, 1.78, 1.82, 1.84], index=horizon) # data from electricity growth from 2017 up to 2037\n",
    "demand.plot(title='Demand')"
   ]
  },
  {
   "cell_type": "code",
   "execution_count": 8,
   "metadata": {},
   "outputs": [],
   "source": [
    "e_plants = [\n",
    "    \"battery_ppl\",  #electricity plants\n",
    "    \"oil_ppl\", \n",
    "    \"solar_pv_ppl\",\n",
    "]\n",
    "w_plants = [ \n",
    "    \"ro_pl\",  #desalination plant\n",
    "]\n",
    "\n",
    "secondary_energy_techs = e_plants + w_plants \n",
    "\n",
    "others = ['appliances'] #others electricity demand\n",
    "\n",
    "useful_techs = ['ac', 'swac', 'dscd'] #+ others"
   ]
  },
  {
   "cell_type": "code",
   "execution_count": 9,
   "metadata": {},
   "outputs": [],
   "source": [
    "technologies = secondary_energy_techs + useful_techs\n",
    "scenario.add_set(\"technology\", technologies)"
   ]
  },
  {
   "cell_type": "markdown",
   "metadata": {},
   "source": [
    "### 2.2 Demand for electricity, cooling and freshwater"
   ]
  },
  {
   "cell_type": "code",
   "execution_count": 10,
   "metadata": {},
   "outputs": [
    {
     "name": "stderr",
     "output_type": "stream",
     "text": [
      "INFO:root:unit `MWta` is already defined in the platform instance\n",
      "INFO:root:unit `MWa` is already defined in the platform instance\n",
      "INFO:root:unit `m^3a` is already defined in the platform instance\n"
     ]
    }
   ],
   "source": [
    "# Adding a new unit to the library\n",
    "mp.add_unit('MWta')\n",
    "mp.add_unit('MWa')\n",
    "mp.add_unit('m^3a')\n",
    "\n",
    "ac_demand_per_year = (91800*3) #air conditiong energy demand in 2017\n",
    "ac_demand = pd.DataFrame({\n",
    "        'node': country,\n",
    "        'commodity': 'cooling',\n",
    "        'level': 'useful',\n",
    "        'year': horizon,\n",
    "        'time': 'year',\n",
    "        'value': ac_demand_per_year*demand,\n",
    "        'unit': 'MWta',\n",
    "    })\n",
    "scenario.add_par(\"demand\", ac_demand)\n",
    "\n",
    "others_demand_per_year = 214200\n",
    "others_demand = pd.DataFrame({\n",
    "        'node': country,\n",
    "        'commodity': 'other_electricity',\n",
    "        'level': 'useful',\n",
    "        'year': horizon,\n",
    "        'time': 'year',\n",
    "        'value': others_demand_per_year * demand,\n",
    "        'unit': 'MWa',\n",
    "    })\n",
    "scenario.add_par(\"demand\", others_demand)\n",
    "\n",
    "freshwater_demand_per_year = 80000*365 #80,000 m^3/d\n",
    "freshwater_demand = pd.DataFrame({\n",
    "        'node': country,\n",
    "        'commodity': 'freshwater',\n",
    "        'level': 'useful',\n",
    "        'year': horizon,\n",
    "        'time': 'year',\n",
    "        'value': freshwater_demand_per_year * demand,\n",
    "        'unit': 'm^3a', \n",
    "    })\n",
    "scenario.add_par(\"demand\", freshwater_demand)   "
   ]
  },
  {
   "cell_type": "code",
   "execution_count": 11,
   "metadata": {
    "scrolled": true
   },
   "outputs": [
    {
     "data": {
      "text/html": [
       "<div>\n",
       "<style scoped>\n",
       "    .dataframe tbody tr th:only-of-type {\n",
       "        vertical-align: middle;\n",
       "    }\n",
       "\n",
       "    .dataframe tbody tr th {\n",
       "        vertical-align: top;\n",
       "    }\n",
       "\n",
       "    .dataframe thead th {\n",
       "        text-align: right;\n",
       "    }\n",
       "</style>\n",
       "<table border=\"1\" class=\"dataframe\">\n",
       "  <thead>\n",
       "    <tr style=\"text-align: right;\">\n",
       "      <th></th>\n",
       "      <th>node</th>\n",
       "      <th>commodity</th>\n",
       "      <th>level</th>\n",
       "      <th>year</th>\n",
       "      <th>time</th>\n",
       "      <th>value</th>\n",
       "      <th>unit</th>\n",
       "    </tr>\n",
       "  </thead>\n",
       "  <tbody>\n",
       "    <tr>\n",
       "      <th>2020</th>\n",
       "      <td>Maldives</td>\n",
       "      <td>cooling</td>\n",
       "      <td>useful</td>\n",
       "      <td>2020</td>\n",
       "      <td>year</td>\n",
       "      <td>283662.0</td>\n",
       "      <td>MWta</td>\n",
       "    </tr>\n",
       "    <tr>\n",
       "      <th>2025</th>\n",
       "      <td>Maldives</td>\n",
       "      <td>cooling</td>\n",
       "      <td>useful</td>\n",
       "      <td>2025</td>\n",
       "      <td>year</td>\n",
       "      <td>446148.0</td>\n",
       "      <td>MWta</td>\n",
       "    </tr>\n",
       "    <tr>\n",
       "      <th>2030</th>\n",
       "      <td>Maldives</td>\n",
       "      <td>cooling</td>\n",
       "      <td>useful</td>\n",
       "      <td>2030</td>\n",
       "      <td>year</td>\n",
       "      <td>490212.0</td>\n",
       "      <td>MWta</td>\n",
       "    </tr>\n",
       "    <tr>\n",
       "      <th>2035</th>\n",
       "      <td>Maldives</td>\n",
       "      <td>cooling</td>\n",
       "      <td>useful</td>\n",
       "      <td>2035</td>\n",
       "      <td>year</td>\n",
       "      <td>501228.0</td>\n",
       "      <td>MWta</td>\n",
       "    </tr>\n",
       "    <tr>\n",
       "      <th>2040</th>\n",
       "      <td>Maldives</td>\n",
       "      <td>cooling</td>\n",
       "      <td>useful</td>\n",
       "      <td>2040</td>\n",
       "      <td>year</td>\n",
       "      <td>506736.0</td>\n",
       "      <td>MWta</td>\n",
       "    </tr>\n",
       "  </tbody>\n",
       "</table>\n",
       "</div>"
      ],
      "text/plain": [
       "          node commodity   level  year  time     value  unit\n",
       "2020  Maldives   cooling  useful  2020  year  283662.0  MWta\n",
       "2025  Maldives   cooling  useful  2025  year  446148.0  MWta\n",
       "2030  Maldives   cooling  useful  2030  year  490212.0  MWta\n",
       "2035  Maldives   cooling  useful  2035  year  501228.0  MWta\n",
       "2040  Maldives   cooling  useful  2040  year  506736.0  MWta"
      ]
     },
     "execution_count": 11,
     "metadata": {},
     "output_type": "execute_result"
    }
   ],
   "source": [
    "ac_demand"
   ]
  },
  {
   "cell_type": "code",
   "execution_count": 12,
   "metadata": {},
   "outputs": [
    {
     "data": {
      "text/html": [
       "<div>\n",
       "<style scoped>\n",
       "    .dataframe tbody tr th:only-of-type {\n",
       "        vertical-align: middle;\n",
       "    }\n",
       "\n",
       "    .dataframe tbody tr th {\n",
       "        vertical-align: top;\n",
       "    }\n",
       "\n",
       "    .dataframe thead th {\n",
       "        text-align: right;\n",
       "    }\n",
       "</style>\n",
       "<table border=\"1\" class=\"dataframe\">\n",
       "  <thead>\n",
       "    <tr style=\"text-align: right;\">\n",
       "      <th></th>\n",
       "      <th>node</th>\n",
       "      <th>commodity</th>\n",
       "      <th>level</th>\n",
       "      <th>year</th>\n",
       "      <th>time</th>\n",
       "      <th>value</th>\n",
       "      <th>unit</th>\n",
       "    </tr>\n",
       "  </thead>\n",
       "  <tbody>\n",
       "    <tr>\n",
       "      <th>2020</th>\n",
       "      <td>Maldives</td>\n",
       "      <td>other_electricity</td>\n",
       "      <td>useful</td>\n",
       "      <td>2020</td>\n",
       "      <td>year</td>\n",
       "      <td>220626.0</td>\n",
       "      <td>MWa</td>\n",
       "    </tr>\n",
       "    <tr>\n",
       "      <th>2025</th>\n",
       "      <td>Maldives</td>\n",
       "      <td>other_electricity</td>\n",
       "      <td>useful</td>\n",
       "      <td>2025</td>\n",
       "      <td>year</td>\n",
       "      <td>347004.0</td>\n",
       "      <td>MWa</td>\n",
       "    </tr>\n",
       "    <tr>\n",
       "      <th>2030</th>\n",
       "      <td>Maldives</td>\n",
       "      <td>other_electricity</td>\n",
       "      <td>useful</td>\n",
       "      <td>2030</td>\n",
       "      <td>year</td>\n",
       "      <td>381276.0</td>\n",
       "      <td>MWa</td>\n",
       "    </tr>\n",
       "    <tr>\n",
       "      <th>2035</th>\n",
       "      <td>Maldives</td>\n",
       "      <td>other_electricity</td>\n",
       "      <td>useful</td>\n",
       "      <td>2035</td>\n",
       "      <td>year</td>\n",
       "      <td>389844.0</td>\n",
       "      <td>MWa</td>\n",
       "    </tr>\n",
       "    <tr>\n",
       "      <th>2040</th>\n",
       "      <td>Maldives</td>\n",
       "      <td>other_electricity</td>\n",
       "      <td>useful</td>\n",
       "      <td>2040</td>\n",
       "      <td>year</td>\n",
       "      <td>394128.0</td>\n",
       "      <td>MWa</td>\n",
       "    </tr>\n",
       "  </tbody>\n",
       "</table>\n",
       "</div>"
      ],
      "text/plain": [
       "          node          commodity   level  year  time     value unit\n",
       "2020  Maldives  other_electricity  useful  2020  year  220626.0  MWa\n",
       "2025  Maldives  other_electricity  useful  2025  year  347004.0  MWa\n",
       "2030  Maldives  other_electricity  useful  2030  year  381276.0  MWa\n",
       "2035  Maldives  other_electricity  useful  2035  year  389844.0  MWa\n",
       "2040  Maldives  other_electricity  useful  2040  year  394128.0  MWa"
      ]
     },
     "execution_count": 12,
     "metadata": {},
     "output_type": "execute_result"
    }
   ],
   "source": [
    "others_demand"
   ]
  },
  {
   "cell_type": "markdown",
   "metadata": {
    "collapsed": true
   },
   "source": [
    "### 2.3 Engineering Parameters: inputs and outputs"
   ]
  },
  {
   "cell_type": "code",
   "execution_count": 13,
   "metadata": {},
   "outputs": [],
   "source": [
    "year_df = scenario.vintage_and_active_years()\n",
    "vintage_years, act_years = year_df['year_vtg'], year_df['year_act'] "
   ]
  },
  {
   "cell_type": "code",
   "execution_count": 14,
   "metadata": {},
   "outputs": [],
   "source": [
    "base = {\n",
    "    'node_loc': country,\n",
    "    'year_vtg': vintage_years,\n",
    "    'year_act': act_years,\n",
    "    'mode': 'standard',\n",
    "    'time': 'year',\n",
    "    'unit': '-',\n",
    "}\n",
    "\n",
    "base_input = make_df(base, node_origin=country, time_origin='year')\n",
    "base_output = make_df(base, node_dest=country, time_dest='year')"
   ]
  },
  {
   "cell_type": "code",
   "execution_count": 15,
   "metadata": {},
   "outputs": [],
   "source": [
    "#others_electricity\n",
    "\n",
    "app_in = make_df(base_input, technology='appliances', commodity='electricity',  \n",
    "                  level='final', value=1., unit=\"MWa\")\n",
    "scenario.add_par('input', app_in)\n",
    "app_out = make_df(base_output, technology='appliances', commodity='other_electricity', \n",
    "              level='useful', value=1., unit=\"MWa\")\n",
    "scenario.add_par('output', app_out)"
   ]
  },
  {
   "cell_type": "code",
   "execution_count": 16,
   "metadata": {},
   "outputs": [],
   "source": [
    "#air conditioning\n",
    "ac_in = make_df(base_input, technology='ac', commodity='electricity',  \n",
    "                  level='final', value=1., unit=\"MWa\")\n",
    "scenario.add_par('input', ac_in)\n",
    "ac_out = make_df(base_output, technology='ac', commodity='cooling', \n",
    "                   level='useful', value=3., unit='MWta')\n",
    "scenario.add_par('output', ac_out)"
   ]
  },
  {
   "cell_type": "code",
   "execution_count": 17,
   "metadata": {},
   "outputs": [],
   "source": [
    "#Seawater air conditioning (swac)\n",
    "swac_in = make_df(base_input, technology='swac', commodity='electricity',  \n",
    "                  level='final', value=1., unit=\"MWa\")\n",
    "scenario.add_par('input', swac_in)\n",
    "swac_out = make_df(base_output, technology='swac', commodity='cooling', \n",
    "                   level='useful', value=20, unit='MWta')\n",
    "scenario.add_par('output', swac_out)"
   ]
  },
  {
   "cell_type": "code",
   "execution_count": 18,
   "metadata": {},
   "outputs": [],
   "source": [
    "#secondary to useful w_tec\n",
    "\n",
    "#reverse osmosis - water demand (row)\n",
    "ro_in = make_df(base_input, technology='ro_pl', commodity='electricity',  \n",
    "                  level='final', value=1., unit=\"MWa\")\n",
    "scenario.add_par('input', ro_in)\n",
    "ro_out = make_df(base_output, technology='ro_pl', commodity='freshwater', \n",
    "                   level='useful', value=0.1, unit=\"m^3a\")\n",
    "scenario.add_par('output', ro_out)"
   ]
  },
  {
   "cell_type": "code",
   "execution_count": 19,
   "metadata": {},
   "outputs": [],
   "source": [
    "#dscd\n",
    "#deep seawater cooling and desalination - cooling demand (dscdc)\n",
    "\n",
    "dscdc_in = make_df(base_input, technology='dscd', commodity='electricity',  \n",
    "                  level='final', value=1., unit=\"MWa\")\n",
    "scenario.add_par('input', dscdc_in)\n",
    "dscdc_out = make_df(base_output, technology='dscd', commodity='cooling', \n",
    "                   level='useful', value=20, unit=\"MWta\")\n",
    "scenario.add_par('output', dscdc_out)\n",
    "dscdw_out = make_df(base_output, technology='dscd', commodity='freshwater', \n",
    "                   level='useful', value=0.1, unit=\"m^3a\")\n",
    "scenario.add_par('output', dscdw_out)"
   ]
  },
  {
   "cell_type": "code",
   "execution_count": 20,
   "metadata": {},
   "outputs": [],
   "source": [
    "#secondary to useful e_tecs\n",
    "\n",
    "oil_out = make_df(base_output, technology='oil_ppl', commodity='electricity', \n",
    "                   level='final', value=1., unit=\"MWa\")\n",
    "scenario.add_par('output', oil_out)\n",
    "\n",
    "solar_pv_out = make_df(base_output, technology='solar_pv_ppl', commodity='electricity', \n",
    "                   level='final', value=1., unit=\"MWa\")\n",
    "scenario.add_par('output', solar_pv_out)\n",
    "\n",
    "battery_out = make_df(base_output, technology='battery_ppl', commodity='electricity', \n",
    "                   level='final', value=1., unit=\"MWa\")\n",
    "scenario.add_par('output', battery_out)"
   ]
  },
  {
   "cell_type": "markdown",
   "metadata": {},
   "source": [
    "### 2.4 Operational Constraints and Parameters"
   ]
  },
  {
   "cell_type": "code",
   "execution_count": 21,
   "metadata": {},
   "outputs": [],
   "source": [
    "base_capacity_factor = {\n",
    "    'node_loc': country,\n",
    "    'year_vtg': vintage_years,\n",
    "    'year_act': act_years,\n",
    "    'time': 'year',\n",
    "    'unit': '-',\n",
    "}\n",
    "\n",
    "capacity_factor = {\n",
    "    'oil_ppl': 0.75,\n",
    "    'battery_ppl': 0.3, \n",
    "    'solar_pv_ppl': 0.3,\n",
    "    'ac': 0.3,\n",
    "    'ro_pl': 0.8,\n",
    "    'swac': 0.8, \n",
    "    'dscd': 0.8, \n",
    "    'appliances': 0.5\n",
    "}\n",
    "\n",
    "for tec, val in capacity_factor.items():\n",
    "    df = make_df(base_capacity_factor, technology=tec, value=val)\n",
    "    scenario.add_par('capacity_factor', df)"
   ]
  },
  {
   "cell_type": "code",
   "execution_count": 22,
   "metadata": {},
   "outputs": [],
   "source": [
    "base_technical_lifetime = {\n",
    "    'node_loc': country,\n",
    "    'year_vtg': horizon,\n",
    "    'unit': 'y',\n",
    "}\n",
    "\n",
    "lifetimes = {\n",
    "    'oil_ppl': 30,\n",
    "    'battery_ppl': 5,\n",
    "    'solar_pv_ppl': 20,\n",
    "    'ac': 15,\n",
    "    'ro_pl': 20,\n",
    "    'swac': 20, \n",
    "    'dscd': 20, \n",
    "    'appliances': 10\n",
    "}\n",
    "\n",
    "for tec, val in lifetimes.items():\n",
    "    df = make_df(base_technical_lifetime, technology=tec, value=val)\n",
    "    scenario.add_par('technical_lifetime', df)"
   ]
  },
  {
   "cell_type": "markdown",
   "metadata": {},
   "source": [
    "### 2.5 Technological Diffusion and Contraction"
   ]
  },
  {
   "cell_type": "code",
   "execution_count": 23,
   "metadata": {},
   "outputs": [],
   "source": [
    "base_growth = {\n",
    "    'node_loc': country,\n",
    "    'year_vtg': horizon,\n",
    "    'time': 'year',\n",
    "    'unit': '-',\n",
    "}"
   ]
  },
  {
   "cell_type": "code",
   "execution_count": 24,
   "metadata": {},
   "outputs": [],
   "source": [
    "growth_technologies = {\n",
    "    \"solar_pv_ppl\": 1.9, \n",
    "    \"swac\": 2,\n",
    "    \"dscd\": 2,\n",
    "    'ac': 0.25\n",
    "}\n",
    "\n",
    "for tec, val in growth_technologies.items():\n",
    "    df = make_df(base_growth, technology=tec, value=val) \n",
    "    scenario.add_par('growth_new_capacity_up', df)"
   ]
  },
  {
   "cell_type": "code",
   "execution_count": 25,
   "metadata": {},
   "outputs": [],
   "source": [
    "hist_e_gen = others_demand_per_year + ac_demand_per_year/3\n",
    "hist_c_gen = ac_demand_per_year/3\n",
    "hist_w_gen = freshwater_demand_per_year"
   ]
  },
  {
   "cell_type": "code",
   "execution_count": 26,
   "metadata": {
    "scrolled": true
   },
   "outputs": [
    {
     "data": {
      "text/plain": [
       "306000.0"
      ]
     },
     "execution_count": 26,
     "metadata": {},
     "output_type": "execute_result"
    }
   ],
   "source": [
    "hist_e_gen"
   ]
  },
  {
   "cell_type": "code",
   "execution_count": 27,
   "metadata": {},
   "outputs": [],
   "source": [
    "base_capacity = {\n",
    "    'node_loc': country,\n",
    "    'year_vtg': history,\n",
    "    'unit': '-',\n",
    "}\n",
    "\n",
    "base_activity = {\n",
    "    'node_loc': country,\n",
    "    'year_vtg': history,\n",
    "    'mode': 'standard',\n",
    "    'time': 'year',\n",
    "    'unit': '-',\n",
    "}"
   ]
  },
  {
   "cell_type": "code",
   "execution_count": 28,
   "metadata": {},
   "outputs": [],
   "source": [
    "old_activity = {\n",
    "    'solar_pv_ppl': .05*hist_e_gen,\n",
    "    'oil_ppl': .95*hist_e_gen,\n",
    "    'ac':  .9 * hist_c_gen,\n",
    "    'swac': .05 * hist_c_gen,\n",
    "    'dscd': .05* hist_c_gen,\n",
    "    'ro_pl': 0.95*hist_w_gen,\n",
    "        \n",
    "}\n",
    "\n",
    "for tec, val in old_activity.items():\n",
    "    df = make_df(base_activity, technology=tec, value=val)\n",
    "    scenario.add_par('initial_new_capacity_up', df)"
   ]
  },
  {
   "cell_type": "code",
   "execution_count": 29,
   "metadata": {},
   "outputs": [],
   "source": [
    "act_to_cap = {\n",
    "    'solar_pv_ppl': 1 / 10 / capacity_factor['solar_pv_ppl'] / 2, # 20 year lifetime\n",
    "    'swac': 1 / 10 / capacity_factor['swac'] / 2,\n",
    "    'dscd': 1 / 10 / capacity_factor['dscd'] / 2,\n",
    "    'ac': 1 / 10 / capacity_factor['ac'] / 1.5,\n",
    "}\n",
    "\n",
    "for tec in act_to_cap:\n",
    "    value = old_activity[tec] * act_to_cap[tec]\n",
    "    df = make_df(base_capacity, technology=tec, value=value)\n",
    "    scenario.add_par('historical_new_capacity', df)"
   ]
  },
  {
   "cell_type": "code",
   "execution_count": 30,
   "metadata": {},
   "outputs": [],
   "source": [
    "scenario.add_par(\"interestrate\", horizon, value=0.05, unit='-')"
   ]
  },
  {
   "cell_type": "markdown",
   "metadata": {},
   "source": [
    "### 2.6Technoeconomic Parameters"
   ]
  },
  {
   "cell_type": "code",
   "execution_count": 31,
   "metadata": {
    "scrolled": true
   },
   "outputs": [],
   "source": [
    "base_inv_cost = {\n",
    "    'node_loc': country,\n",
    "    'year_vtg': horizon, \n",
    "    'unit': 'USD/kW',\n",
    "}\n",
    "\n",
    "costs = {\n",
    "    'oil_ppl': 950, #value from Austria baseline model \n",
    "    'battery_ppl': 450, #value from MESSAGE-BRAZIL baseline \n",
    "    'solar_pv_ppl': 677, #value from IEA for India in 2019\n",
    "    'ac': 450, #average price for commercial buildings in USA\n",
    "    'ro_pl': 950, # in this case it is USD/km³ \n",
    "    'swac': 768, # USD/kW\n",
    "    'dscd': (950 + 768)*0.7, \n",
    "    'appliances': 50\n",
    "}\n",
    "\n",
    "for tec, val in costs.items():\n",
    "    df = make_df(base_inv_cost, technology=tec, value=val)\n",
    "    scenario.add_par('inv_cost', df)"
   ]
  },
  {
   "cell_type": "code",
   "execution_count": 32,
   "metadata": {
    "scrolled": true
   },
   "outputs": [],
   "source": [
    "base_fix_cost = {\n",
    "    'node_loc': country,\n",
    "    'year_vtg': vintage_years,\n",
    "    'year_act': act_years,\n",
    "    'unit': 'USD/kWa',\n",
    "}\n",
    "\n",
    "\n",
    "costs = {\n",
    "    'oil_ppl': 25, #value from Austria baseline model \n",
    "    'battery_ppl': 32, #value from MESSAGE-BRAZIL baseline\n",
    "    'solar_pv_ppl': 5, #value from MESSAGE-BRAZIL baseline\n",
    "    'ac': 30, \n",
    "    'ro_pl': 280,\n",
    "    'swac': 195., \n",
    "    'dscd': (280+195)*0.7, \n",
    "}\n",
    "\n",
    "for tec, val in costs.items():\n",
    "    df = make_df(base_fix_cost, technology=tec, value=val)\n",
    "    scenario.add_par('fix_cost', df)"
   ]
  },
  {
   "cell_type": "code",
   "execution_count": 33,
   "metadata": {},
   "outputs": [],
   "source": [
    "base_var_cost = {\n",
    "    'node_loc': country,\n",
    "    'year_vtg': vintage_years,\n",
    "    'year_act': act_years,\n",
    "    'mode': 'standard',\n",
    "    'time': 'year',\n",
    "    'unit': 'USD/kWa',\n",
    "}\n",
    "\n",
    "costs = {\n",
    "    'oil_ppl': 77.8, #value from Austria baseline model \n",
    "    'battery_ppl': 0, #value from MESSAGE-BRAZIL baseline\n",
    "    'solar_pv_ppl': 0, #value from MESSAGE-BRAZIL baseline\n",
    "    'ro_pl': 0,\n",
    "    'swac': 0., \n",
    "    'dscd': 0, \n",
    "    #'appliances': 0.\n",
    "}\n",
    "\n",
    "for tec, val in costs.items():\n",
    "    df = make_df(base_var_cost, technology=tec, value=val) \n",
    "    scenario.add_par('var_cost', df)"
   ]
  },
  {
   "cell_type": "markdown",
   "metadata": {},
   "source": [
    "### Emissions"
   ]
  },
  {
   "cell_type": "code",
   "execution_count": 34,
   "metadata": {},
   "outputs": [
    {
     "name": "stderr",
     "output_type": "stream",
     "text": [
      "INFO:root:unit `tCO2/MWh` is already defined in the platform instance\n",
      "INFO:root:unit `MtCO2` is already defined in the platform instance\n"
     ]
    }
   ],
   "source": [
    "scenario.add_set('emission', 'CO2')\n",
    "scenario.add_cat('emission', 'GHG', 'CO2')\n",
    "\n",
    "# we now add CO2 emissions to the coal powerplant\n",
    "base_emission_factor = {\n",
    "    'node_loc': country,\n",
    "    'year_vtg': vintage_years,\n",
    "    'year_act': act_years,\n",
    "    'mode': 'standard',\n",
    "    'unit': 'tCO2/MWh',\n",
    "}\n",
    "\n",
    "# adding new units to the model library (needed only once)\n",
    "mp.add_unit('tCO2/MWh')\n",
    "mp.add_unit('MtCO2')\n",
    "\n",
    "emission_factor = make_df(base_emission_factor, technology= 'oil_ppl', emission= 'CO2', value = 0.57)\n",
    "scenario.add_par('emission_factor', emission_factor)"
   ]
  },
  {
   "cell_type": "markdown",
   "metadata": {},
   "source": [
    "### Commit the datastructure and solve the model"
   ]
  },
  {
   "cell_type": "code",
   "execution_count": 35,
   "metadata": {
    "scrolled": false
   },
   "outputs": [
    {
     "name": "stderr",
     "output_type": "stream",
     "text": [
      "INFO:message_ix:version number prior to commit: 0\n",
      "INFO:message_ix:version number prior committing to the database: 95\n"
     ]
    }
   ],
   "source": [
    "from message_ix import log\n",
    "\n",
    "log.info('version number prior to commit: {}'.format(scenario.version))\n",
    "scenario.commit(comment='basic model of Maldives')\n",
    "log.info('version number prior committing to the database: {}'.format(scenario.version))"
   ]
  },
  {
   "cell_type": "code",
   "execution_count": 36,
   "metadata": {},
   "outputs": [],
   "source": [
    "scenario.set_as_default()"
   ]
  },
  {
   "cell_type": "code",
   "execution_count": 37,
   "metadata": {},
   "outputs": [],
   "source": [
    "scenario.solve()"
   ]
  },
  {
   "cell_type": "code",
   "execution_count": 38,
   "metadata": {
    "jupyter": {
     "name": "solve-objective-value"
    }
   },
   "outputs": [
    {
     "data": {
      "text/plain": [
       "3836130361344.0"
      ]
     },
     "execution_count": 38,
     "metadata": {},
     "output_type": "execute_result"
    }
   ],
   "source": [
    "scenario.var('OBJ')['lvl']"
   ]
  },
  {
   "cell_type": "markdown",
   "metadata": {},
   "source": [
    "## 3. Plotting Results"
   ]
  },
  {
   "cell_type": "code",
   "execution_count": 39,
   "metadata": {
    "scrolled": true
   },
   "outputs": [],
   "source": [
    "import pyam\n",
    "from ixmp.reporting import configure\n",
    "from message_ix.reporting import Reporter\n",
    "import os\n",
    "import matplotlib.pyplot as plt\n",
    "configure(units={'replace': {'-': 'MWa'}})"
   ]
  },
  {
   "cell_type": "code",
   "execution_count": 40,
   "metadata": {},
   "outputs": [],
   "source": [
    "rep = Reporter.from_scenario(scenario)"
   ]
  },
  {
   "cell_type": "code",
   "execution_count": 41,
   "metadata": {},
   "outputs": [],
   "source": [
    "# plotting years\n",
    "plotyrs = [x for x in set(scenario.set('year')) if x >= scenario.firstmodelyear]"
   ]
  },
  {
   "cell_type": "code",
   "execution_count": 42,
   "metadata": {},
   "outputs": [
    {
     "data": {
      "text/plain": [
       "nl        t     ya    c        l     \n",
       "Maldives  ac    2020  cooling  useful         0.0\n",
       "                2025  cooling  useful         0.0\n",
       "                2030  cooling  useful         0.0\n",
       "                2035  cooling  useful         0.0\n",
       "                2040  cooling  useful         0.0\n",
       "          dscd  2020  cooling  useful    283662.0\n",
       "                2025  cooling  useful    446148.0\n",
       "                2030  cooling  useful    490212.0\n",
       "                2035  cooling  useful    501228.0\n",
       "                2040  cooling  useful    506736.0\n",
       "          swac  2020  cooling  useful         0.0\n",
       "                2025  cooling  useful         0.0\n",
       "                2030  cooling  useful         0.0\n",
       "                2035  cooling  useful         0.0\n",
       "                2040  cooling  useful         0.0\n",
       "dtype: float64"
      ]
     },
     "execution_count": 42,
     "metadata": {},
     "output_type": "execute_result"
    }
   ],
   "source": [
    "rep.set_filters(c = 'cooling')\n",
    "cool = rep.full_key('out')\n",
    "cool = cool.drop('yv','m','nd','hd','h')\n",
    "cool_gen = rep.get(cool)\n",
    "cool_gen"
   ]
  },
  {
   "cell_type": "code",
   "execution_count": 43,
   "metadata": {},
   "outputs": [
    {
     "data": {
      "text/plain": [
       "nl        t             ya    c            l    \n",
       "Maldives  battery_ppl   2020  electricity  final    0.000000e+00\n",
       "                        2025  electricity  final    0.000000e+00\n",
       "                        2030  electricity  final    0.000000e+00\n",
       "                        2035  electricity  final    0.000000e+00\n",
       "                        2040  electricity  final    0.000000e+00\n",
       "          oil_ppl       2020  electricity  final    3.001508e+08\n",
       "                        2025  electricity  final    3.001508e+08\n",
       "                        2030  electricity  final    3.001508e+08\n",
       "                        2035  electricity  final    3.001508e+08\n",
       "                        2040  electricity  final    3.001508e+08\n",
       "          solar_pv_ppl  2020  electricity  final    8.298050e+05\n",
       "                        2025  electricity  final    1.732362e+08\n",
       "                        2030  electricity  final    2.199905e+08\n",
       "                        2035  electricity  final    2.316790e+08\n",
       "                        2040  electricity  final    2.375233e+08\n",
       "dtype: float64"
      ]
     },
     "execution_count": 43,
     "metadata": {},
     "output_type": "execute_result"
    }
   ],
   "source": [
    "rep.set_filters(c = 'electricity')\n",
    "elec = rep.full_key('out')\n",
    "elec = elec.drop('yv','m','nd','hd','h')\n",
    "elec_gen = rep.get(elec)\n",
    "elec_gen"
   ]
  },
  {
   "cell_type": "code",
   "execution_count": 44,
   "metadata": {},
   "outputs": [
    {
     "data": {
      "text/plain": [
       "nl        t      ya    c           l     \n",
       "Maldives  dscd   2020  freshwater  useful        1418.31\n",
       "                 2025  freshwater  useful        2230.74\n",
       "                 2030  freshwater  useful        2451.06\n",
       "                 2035  freshwater  useful        2506.14\n",
       "                 2040  freshwater  useful        2533.68\n",
       "          ro_pl  2020  freshwater  useful    30074581.69\n",
       "                 2025  freshwater  useful    47301769.26\n",
       "                 2030  freshwater  useful    51973548.94\n",
       "                 2035  freshwater  useful    53141493.86\n",
       "                 2040  freshwater  useful    53725466.32\n",
       "dtype: float64"
      ]
     },
     "execution_count": 44,
     "metadata": {},
     "output_type": "execute_result"
    }
   ],
   "source": [
    "rep.set_filters(c = 'freshwater')\n",
    "wat = rep.full_key('out')\n",
    "wat = elec.drop('yv','m','nd','hd','h')\n",
    "wat_gen = rep.get(wat)\n",
    "wat_gen"
   ]
  },
  {
   "cell_type": "code",
   "execution_count": 45,
   "metadata": {},
   "outputs": [
    {
     "data": {
      "text/plain": [
       "nl        t           ya    c                  l     \n",
       "Maldives  appliances  2020  other_electricity  useful    220626.0\n",
       "                      2025  other_electricity  useful    347004.0\n",
       "                      2030  other_electricity  useful    381276.0\n",
       "                      2035  other_electricity  useful    389844.0\n",
       "                      2040  other_electricity  useful    394128.0\n",
       "dtype: float64"
      ]
     },
     "execution_count": 45,
     "metadata": {},
     "output_type": "execute_result"
    }
   ],
   "source": [
    "rep.set_filters(c = 'other_electricity')\n",
    "wat = rep.full_key('out')\n",
    "wat = elec.drop('yv','m','nd','hd','h')\n",
    "wat_gen = rep.get(wat)\n",
    "wat_gen"
   ]
  },
  {
   "cell_type": "code",
   "execution_count": 45,
   "metadata": {},
   "outputs": [],
   "source": [
    "inv = rep.full_key('inv')\n",
    "inv_cost = rep.get(inv)\n",
    "    \n",
    "def collapse_callback(df):\n",
    "    \"\"\"Callback function to populate the IAMC 'variable' column.\"\"\"\n",
    "    df['variable'] = 'Invesment Cost|' + df['t']\n",
    "    return df.drop(['t'], axis =1)\n",
    "    \n",
    "new_key = rep.convert_pyam(\n",
    "        quantities=inv,\n",
    "        year_time_dim='yv',\n",
    "        collapse=collapse_callback)\n",
    "    \n",
    "new_key = new_key[0]      # Unwrap the single item in the list  \n",
    "df = rep.get(new_key)"
   ]
  },
  {
   "cell_type": "code",
   "execution_count": 46,
   "metadata": {},
   "outputs": [],
   "source": [
    "#inv_cost "
   ]
  },
  {
   "cell_type": "code",
   "execution_count": 47,
   "metadata": {},
   "outputs": [],
   "source": [
    "# Demands\n",
    "dmd = rep.full_key('demand')\n",
    "dmd = dmd.drop('h', 'l')\n",
    "rep.get(dmd)   \n",
    "    \n",
    "def collapse_callback(df):\n",
    "    \"\"\"Callback function to populate the IAMC 'variable' column.\"\"\"\n",
    "    df['variable'] = 'Demand|' + df['c']\n",
    "    return df.drop(['c'], axis=1)\n",
    "    \n",
    "new_key = rep.convert_pyam(\n",
    "        quantities= dmd,\n",
    "        year_time_dim='y',\n",
    "        collapse=collapse_callback)\n",
    "    \n",
    "new_key = new_key[0]  # Unwrap the single item in the list\n",
    "    \n",
    "df_dmd = rep.get(new_key)\n",
    "\n",
    "# if filtering for plot yrs is required \n",
    "df_dmd = df_dmd.filter(year= plotyrs)"
   ]
  },
  {
   "cell_type": "code",
   "execution_count": 48,
   "metadata": {
    "scrolled": false
   },
   "outputs": [
    {
     "name": "stderr",
     "output_type": "stream",
     "text": [
      "WARNING:message_ix.reporting.pyam:Extra columns ['c'] when converting None to IAMC format\n"
     ]
    }
   ],
   "source": [
    "# For electricity generation, I filter out electr commodity and report output to see only electricity output here \n",
    "# This filter can be changed for any other commdodity too \n",
    "rep.set_filters(c = 'electricity')\n",
    "elec = rep.full_key('out')\n",
    "elec = elec.drop('yv','m','nd','hd','h')\n",
    "elec_gen = rep.get(elec)\n",
    "elec_gen\n",
    "\n",
    "def collapse_callback(df):\n",
    "    \"\"\"Callback function to populate the IAMC 'variable' column.\"\"\"\n",
    "    df['variable'] = 'Electricity Generation|' + df['l']+ '|'+df['t']\n",
    "    return df.drop(['t','l'], axis =1)\n",
    "    \n",
    "new_key = rep.convert_pyam(\n",
    "        quantities=elec,\n",
    "        year_time_dim='ya',\n",
    "        collapse=collapse_callback)\n",
    "    \n",
    "new_key = new_key[0]  # Unwrap the single item in the list\n",
    "    \n",
    "df_elec = rep.get(new_key)\n",
    "df_elec.data.unit = 'MWa'\n",
    "df_elec.to_csv('electricity_2.csv')"
   ]
  },
  {
   "cell_type": "code",
   "execution_count": 49,
   "metadata": {},
   "outputs": [
    {
     "data": {
      "text/plain": [
       "Index(['Model', 'Scenario', 'Region', 'Variable', 'Unit', 'C', '2020', '2025',\n",
       "       '2030', '2035', '2040'],\n",
       "      dtype='object')"
      ]
     },
     "execution_count": 49,
     "metadata": {},
     "output_type": "execute_result"
    }
   ],
   "source": [
    "elec_gen = pd.read_csv(\"electricity_2.csv\")\n",
    "elec_gen.columns "
   ]
  },
  {
   "cell_type": "code",
   "execution_count": 50,
   "metadata": {},
   "outputs": [
    {
     "name": "stderr",
     "output_type": "stream",
     "text": [
      "INFO:pyam.core:Reading file electricity_2.csv\n"
     ]
    },
    {
     "data": {
      "text/html": [
       "<div>\n",
       "<style scoped>\n",
       "    .dataframe tbody tr th:only-of-type {\n",
       "        vertical-align: middle;\n",
       "    }\n",
       "\n",
       "    .dataframe tbody tr th {\n",
       "        vertical-align: top;\n",
       "    }\n",
       "\n",
       "    .dataframe thead th {\n",
       "        text-align: right;\n",
       "    }\n",
       "</style>\n",
       "<table border=\"1\" class=\"dataframe\">\n",
       "  <thead>\n",
       "    <tr style=\"text-align: right;\">\n",
       "      <th></th>\n",
       "      <th>model</th>\n",
       "      <th>scenario</th>\n",
       "      <th>region</th>\n",
       "      <th>variable</th>\n",
       "      <th>unit</th>\n",
       "      <th>year</th>\n",
       "      <th>c</th>\n",
       "      <th>value</th>\n",
       "    </tr>\n",
       "  </thead>\n",
       "  <tbody>\n",
       "    <tr>\n",
       "      <th>0</th>\n",
       "      <td>Maldives energy model</td>\n",
       "      <td>baseline</td>\n",
       "      <td>Maldives</td>\n",
       "      <td>Electricity Generation|final|battery_ppl</td>\n",
       "      <td>MWa</td>\n",
       "      <td>2020</td>\n",
       "      <td>electricity</td>\n",
       "      <td>0.000000e+00</td>\n",
       "    </tr>\n",
       "    <tr>\n",
       "      <th>1</th>\n",
       "      <td>Maldives energy model</td>\n",
       "      <td>baseline</td>\n",
       "      <td>Maldives</td>\n",
       "      <td>Electricity Generation|final|battery_ppl</td>\n",
       "      <td>MWa</td>\n",
       "      <td>2025</td>\n",
       "      <td>electricity</td>\n",
       "      <td>0.000000e+00</td>\n",
       "    </tr>\n",
       "    <tr>\n",
       "      <th>2</th>\n",
       "      <td>Maldives energy model</td>\n",
       "      <td>baseline</td>\n",
       "      <td>Maldives</td>\n",
       "      <td>Electricity Generation|final|battery_ppl</td>\n",
       "      <td>MWa</td>\n",
       "      <td>2030</td>\n",
       "      <td>electricity</td>\n",
       "      <td>0.000000e+00</td>\n",
       "    </tr>\n",
       "    <tr>\n",
       "      <th>3</th>\n",
       "      <td>Maldives energy model</td>\n",
       "      <td>baseline</td>\n",
       "      <td>Maldives</td>\n",
       "      <td>Electricity Generation|final|battery_ppl</td>\n",
       "      <td>MWa</td>\n",
       "      <td>2035</td>\n",
       "      <td>electricity</td>\n",
       "      <td>0.000000e+00</td>\n",
       "    </tr>\n",
       "    <tr>\n",
       "      <th>4</th>\n",
       "      <td>Maldives energy model</td>\n",
       "      <td>baseline</td>\n",
       "      <td>Maldives</td>\n",
       "      <td>Electricity Generation|final|battery_ppl</td>\n",
       "      <td>MWa</td>\n",
       "      <td>2040</td>\n",
       "      <td>electricity</td>\n",
       "      <td>0.000000e+00</td>\n",
       "    </tr>\n",
       "    <tr>\n",
       "      <th>5</th>\n",
       "      <td>Maldives energy model</td>\n",
       "      <td>baseline</td>\n",
       "      <td>Maldives</td>\n",
       "      <td>Electricity Generation|final|oil_ppl</td>\n",
       "      <td>MWa</td>\n",
       "      <td>2020</td>\n",
       "      <td>electricity</td>\n",
       "      <td>3.007600e+08</td>\n",
       "    </tr>\n",
       "    <tr>\n",
       "      <th>6</th>\n",
       "      <td>Maldives energy model</td>\n",
       "      <td>baseline</td>\n",
       "      <td>Maldives</td>\n",
       "      <td>Electricity Generation|final|oil_ppl</td>\n",
       "      <td>MWa</td>\n",
       "      <td>2025</td>\n",
       "      <td>electricity</td>\n",
       "      <td>4.730401e+08</td>\n",
       "    </tr>\n",
       "    <tr>\n",
       "      <th>7</th>\n",
       "      <td>Maldives energy model</td>\n",
       "      <td>baseline</td>\n",
       "      <td>Maldives</td>\n",
       "      <td>Electricity Generation|final|oil_ppl</td>\n",
       "      <td>MWa</td>\n",
       "      <td>2030</td>\n",
       "      <td>electricity</td>\n",
       "      <td>5.197601e+08</td>\n",
       "    </tr>\n",
       "    <tr>\n",
       "      <th>8</th>\n",
       "      <td>Maldives energy model</td>\n",
       "      <td>baseline</td>\n",
       "      <td>Maldives</td>\n",
       "      <td>Electricity Generation|final|oil_ppl</td>\n",
       "      <td>MWa</td>\n",
       "      <td>2035</td>\n",
       "      <td>electricity</td>\n",
       "      <td>5.314401e+08</td>\n",
       "    </tr>\n",
       "    <tr>\n",
       "      <th>9</th>\n",
       "      <td>Maldives energy model</td>\n",
       "      <td>baseline</td>\n",
       "      <td>Maldives</td>\n",
       "      <td>Electricity Generation|final|oil_ppl</td>\n",
       "      <td>MWa</td>\n",
       "      <td>2040</td>\n",
       "      <td>electricity</td>\n",
       "      <td>5.372801e+08</td>\n",
       "    </tr>\n",
       "    <tr>\n",
       "      <th>10</th>\n",
       "      <td>Maldives energy model</td>\n",
       "      <td>baseline</td>\n",
       "      <td>Maldives</td>\n",
       "      <td>Electricity Generation|final|solar_pv_ppl</td>\n",
       "      <td>MWa</td>\n",
       "      <td>2020</td>\n",
       "      <td>electricity</td>\n",
       "      <td>0.000000e+00</td>\n",
       "    </tr>\n",
       "    <tr>\n",
       "      <th>11</th>\n",
       "      <td>Maldives energy model</td>\n",
       "      <td>baseline</td>\n",
       "      <td>Maldives</td>\n",
       "      <td>Electricity Generation|final|solar_pv_ppl</td>\n",
       "      <td>MWa</td>\n",
       "      <td>2025</td>\n",
       "      <td>electricity</td>\n",
       "      <td>0.000000e+00</td>\n",
       "    </tr>\n",
       "    <tr>\n",
       "      <th>12</th>\n",
       "      <td>Maldives energy model</td>\n",
       "      <td>baseline</td>\n",
       "      <td>Maldives</td>\n",
       "      <td>Electricity Generation|final|solar_pv_ppl</td>\n",
       "      <td>MWa</td>\n",
       "      <td>2030</td>\n",
       "      <td>electricity</td>\n",
       "      <td>0.000000e+00</td>\n",
       "    </tr>\n",
       "    <tr>\n",
       "      <th>13</th>\n",
       "      <td>Maldives energy model</td>\n",
       "      <td>baseline</td>\n",
       "      <td>Maldives</td>\n",
       "      <td>Electricity Generation|final|solar_pv_ppl</td>\n",
       "      <td>MWa</td>\n",
       "      <td>2035</td>\n",
       "      <td>electricity</td>\n",
       "      <td>0.000000e+00</td>\n",
       "    </tr>\n",
       "    <tr>\n",
       "      <th>14</th>\n",
       "      <td>Maldives energy model</td>\n",
       "      <td>baseline</td>\n",
       "      <td>Maldives</td>\n",
       "      <td>Electricity Generation|final|solar_pv_ppl</td>\n",
       "      <td>MWa</td>\n",
       "      <td>2040</td>\n",
       "      <td>electricity</td>\n",
       "      <td>0.000000e+00</td>\n",
       "    </tr>\n",
       "  </tbody>\n",
       "</table>\n",
       "</div>"
      ],
      "text/plain": [
       "                    model  scenario    region  \\\n",
       "0   Maldives energy model  baseline  Maldives   \n",
       "1   Maldives energy model  baseline  Maldives   \n",
       "2   Maldives energy model  baseline  Maldives   \n",
       "3   Maldives energy model  baseline  Maldives   \n",
       "4   Maldives energy model  baseline  Maldives   \n",
       "5   Maldives energy model  baseline  Maldives   \n",
       "6   Maldives energy model  baseline  Maldives   \n",
       "7   Maldives energy model  baseline  Maldives   \n",
       "8   Maldives energy model  baseline  Maldives   \n",
       "9   Maldives energy model  baseline  Maldives   \n",
       "10  Maldives energy model  baseline  Maldives   \n",
       "11  Maldives energy model  baseline  Maldives   \n",
       "12  Maldives energy model  baseline  Maldives   \n",
       "13  Maldives energy model  baseline  Maldives   \n",
       "14  Maldives energy model  baseline  Maldives   \n",
       "\n",
       "                                     variable unit  year            c  \\\n",
       "0    Electricity Generation|final|battery_ppl  MWa  2020  electricity   \n",
       "1    Electricity Generation|final|battery_ppl  MWa  2025  electricity   \n",
       "2    Electricity Generation|final|battery_ppl  MWa  2030  electricity   \n",
       "3    Electricity Generation|final|battery_ppl  MWa  2035  electricity   \n",
       "4    Electricity Generation|final|battery_ppl  MWa  2040  electricity   \n",
       "5        Electricity Generation|final|oil_ppl  MWa  2020  electricity   \n",
       "6        Electricity Generation|final|oil_ppl  MWa  2025  electricity   \n",
       "7        Electricity Generation|final|oil_ppl  MWa  2030  electricity   \n",
       "8        Electricity Generation|final|oil_ppl  MWa  2035  electricity   \n",
       "9        Electricity Generation|final|oil_ppl  MWa  2040  electricity   \n",
       "10  Electricity Generation|final|solar_pv_ppl  MWa  2020  electricity   \n",
       "11  Electricity Generation|final|solar_pv_ppl  MWa  2025  electricity   \n",
       "12  Electricity Generation|final|solar_pv_ppl  MWa  2030  electricity   \n",
       "13  Electricity Generation|final|solar_pv_ppl  MWa  2035  electricity   \n",
       "14  Electricity Generation|final|solar_pv_ppl  MWa  2040  electricity   \n",
       "\n",
       "           value  \n",
       "0   0.000000e+00  \n",
       "1   0.000000e+00  \n",
       "2   0.000000e+00  \n",
       "3   0.000000e+00  \n",
       "4   0.000000e+00  \n",
       "5   3.007600e+08  \n",
       "6   4.730401e+08  \n",
       "7   5.197601e+08  \n",
       "8   5.314401e+08  \n",
       "9   5.372801e+08  \n",
       "10  0.000000e+00  \n",
       "11  0.000000e+00  \n",
       "12  0.000000e+00  \n",
       "13  0.000000e+00  \n",
       "14  0.000000e+00  "
      ]
     },
     "execution_count": 50,
     "metadata": {},
     "output_type": "execute_result"
    }
   ],
   "source": [
    "# Loading data from csv into a pyam format\n",
    "elec_gen = pyam.IamDataFrame(data='electricity_2.csv', encoding='ISO-8859-1')\n",
    "# Looking into data in the pyam format\n",
    "elec_gen.data"
   ]
  },
  {
   "cell_type": "code",
   "execution_count": 51,
   "metadata": {
    "scrolled": true
   },
   "outputs": [
    {
     "data": {
      "text/plain": [
       "<AxesSubplot:title={'center':'model: Maldives energy model scenario: baseline region: Maldives'}, xlabel='Year', ylabel='MWa'>"
      ]
     },
     "execution_count": 51,
     "metadata": {},
     "output_type": "execute_result"
    },
    {
     "data": {
      "image/png": "[encoded data removed]",
      "text/plain": [
       "<Figure size 432x288 with 1 Axes>"
      ]
     },
     "metadata": {},
     "output_type": "display_data"
    }
   ],
   "source": [
    "elec = elec_gen.filter(region=['Maldives'], variable='Electricity Generation|final|*', year=plotyrs)\n",
    "elec.plot.bar(stacked=True)"
   ]
  },
  {
   "cell_type": "code",
   "execution_count": 52,
   "metadata": {},
   "outputs": [
    {
     "name": "stderr",
     "output_type": "stream",
     "text": [
      "WARNING:message_ix.reporting.pyam:Extra columns ['c'] when converting None to IAMC format\n"
     ]
    }
   ],
   "source": [
    "rep.set_filters(c = 'cooling')\n",
    "cool = rep.full_key('out')\n",
    "cool = cool.drop('yv','m','nd','hd','h')\n",
    "cool_gen = rep.get(cool)\n",
    "cool_gen\n",
    "\n",
    "def collapse_callback(df):\n",
    "    \"\"\"Callback function to populate the IAMC 'variable' column.\"\"\"\n",
    "    df['variable'] = 'Electricity Generation|' + df['l']+ '|'+df['t']\n",
    "    return df.drop(['t','l'], axis =1)\n",
    "    \n",
    "new_key = rep.convert_pyam(\n",
    "        quantities=cool,\n",
    "        year_time_dim='ya',\n",
    "        collapse=collapse_callback)\n",
    "    \n",
    "new_key = new_key[0]  # Unwrap the single item in the list\n",
    "    \n",
    "df_cool = rep.get(new_key)\n",
    "df_cool.data.unit = 'MWa'\n",
    "df_cool.to_csv('cooling.csv')"
   ]
  },
  {
   "cell_type": "code",
   "execution_count": 53,
   "metadata": {},
   "outputs": [
    {
     "data": {
      "text/plain": [
       "Index(['Model', 'Scenario', 'Region', 'Variable', 'Unit', 'C', '2020', '2025',\n",
       "       '2030', '2035', '2040'],\n",
       "      dtype='object')"
      ]
     },
     "execution_count": 53,
     "metadata": {},
     "output_type": "execute_result"
    }
   ],
   "source": [
    "elec_gen = pd.read_csv(\"cooling.csv\")\n",
    "elec_gen.columns "
   ]
  },
  {
   "cell_type": "code",
   "execution_count": 54,
   "metadata": {},
   "outputs": [
    {
     "name": "stderr",
     "output_type": "stream",
     "text": [
      "INFO:pyam.core:Reading file cooling.csv\n"
     ]
    },
    {
     "data": {
      "text/html": [
       "<div>\n",
       "<style scoped>\n",
       "    .dataframe tbody tr th:only-of-type {\n",
       "        vertical-align: middle;\n",
       "    }\n",
       "\n",
       "    .dataframe tbody tr th {\n",
       "        vertical-align: top;\n",
       "    }\n",
       "\n",
       "    .dataframe thead th {\n",
       "        text-align: right;\n",
       "    }\n",
       "</style>\n",
       "<table border=\"1\" class=\"dataframe\">\n",
       "  <thead>\n",
       "    <tr style=\"text-align: right;\">\n",
       "      <th></th>\n",
       "      <th>model</th>\n",
       "      <th>scenario</th>\n",
       "      <th>region</th>\n",
       "      <th>variable</th>\n",
       "      <th>unit</th>\n",
       "      <th>year</th>\n",
       "      <th>c</th>\n",
       "      <th>value</th>\n",
       "    </tr>\n",
       "  </thead>\n",
       "  <tbody>\n",
       "    <tr>\n",
       "      <th>0</th>\n",
       "      <td>Maldives energy model</td>\n",
       "      <td>baseline</td>\n",
       "      <td>Maldives</td>\n",
       "      <td>Electricity Generation|useful|ac</td>\n",
       "      <td>MWta</td>\n",
       "      <td>2020</td>\n",
       "      <td>cooling</td>\n",
       "      <td>283662.0</td>\n",
       "    </tr>\n",
       "    <tr>\n",
       "      <th>1</th>\n",
       "      <td>Maldives energy model</td>\n",
       "      <td>baseline</td>\n",
       "      <td>Maldives</td>\n",
       "      <td>Electricity Generation|useful|ac</td>\n",
       "      <td>MWta</td>\n",
       "      <td>2025</td>\n",
       "      <td>cooling</td>\n",
       "      <td>446148.0</td>\n",
       "    </tr>\n",
       "    <tr>\n",
       "      <th>2</th>\n",
       "      <td>Maldives energy model</td>\n",
       "      <td>baseline</td>\n",
       "      <td>Maldives</td>\n",
       "      <td>Electricity Generation|useful|ac</td>\n",
       "      <td>MWta</td>\n",
       "      <td>2030</td>\n",
       "      <td>cooling</td>\n",
       "      <td>490212.0</td>\n",
       "    </tr>\n",
       "    <tr>\n",
       "      <th>3</th>\n",
       "      <td>Maldives energy model</td>\n",
       "      <td>baseline</td>\n",
       "      <td>Maldives</td>\n",
       "      <td>Electricity Generation|useful|ac</td>\n",
       "      <td>MWta</td>\n",
       "      <td>2035</td>\n",
       "      <td>cooling</td>\n",
       "      <td>501228.0</td>\n",
       "    </tr>\n",
       "    <tr>\n",
       "      <th>4</th>\n",
       "      <td>Maldives energy model</td>\n",
       "      <td>baseline</td>\n",
       "      <td>Maldives</td>\n",
       "      <td>Electricity Generation|useful|ac</td>\n",
       "      <td>MWta</td>\n",
       "      <td>2040</td>\n",
       "      <td>cooling</td>\n",
       "      <td>506736.0</td>\n",
       "    </tr>\n",
       "    <tr>\n",
       "      <th>5</th>\n",
       "      <td>Maldives energy model</td>\n",
       "      <td>baseline</td>\n",
       "      <td>Maldives</td>\n",
       "      <td>Electricity Generation|useful|dscd</td>\n",
       "      <td>MWta</td>\n",
       "      <td>2020</td>\n",
       "      <td>cooling</td>\n",
       "      <td>0.0</td>\n",
       "    </tr>\n",
       "    <tr>\n",
       "      <th>6</th>\n",
       "      <td>Maldives energy model</td>\n",
       "      <td>baseline</td>\n",
       "      <td>Maldives</td>\n",
       "      <td>Electricity Generation|useful|dscd</td>\n",
       "      <td>MWta</td>\n",
       "      <td>2025</td>\n",
       "      <td>cooling</td>\n",
       "      <td>0.0</td>\n",
       "    </tr>\n",
       "    <tr>\n",
       "      <th>7</th>\n",
       "      <td>Maldives energy model</td>\n",
       "      <td>baseline</td>\n",
       "      <td>Maldives</td>\n",
       "      <td>Electricity Generation|useful|dscd</td>\n",
       "      <td>MWta</td>\n",
       "      <td>2030</td>\n",
       "      <td>cooling</td>\n",
       "      <td>0.0</td>\n",
       "    </tr>\n",
       "    <tr>\n",
       "      <th>8</th>\n",
       "      <td>Maldives energy model</td>\n",
       "      <td>baseline</td>\n",
       "      <td>Maldives</td>\n",
       "      <td>Electricity Generation|useful|dscd</td>\n",
       "      <td>MWta</td>\n",
       "      <td>2035</td>\n",
       "      <td>cooling</td>\n",
       "      <td>0.0</td>\n",
       "    </tr>\n",
       "    <tr>\n",
       "      <th>9</th>\n",
       "      <td>Maldives energy model</td>\n",
       "      <td>baseline</td>\n",
       "      <td>Maldives</td>\n",
       "      <td>Electricity Generation|useful|dscd</td>\n",
       "      <td>MWta</td>\n",
       "      <td>2040</td>\n",
       "      <td>cooling</td>\n",
       "      <td>0.0</td>\n",
       "    </tr>\n",
       "    <tr>\n",
       "      <th>10</th>\n",
       "      <td>Maldives energy model</td>\n",
       "      <td>baseline</td>\n",
       "      <td>Maldives</td>\n",
       "      <td>Electricity Generation|useful|swac</td>\n",
       "      <td>MWta</td>\n",
       "      <td>2020</td>\n",
       "      <td>cooling</td>\n",
       "      <td>0.0</td>\n",
       "    </tr>\n",
       "    <tr>\n",
       "      <th>11</th>\n",
       "      <td>Maldives energy model</td>\n",
       "      <td>baseline</td>\n",
       "      <td>Maldives</td>\n",
       "      <td>Electricity Generation|useful|swac</td>\n",
       "      <td>MWta</td>\n",
       "      <td>2025</td>\n",
       "      <td>cooling</td>\n",
       "      <td>0.0</td>\n",
       "    </tr>\n",
       "    <tr>\n",
       "      <th>12</th>\n",
       "      <td>Maldives energy model</td>\n",
       "      <td>baseline</td>\n",
       "      <td>Maldives</td>\n",
       "      <td>Electricity Generation|useful|swac</td>\n",
       "      <td>MWta</td>\n",
       "      <td>2030</td>\n",
       "      <td>cooling</td>\n",
       "      <td>0.0</td>\n",
       "    </tr>\n",
       "    <tr>\n",
       "      <th>13</th>\n",
       "      <td>Maldives energy model</td>\n",
       "      <td>baseline</td>\n",
       "      <td>Maldives</td>\n",
       "      <td>Electricity Generation|useful|swac</td>\n",
       "      <td>MWta</td>\n",
       "      <td>2035</td>\n",
       "      <td>cooling</td>\n",
       "      <td>0.0</td>\n",
       "    </tr>\n",
       "    <tr>\n",
       "      <th>14</th>\n",
       "      <td>Maldives energy model</td>\n",
       "      <td>baseline</td>\n",
       "      <td>Maldives</td>\n",
       "      <td>Electricity Generation|useful|swac</td>\n",
       "      <td>MWta</td>\n",
       "      <td>2040</td>\n",
       "      <td>cooling</td>\n",
       "      <td>0.0</td>\n",
       "    </tr>\n",
       "  </tbody>\n",
       "</table>\n",
       "</div>"
      ],
      "text/plain": [
       "                    model  scenario    region  \\\n",
       "0   Maldives energy model  baseline  Maldives   \n",
       "1   Maldives energy model  baseline  Maldives   \n",
       "2   Maldives energy model  baseline  Maldives   \n",
       "3   Maldives energy model  baseline  Maldives   \n",
       "4   Maldives energy model  baseline  Maldives   \n",
       "5   Maldives energy model  baseline  Maldives   \n",
       "6   Maldives energy model  baseline  Maldives   \n",
       "7   Maldives energy model  baseline  Maldives   \n",
       "8   Maldives energy model  baseline  Maldives   \n",
       "9   Maldives energy model  baseline  Maldives   \n",
       "10  Maldives energy model  baseline  Maldives   \n",
       "11  Maldives energy model  baseline  Maldives   \n",
       "12  Maldives energy model  baseline  Maldives   \n",
       "13  Maldives energy model  baseline  Maldives   \n",
       "14  Maldives energy model  baseline  Maldives   \n",
       "\n",
       "                              variable  unit  year        c     value  \n",
       "0     Electricity Generation|useful|ac  MWta  2020  cooling  283662.0  \n",
       "1     Electricity Generation|useful|ac  MWta  2025  cooling  446148.0  \n",
       "2     Electricity Generation|useful|ac  MWta  2030  cooling  490212.0  \n",
       "3     Electricity Generation|useful|ac  MWta  2035  cooling  501228.0  \n",
       "4     Electricity Generation|useful|ac  MWta  2040  cooling  506736.0  \n",
       "5   Electricity Generation|useful|dscd  MWta  2020  cooling       0.0  \n",
       "6   Electricity Generation|useful|dscd  MWta  2025  cooling       0.0  \n",
       "7   Electricity Generation|useful|dscd  MWta  2030  cooling       0.0  \n",
       "8   Electricity Generation|useful|dscd  MWta  2035  cooling       0.0  \n",
       "9   Electricity Generation|useful|dscd  MWta  2040  cooling       0.0  \n",
       "10  Electricity Generation|useful|swac  MWta  2020  cooling       0.0  \n",
       "11  Electricity Generation|useful|swac  MWta  2025  cooling       0.0  \n",
       "12  Electricity Generation|useful|swac  MWta  2030  cooling       0.0  \n",
       "13  Electricity Generation|useful|swac  MWta  2035  cooling       0.0  \n",
       "14  Electricity Generation|useful|swac  MWta  2040  cooling       0.0  "
      ]
     },
     "execution_count": 54,
     "metadata": {},
     "output_type": "execute_result"
    }
   ],
   "source": [
    "# Loading data from csv into a pyam format\n",
    "cool_gen = pyam.IamDataFrame(data='cooling.csv', encoding='ISO-8859-1')\n",
    "# Looking into data in the pyam format\n",
    "cool_gen.data"
   ]
  },
  {
   "cell_type": "code",
   "execution_count": 55,
   "metadata": {},
   "outputs": [
    {
     "data": {
      "text/plain": [
       "<AxesSubplot:title={'center':'model: Maldives energy model scenario: baseline region: Maldives'}, xlabel='Year', ylabel='MWta'>"
      ]
     },
     "execution_count": 55,
     "metadata": {},
     "output_type": "execute_result"
    },
    {
     "data": {
      "image/png": "[encoded data removed]",
      "text/plain": [
       "<Figure size 432x288 with 1 Axes>"
      ]
     },
     "metadata": {},
     "output_type": "display_data"
    }
   ],
   "source": [
    "cool = cool_gen.filter(region=['Maldives'], variable='Electricity Generation|useful|*', year=plotyrs)\n",
    "cool.plot.bar(stacked=True)"
   ]
  },
  {
   "cell_type": "code",
   "execution_count": 56,
   "metadata": {},
   "outputs": [
    {
     "name": "stderr",
     "output_type": "stream",
     "text": [
      "WARNING:message_ix.reporting.pyam:Extra columns ['c'] when converting None to IAMC format\n"
     ]
    }
   ],
   "source": [
    "rep.set_filters(c = 'freshwater')\n",
    "wat = rep.full_key('out')\n",
    "wat = wat.drop('yv','m','nd','hd','h')\n",
    "wat_gen = rep.get(wat)\n",
    "wat_gen\n",
    "\n",
    "def collapse_callback(df):\n",
    "    \"\"\"Callback function to populate the IAMC 'variable' column.\"\"\"\n",
    "    df['variable'] = 'Electricity Generation|' + df['l']+ '|'+df['t']\n",
    "    return df.drop(['t','l'], axis =1)\n",
    "    \n",
    "new_key = rep.convert_pyam(\n",
    "        quantities=wat,\n",
    "        year_time_dim='ya',\n",
    "        collapse=collapse_callback)\n",
    "    \n",
    "new_key = new_key[0]  # Unwrap the single item in the list\n",
    "    \n",
    "df_wat = rep.get(new_key)\n",
    "df_wat.data.unit = 'm^3'\n",
    "df_wat.to_csv('freshwater.csv')"
   ]
  },
  {
   "cell_type": "code",
   "execution_count": 57,
   "metadata": {},
   "outputs": [],
   "source": [
    "elec_gen = pd.read_csv(\"freshwater.csv\")"
   ]
  },
  {
   "cell_type": "code",
   "execution_count": 58,
   "metadata": {},
   "outputs": [
    {
     "name": "stderr",
     "output_type": "stream",
     "text": [
      "INFO:pyam.core:Reading file freshwater.csv\n"
     ]
    },
    {
     "data": {
      "text/html": [
       "<div>\n",
       "<style scoped>\n",
       "    .dataframe tbody tr th:only-of-type {\n",
       "        vertical-align: middle;\n",
       "    }\n",
       "\n",
       "    .dataframe tbody tr th {\n",
       "        vertical-align: top;\n",
       "    }\n",
       "\n",
       "    .dataframe thead th {\n",
       "        text-align: right;\n",
       "    }\n",
       "</style>\n",
       "<table border=\"1\" class=\"dataframe\">\n",
       "  <thead>\n",
       "    <tr style=\"text-align: right;\">\n",
       "      <th></th>\n",
       "      <th>model</th>\n",
       "      <th>scenario</th>\n",
       "      <th>region</th>\n",
       "      <th>variable</th>\n",
       "      <th>unit</th>\n",
       "      <th>year</th>\n",
       "      <th>c</th>\n",
       "      <th>value</th>\n",
       "    </tr>\n",
       "  </thead>\n",
       "  <tbody>\n",
       "    <tr>\n",
       "      <th>0</th>\n",
       "      <td>Maldives energy model</td>\n",
       "      <td>baseline</td>\n",
       "      <td>Maldives</td>\n",
       "      <td>Electricity Generation|useful|dscd</td>\n",
       "      <td>a * m ** 3</td>\n",
       "      <td>2020</td>\n",
       "      <td>freshwater</td>\n",
       "      <td>0.0</td>\n",
       "    </tr>\n",
       "    <tr>\n",
       "      <th>1</th>\n",
       "      <td>Maldives energy model</td>\n",
       "      <td>baseline</td>\n",
       "      <td>Maldives</td>\n",
       "      <td>Electricity Generation|useful|dscd</td>\n",
       "      <td>a * m ** 3</td>\n",
       "      <td>2025</td>\n",
       "      <td>freshwater</td>\n",
       "      <td>0.0</td>\n",
       "    </tr>\n",
       "    <tr>\n",
       "      <th>2</th>\n",
       "      <td>Maldives energy model</td>\n",
       "      <td>baseline</td>\n",
       "      <td>Maldives</td>\n",
       "      <td>Electricity Generation|useful|dscd</td>\n",
       "      <td>a * m ** 3</td>\n",
       "      <td>2030</td>\n",
       "      <td>freshwater</td>\n",
       "      <td>0.0</td>\n",
       "    </tr>\n",
       "    <tr>\n",
       "      <th>3</th>\n",
       "      <td>Maldives energy model</td>\n",
       "      <td>baseline</td>\n",
       "      <td>Maldives</td>\n",
       "      <td>Electricity Generation|useful|dscd</td>\n",
       "      <td>a * m ** 3</td>\n",
       "      <td>2035</td>\n",
       "      <td>freshwater</td>\n",
       "      <td>0.0</td>\n",
       "    </tr>\n",
       "    <tr>\n",
       "      <th>4</th>\n",
       "      <td>Maldives energy model</td>\n",
       "      <td>baseline</td>\n",
       "      <td>Maldives</td>\n",
       "      <td>Electricity Generation|useful|dscd</td>\n",
       "      <td>a * m ** 3</td>\n",
       "      <td>2040</td>\n",
       "      <td>freshwater</td>\n",
       "      <td>0.0</td>\n",
       "    </tr>\n",
       "    <tr>\n",
       "      <th>5</th>\n",
       "      <td>Maldives energy model</td>\n",
       "      <td>baseline</td>\n",
       "      <td>Maldives</td>\n",
       "      <td>Electricity Generation|useful|ro_pl</td>\n",
       "      <td>a * m ** 3</td>\n",
       "      <td>2020</td>\n",
       "      <td>freshwater</td>\n",
       "      <td>29200000.0</td>\n",
       "    </tr>\n",
       "    <tr>\n",
       "      <th>6</th>\n",
       "      <td>Maldives energy model</td>\n",
       "      <td>baseline</td>\n",
       "      <td>Maldives</td>\n",
       "      <td>Electricity Generation|useful|ro_pl</td>\n",
       "      <td>a * m ** 3</td>\n",
       "      <td>2025</td>\n",
       "      <td>freshwater</td>\n",
       "      <td>29200000.0</td>\n",
       "    </tr>\n",
       "    <tr>\n",
       "      <th>7</th>\n",
       "      <td>Maldives energy model</td>\n",
       "      <td>baseline</td>\n",
       "      <td>Maldives</td>\n",
       "      <td>Electricity Generation|useful|ro_pl</td>\n",
       "      <td>a * m ** 3</td>\n",
       "      <td>2030</td>\n",
       "      <td>freshwater</td>\n",
       "      <td>29200000.0</td>\n",
       "    </tr>\n",
       "    <tr>\n",
       "      <th>8</th>\n",
       "      <td>Maldives energy model</td>\n",
       "      <td>baseline</td>\n",
       "      <td>Maldives</td>\n",
       "      <td>Electricity Generation|useful|ro_pl</td>\n",
       "      <td>a * m ** 3</td>\n",
       "      <td>2035</td>\n",
       "      <td>freshwater</td>\n",
       "      <td>29200000.0</td>\n",
       "    </tr>\n",
       "    <tr>\n",
       "      <th>9</th>\n",
       "      <td>Maldives energy model</td>\n",
       "      <td>baseline</td>\n",
       "      <td>Maldives</td>\n",
       "      <td>Electricity Generation|useful|ro_pl</td>\n",
       "      <td>a * m ** 3</td>\n",
       "      <td>2040</td>\n",
       "      <td>freshwater</td>\n",
       "      <td>29200000.0</td>\n",
       "    </tr>\n",
       "  </tbody>\n",
       "</table>\n",
       "</div>"
      ],
      "text/plain": [
       "                   model  scenario    region  \\\n",
       "0  Maldives energy model  baseline  Maldives   \n",
       "1  Maldives energy model  baseline  Maldives   \n",
       "2  Maldives energy model  baseline  Maldives   \n",
       "3  Maldives energy model  baseline  Maldives   \n",
       "4  Maldives energy model  baseline  Maldives   \n",
       "5  Maldives energy model  baseline  Maldives   \n",
       "6  Maldives energy model  baseline  Maldives   \n",
       "7  Maldives energy model  baseline  Maldives   \n",
       "8  Maldives energy model  baseline  Maldives   \n",
       "9  Maldives energy model  baseline  Maldives   \n",
       "\n",
       "                              variable        unit  year           c  \\\n",
       "0   Electricity Generation|useful|dscd  a * m ** 3  2020  freshwater   \n",
       "1   Electricity Generation|useful|dscd  a * m ** 3  2025  freshwater   \n",
       "2   Electricity Generation|useful|dscd  a * m ** 3  2030  freshwater   \n",
       "3   Electricity Generation|useful|dscd  a * m ** 3  2035  freshwater   \n",
       "4   Electricity Generation|useful|dscd  a * m ** 3  2040  freshwater   \n",
       "5  Electricity Generation|useful|ro_pl  a * m ** 3  2020  freshwater   \n",
       "6  Electricity Generation|useful|ro_pl  a * m ** 3  2025  freshwater   \n",
       "7  Electricity Generation|useful|ro_pl  a * m ** 3  2030  freshwater   \n",
       "8  Electricity Generation|useful|ro_pl  a * m ** 3  2035  freshwater   \n",
       "9  Electricity Generation|useful|ro_pl  a * m ** 3  2040  freshwater   \n",
       "\n",
       "        value  \n",
       "0         0.0  \n",
       "1         0.0  \n",
       "2         0.0  \n",
       "3         0.0  \n",
       "4         0.0  \n",
       "5  29200000.0  \n",
       "6  29200000.0  \n",
       "7  29200000.0  \n",
       "8  29200000.0  \n",
       "9  29200000.0  "
      ]
     },
     "execution_count": 58,
     "metadata": {},
     "output_type": "execute_result"
    }
   ],
   "source": [
    "# Loading data from csv into a pyam format\n",
    "wat_gen = pyam.IamDataFrame(data='freshwater.csv', encoding='ISO-8859-1')\n",
    "# Looking into data in the pyam format\n",
    "wat_gen.data"
   ]
  },
  {
   "cell_type": "code",
   "execution_count": 59,
   "metadata": {},
   "outputs": [
    {
     "data": {
      "text/plain": [
       "<AxesSubplot:title={'center':'model: Maldives energy model scenario: baseline region: Maldives'}, xlabel='Year', ylabel='a * m ** 3'>"
      ]
     },
     "execution_count": 59,
     "metadata": {},
     "output_type": "execute_result"
    },
    {
     "data": {
      "image/png": "[encoded data removed]",
      "text/plain": [
       "<Figure size 432x288 with 1 Axes>"
      ]
     },
     "metadata": {},
     "output_type": "display_data"
    }
   ],
   "source": [
    "wat = wat_gen.filter(region=['Maldives'], variable='Electricity Generation|useful|*', year=plotyrs)\n",
    "wat.plot.bar(stacked=True)"
   ]
  },
  {
   "cell_type": "code",
   "execution_count": 60,
   "metadata": {},
   "outputs": [],
   "source": [
    "mp.close_db()"
   ]
  },
  {
   "cell_type": "code",
   "execution_count": null,
   "metadata": {},
   "outputs": [],
   "source": []
  }
 ],
 "metadata": {
  "anaconda-cloud": {},
  "kernelspec": {
   "display_name": "Python 3",
   "language": "python",
   "name": "python3"
  },
  "language_info": {
   "codemirror_mode": {
    "name": "ipython",
    "version": 3
   },
   "file_extension": ".py",
   "mimetype": "text/x-python",
   "name": "python",
   "nbconvert_exporter": "python",
   "pygments_lexer": "ipython3",
   "version": "3.8.8"
  }
 },
 "nbformat": 4,
 "nbformat_minor": 1
}
