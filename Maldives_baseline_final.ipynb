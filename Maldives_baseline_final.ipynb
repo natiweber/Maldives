{
 "cells": [
  {
   "cell_type": "markdown",
   "metadata": {},
   "source": [
    "# Maldives 2040"
   ]
  },
  {
   "cell_type": "markdown",
   "metadata": {},
   "source": [
    "Abbreviations:\n",
    "air-conditioning  (AC) \\\n",
    "Seawater air conditioning (SWAC) \\\n",
    "Reverse Osmosis desalination (RO) \\\n",
    "Deep Seawater Cooling and Desalination (DSCD) "
   ]
  },
  {
   "cell_type": "markdown",
   "metadata": {},
   "source": [
    "## 2 METHODOLOGY                                       "
   ]
  },
  {
   "cell_type": "code",
   "execution_count": 1421,
   "metadata": {},
   "outputs": [],
   "source": [
    "import itertools\n",
    "import pandas as pd\n",
    "\n",
    "import matplotlib.pyplot as plt\n",
    "%matplotlib inline\n",
    "plt.style.use('ggplot')\n",
    "\n",
    "import ixmp\n",
    "import message_ix\n",
    "\n",
    "from message_ix.utils import make_df"
   ]
  },
  {
   "cell_type": "code",
   "execution_count": 1422,
   "metadata": {
    "scrolled": true
   },
   "outputs": [],
   "source": [
    "mp = ixmp.Platform()"
   ]
  },
  {
   "cell_type": "code",
   "execution_count": 1423,
   "metadata": {},
   "outputs": [],
   "source": [
    "#scen = \"baseline\"\n",
    "#version = 1\n",
    "scenario = message_ix.Scenario(mp, model=\"Maldives energy model\",\n",
    "                               scenario='baseline', version='new')"
   ]
  },
  {
   "cell_type": "markdown",
   "metadata": {},
   "source": [
    "### Time and Spatial Detail\n",
    "\n",
    "Horizons: 2025, 2030, 2035, 2040.\n"
   ]
  },
  {
   "cell_type": "code",
   "execution_count": 1424,
   "metadata": {},
   "outputs": [],
   "source": [
    "history = [2015]\n",
    "horizon = [2020, 2025, 2030, 2035, 2040]\n",
    "scenario.add_horizon(year= history + horizon, firstmodelyear=horizon[0])"
   ]
  },
  {
   "cell_type": "code",
   "execution_count": 1425,
   "metadata": {},
   "outputs": [],
   "source": [
    "country = 'Maldives'\n",
    "scenario.add_spatial_sets({'country': country})"
   ]
  },
  {
   "cell_type": "code",
   "execution_count": 1426,
   "metadata": {},
   "outputs": [],
   "source": [
    "scenario.add_set(\"commodity\", [\"electricity\", 'freshwater', 'cooling', 'other_electricity'])\n",
    "scenario.add_set(\"level\", [\"secondary\", \"final\", \"useful\"])\n",
    "scenario.add_set(\"technology\", ['oil_ppl', 'solar_pv_ppl', 'battery_ppl', 'ro_pl', 'appliances'])\n",
    "scenario.add_set(\"mode\", \"standard\")"
   ]
  },
  {
   "cell_type": "markdown",
   "metadata": {},
   "source": [
    "### 2.1 Growth estimation"
   ]
  },
  {
   "cell_type": "code",
   "execution_count": 1427,
   "metadata": {
    "scrolled": false
   },
   "outputs": [
    {
     "data": {
      "text/plain": [
       "<AxesSubplot:title={'center':'Demand'}>"
      ]
     },
     "execution_count": 1427,
     "metadata": {},
     "output_type": "execute_result"
    },
    {
     "data": {
      "image/png": "[encoded data removed]",
      "text/plain": [
       "<Figure size 432x288 with 1 Axes>"
      ]
     },
     "metadata": {},
     "output_type": "display_data"
    }
   ],
   "source": [
    "#growth for years 2020, 2025, 2030, 2035, 2040\n",
    "demand = pd.Series([1.045, 1.27, 1.55, 1.71, 1.84], index=horizon) # data from electricity growth from 2017 up to 2037\n",
    "demand.plot(title='Demand')"
   ]
  },
  {
   "cell_type": "code",
   "execution_count": 1428,
   "metadata": {},
   "outputs": [],
   "source": [
    "e_plants = [\n",
    "    \"battery_ppl\",  #electricity plants\n",
    "    \"oil_ppl\", \n",
    "    \"solar_pv_ppl\",\n",
    "]\n",
    "w_plants = [ \n",
    "    \"ro_pl\",  #desalination plant\n",
    "]\n",
    "\n",
    "secondary_energy_techs = e_plants + w_plants \n",
    "\n",
    "others = ['appliances'] #others electricity demand\n",
    "\n",
    "useful_techs = ['ac', 'swac', 'dscd'] #+ others"
   ]
  },
  {
   "cell_type": "code",
   "execution_count": 1429,
   "metadata": {},
   "outputs": [],
   "source": [
    "technologies = secondary_energy_techs + useful_techs\n",
    "scenario.add_set(\"technology\", technologies)"
   ]
  },
  {
   "cell_type": "code",
   "execution_count": 1430,
   "metadata": {},
   "outputs": [],
   "source": [
    "df = scenario.par('demand')\n",
    "scenario.remove_par('demand', df)"
   ]
  },
  {
   "cell_type": "markdown",
   "metadata": {},
   "source": [
    "### 2.2 Demand for electricity, cooling and freshwater\n",
    "Notice: that 1 MW of electricity (MWe) produces 0.1 m3/s of water and 20 MW of cooling\n",
    "\n",
    "#### Units in MESSAGEix\n",
    "\n",
    "In the MESSAGEix formulation, activity (generation) is related to capacity only with a capacity factor. So, there is no unit conversion possibility. And the values are per model year. This means, demand is defined as 100 GWh/a, and hence, the activity of a technology meeting this demand will be in the same unit, i.e., 100 GWh/a. Assuming a capacity factor of 1, the capacity of this technology will be 100 GWa/h (!). In a more familiar unit, 100 GWa/h is equal to 100 / 8760 = 0.0114 GW or simpler 11.4 MW. (check if you can reach to 100 GWh/a from 11.4 MW!?   ==>  11.4 \\* 8760 \\* 1 / 1000  = 100).\n",
    "\n",
    "#### Solution:\n",
    "As there is no unit check by MESSAGEix, an easy way is to assume a corresponding yearly unit for activity and capacity. For example, capacity GW and activity GWa. Or capacity MW and activity MWa, which we use here.\n",
    "\n",
    "1 MWa = 8760 MWh = 8.76 GWh"
   ]
  },
  {
   "cell_type": "code",
   "execution_count": 1431,
   "metadata": {},
   "outputs": [
    {
     "name": "stderr",
     "output_type": "stream",
     "text": [
      "INFO:root:unit `MW_th` is already defined in the platform instance\n",
      "INFO:root:unit `MWa/a` is already defined in the platform instance\n",
      "INFO:root:unit `MWa_th/a` is already defined in the platform instance\n",
      "INFO:root:unit `m^3/a` is already defined in the platform instance\n"
     ]
    }
   ],
   "source": [
    "# Adding a new unit to the library\n",
    "mp.add_unit('MW_th')\n",
    "mp.add_unit('MWa/a')\n",
    "mp.add_unit('MWa_th/a')\n",
    "mp.add_unit('m^3/a')\n",
    "\n",
    "ac_demand_per_year = (91800 * 3) / 8760 *5 # air conditiong energy demand in 2017 (MWh_th)\n",
    "ac_demand = pd.DataFrame({\n",
    "        'node': country,\n",
    "        'commodity': 'cooling',\n",
    "        'level': 'useful',\n",
    "        'year': horizon,\n",
    "        'time': 'year',\n",
    "        'value': ac_demand_per_year*demand,\n",
    "        'unit': 'MWa_th/a',\n",
    "    })\n",
    "scenario.add_par(\"demand\", ac_demand)\n",
    "\n",
    "others_demand_per_year = 214200 / 8760 * 5.5\n",
    "others_demand = pd.DataFrame({\n",
    "        'node': country,\n",
    "        'commodity': 'other_electricity',\n",
    "        'level': 'useful',\n",
    "        'year': horizon,\n",
    "        'time': 'year',\n",
    "        'value': others_demand_per_year * demand,\n",
    "        'unit': 'MWa/a',\n",
    "    })\n",
    "scenario.add_par(\"demand\", others_demand)\n",
    "\n",
    "freshwater_demand_per_year = 80000 * 365 #80,000 m^3/d\n",
    "freshwater_demand = pd.DataFrame({\n",
    "        'node': country,\n",
    "        'commodity': 'freshwater',\n",
    "        'level': 'useful',\n",
    "        'year': horizon,\n",
    "        'time': 'year',\n",
    "        'value': freshwater_demand_per_year * demand,\n",
    "        'unit': 'm^3/a', \n",
    "    })\n",
    "scenario.add_par(\"demand\", freshwater_demand)   "
   ]
  },
  {
   "cell_type": "code",
   "execution_count": 1432,
   "metadata": {},
   "outputs": [
    {
     "name": "stdout",
     "output_type": "stream",
     "text": [
      "          node commodity   level  year  time       value      unit\n",
      "2020  Maldives   cooling  useful  2020  year  164.265411  MWa_th/a\n",
      "2025  Maldives   cooling  useful  2025  year  199.633562  MWa_th/a\n",
      "2030  Maldives   cooling  useful  2030  year  243.647260  MWa_th/a\n",
      "2035  Maldives   cooling  useful  2035  year  268.797945  MWa_th/a\n",
      "2040  Maldives   cooling  useful  2040  year  289.232877  MWa_th/a\n"
     ]
    }
   ],
   "source": [
    "print(ac_demand)"
   ]
  },
  {
   "cell_type": "markdown",
   "metadata": {
    "collapsed": true
   },
   "source": [
    "### 2.3 Engineering Parameters: inputs and outputs"
   ]
  },
  {
   "cell_type": "code",
   "execution_count": 1433,
   "metadata": {},
   "outputs": [],
   "source": [
    "year_df = scenario.vintage_and_active_years()\n",
    "vintage_years, act_years = year_df['year_vtg'], year_df['year_act'] "
   ]
  },
  {
   "cell_type": "code",
   "execution_count": 1434,
   "metadata": {},
   "outputs": [],
   "source": [
    "base = {\n",
    "    'node_loc': country,\n",
    "    'year_vtg': vintage_years,\n",
    "    'year_act': act_years,\n",
    "    'mode': 'standard',\n",
    "    'time': 'year',\n",
    "    'unit': '-',\n",
    "}\n",
    "\n",
    "base_input = make_df(base, node_origin=country, time_origin='year')\n",
    "base_output = make_df(base, node_dest=country, time_dest='year')"
   ]
  },
  {
   "cell_type": "code",
   "execution_count": 1435,
   "metadata": {},
   "outputs": [],
   "source": [
    "#others_electricity\n",
    "\n",
    "app_in = make_df(base_input, technology='appliances', commodity='electricity',  \n",
    "                  level='final', value=1., unit=\"MWa/a\")\n",
    "scenario.add_par('input', app_in)\n",
    "app_out = make_df(base_output, technology='appliances', commodity='other_electricity', \n",
    "              level='useful', value=1., unit=\"MWa/a\")\n",
    "scenario.add_par('output', app_out)"
   ]
  },
  {
   "cell_type": "code",
   "execution_count": 1436,
   "metadata": {},
   "outputs": [],
   "source": [
    "#air conditioning\n",
    "ac_in = make_df(base_input, technology='ac', commodity='electricity',  \n",
    "                  level='final', value=1., unit=\"MWa/a\")\n",
    "scenario.add_par('input', ac_in)\n",
    "ac_out = make_df(base_output, technology='ac', commodity='cooling', \n",
    "                   level='useful', value=10., unit='MWa_th/a')\n",
    "scenario.add_par('output', ac_out)"
   ]
  },
  {
   "cell_type": "markdown",
   "metadata": {},
   "source": [
    "### Notice:\n",
    "If the capacity of SWAC is given per electricity input, keep the input 1 and change the output relative to input, i.e., output = 20.\n",
    "But if the capacity of SWAC is given per output thermal power, e.g., they say this machine is 20 MW_th; then you need to make the ouput = 1, and change the input relative to output. So, the input will be 1/20 MW, which is electricity needed for generating 1 MW_th.\n",
    "\n",
    "Here, we assume that the size and cost of technology is communicated based on input electric capacity:"
   ]
  },
  {
   "cell_type": "code",
   "execution_count": 1437,
   "metadata": {},
   "outputs": [],
   "source": [
    "# Seawater air conditioning (swac)\n",
    "swac_in = make_df(base_input, technology='swac', commodity='electricity',  \n",
    "                  level='final', value=1., unit=\"MWa/a\")\n",
    "scenario.add_par('input', swac_in)\n",
    "swac_out = make_df(base_output, technology='swac', commodity='cooling', \n",
    "                   level='useful', value=20, unit='MWa_th/a')\n",
    "scenario.add_par('output', swac_out)"
   ]
  },
  {
   "cell_type": "code",
   "execution_count": 1438,
   "metadata": {},
   "outputs": [],
   "source": [
    "#secondary to useful w_tec\n",
    "#reverse osmosis - water demand (row)\n",
    "ro_in = make_df(base_input, technology='ro_pl', commodity='electricity',  \n",
    "                  level='final', value=1, unit=\"MWa/a\")\n",
    "scenario.add_par('input', ro_in)\n",
    "ro_out = make_df(base_output, technology='ro_pl', commodity='freshwater', \n",
    "                   level='useful', value=0.1 * 3600 * 8760, unit=\"m^3/a\")   # 0.1 m^3/s = 0.1*3600 m^3/h = 0.1*3600*8760 m^3/a \n",
    "scenario.add_par('output', ro_out)"
   ]
  },
  {
   "cell_type": "code",
   "execution_count": 1439,
   "metadata": {},
   "outputs": [
    {
     "data": {
      "text/html": [
       "<div>\n",
       "<style scoped>\n",
       "    .dataframe tbody tr th:only-of-type {\n",
       "        vertical-align: middle;\n",
       "    }\n",
       "\n",
       "    .dataframe tbody tr th {\n",
       "        vertical-align: top;\n",
       "    }\n",
       "\n",
       "    .dataframe thead th {\n",
       "        text-align: right;\n",
       "    }\n",
       "</style>\n",
       "<table border=\"1\" class=\"dataframe\">\n",
       "  <thead>\n",
       "    <tr style=\"text-align: right;\">\n",
       "      <th></th>\n",
       "      <th>node_loc</th>\n",
       "      <th>year_vtg</th>\n",
       "      <th>year_act</th>\n",
       "      <th>mode</th>\n",
       "      <th>time</th>\n",
       "      <th>unit</th>\n",
       "      <th>node_dest</th>\n",
       "      <th>time_dest</th>\n",
       "      <th>technology</th>\n",
       "      <th>commodity</th>\n",
       "      <th>level</th>\n",
       "      <th>value</th>\n",
       "    </tr>\n",
       "  </thead>\n",
       "  <tbody>\n",
       "    <tr>\n",
       "      <th>0</th>\n",
       "      <td>Maldives</td>\n",
       "      <td>2015</td>\n",
       "      <td>2020</td>\n",
       "      <td>standard</td>\n",
       "      <td>year</td>\n",
       "      <td>m^3/a</td>\n",
       "      <td>Maldives</td>\n",
       "      <td>year</td>\n",
       "      <td>ro_pl</td>\n",
       "      <td>freshwater</td>\n",
       "      <td>useful</td>\n",
       "      <td>3153600.0</td>\n",
       "    </tr>\n",
       "    <tr>\n",
       "      <th>1</th>\n",
       "      <td>Maldives</td>\n",
       "      <td>2015</td>\n",
       "      <td>2025</td>\n",
       "      <td>standard</td>\n",
       "      <td>year</td>\n",
       "      <td>m^3/a</td>\n",
       "      <td>Maldives</td>\n",
       "      <td>year</td>\n",
       "      <td>ro_pl</td>\n",
       "      <td>freshwater</td>\n",
       "      <td>useful</td>\n",
       "      <td>3153600.0</td>\n",
       "    </tr>\n",
       "    <tr>\n",
       "      <th>2</th>\n",
       "      <td>Maldives</td>\n",
       "      <td>2015</td>\n",
       "      <td>2030</td>\n",
       "      <td>standard</td>\n",
       "      <td>year</td>\n",
       "      <td>m^3/a</td>\n",
       "      <td>Maldives</td>\n",
       "      <td>year</td>\n",
       "      <td>ro_pl</td>\n",
       "      <td>freshwater</td>\n",
       "      <td>useful</td>\n",
       "      <td>3153600.0</td>\n",
       "    </tr>\n",
       "    <tr>\n",
       "      <th>3</th>\n",
       "      <td>Maldives</td>\n",
       "      <td>2015</td>\n",
       "      <td>2035</td>\n",
       "      <td>standard</td>\n",
       "      <td>year</td>\n",
       "      <td>m^3/a</td>\n",
       "      <td>Maldives</td>\n",
       "      <td>year</td>\n",
       "      <td>ro_pl</td>\n",
       "      <td>freshwater</td>\n",
       "      <td>useful</td>\n",
       "      <td>3153600.0</td>\n",
       "    </tr>\n",
       "    <tr>\n",
       "      <th>4</th>\n",
       "      <td>Maldives</td>\n",
       "      <td>2015</td>\n",
       "      <td>2040</td>\n",
       "      <td>standard</td>\n",
       "      <td>year</td>\n",
       "      <td>m^3/a</td>\n",
       "      <td>Maldives</td>\n",
       "      <td>year</td>\n",
       "      <td>ro_pl</td>\n",
       "      <td>freshwater</td>\n",
       "      <td>useful</td>\n",
       "      <td>3153600.0</td>\n",
       "    </tr>\n",
       "    <tr>\n",
       "      <th>5</th>\n",
       "      <td>Maldives</td>\n",
       "      <td>2020</td>\n",
       "      <td>2020</td>\n",
       "      <td>standard</td>\n",
       "      <td>year</td>\n",
       "      <td>m^3/a</td>\n",
       "      <td>Maldives</td>\n",
       "      <td>year</td>\n",
       "      <td>ro_pl</td>\n",
       "      <td>freshwater</td>\n",
       "      <td>useful</td>\n",
       "      <td>3153600.0</td>\n",
       "    </tr>\n",
       "    <tr>\n",
       "      <th>6</th>\n",
       "      <td>Maldives</td>\n",
       "      <td>2020</td>\n",
       "      <td>2025</td>\n",
       "      <td>standard</td>\n",
       "      <td>year</td>\n",
       "      <td>m^3/a</td>\n",
       "      <td>Maldives</td>\n",
       "      <td>year</td>\n",
       "      <td>ro_pl</td>\n",
       "      <td>freshwater</td>\n",
       "      <td>useful</td>\n",
       "      <td>3153600.0</td>\n",
       "    </tr>\n",
       "    <tr>\n",
       "      <th>7</th>\n",
       "      <td>Maldives</td>\n",
       "      <td>2020</td>\n",
       "      <td>2030</td>\n",
       "      <td>standard</td>\n",
       "      <td>year</td>\n",
       "      <td>m^3/a</td>\n",
       "      <td>Maldives</td>\n",
       "      <td>year</td>\n",
       "      <td>ro_pl</td>\n",
       "      <td>freshwater</td>\n",
       "      <td>useful</td>\n",
       "      <td>3153600.0</td>\n",
       "    </tr>\n",
       "    <tr>\n",
       "      <th>8</th>\n",
       "      <td>Maldives</td>\n",
       "      <td>2020</td>\n",
       "      <td>2035</td>\n",
       "      <td>standard</td>\n",
       "      <td>year</td>\n",
       "      <td>m^3/a</td>\n",
       "      <td>Maldives</td>\n",
       "      <td>year</td>\n",
       "      <td>ro_pl</td>\n",
       "      <td>freshwater</td>\n",
       "      <td>useful</td>\n",
       "      <td>3153600.0</td>\n",
       "    </tr>\n",
       "    <tr>\n",
       "      <th>9</th>\n",
       "      <td>Maldives</td>\n",
       "      <td>2020</td>\n",
       "      <td>2040</td>\n",
       "      <td>standard</td>\n",
       "      <td>year</td>\n",
       "      <td>m^3/a</td>\n",
       "      <td>Maldives</td>\n",
       "      <td>year</td>\n",
       "      <td>ro_pl</td>\n",
       "      <td>freshwater</td>\n",
       "      <td>useful</td>\n",
       "      <td>3153600.0</td>\n",
       "    </tr>\n",
       "    <tr>\n",
       "      <th>10</th>\n",
       "      <td>Maldives</td>\n",
       "      <td>2025</td>\n",
       "      <td>2025</td>\n",
       "      <td>standard</td>\n",
       "      <td>year</td>\n",
       "      <td>m^3/a</td>\n",
       "      <td>Maldives</td>\n",
       "      <td>year</td>\n",
       "      <td>ro_pl</td>\n",
       "      <td>freshwater</td>\n",
       "      <td>useful</td>\n",
       "      <td>3153600.0</td>\n",
       "    </tr>\n",
       "    <tr>\n",
       "      <th>11</th>\n",
       "      <td>Maldives</td>\n",
       "      <td>2025</td>\n",
       "      <td>2030</td>\n",
       "      <td>standard</td>\n",
       "      <td>year</td>\n",
       "      <td>m^3/a</td>\n",
       "      <td>Maldives</td>\n",
       "      <td>year</td>\n",
       "      <td>ro_pl</td>\n",
       "      <td>freshwater</td>\n",
       "      <td>useful</td>\n",
       "      <td>3153600.0</td>\n",
       "    </tr>\n",
       "    <tr>\n",
       "      <th>12</th>\n",
       "      <td>Maldives</td>\n",
       "      <td>2025</td>\n",
       "      <td>2035</td>\n",
       "      <td>standard</td>\n",
       "      <td>year</td>\n",
       "      <td>m^3/a</td>\n",
       "      <td>Maldives</td>\n",
       "      <td>year</td>\n",
       "      <td>ro_pl</td>\n",
       "      <td>freshwater</td>\n",
       "      <td>useful</td>\n",
       "      <td>3153600.0</td>\n",
       "    </tr>\n",
       "    <tr>\n",
       "      <th>13</th>\n",
       "      <td>Maldives</td>\n",
       "      <td>2025</td>\n",
       "      <td>2040</td>\n",
       "      <td>standard</td>\n",
       "      <td>year</td>\n",
       "      <td>m^3/a</td>\n",
       "      <td>Maldives</td>\n",
       "      <td>year</td>\n",
       "      <td>ro_pl</td>\n",
       "      <td>freshwater</td>\n",
       "      <td>useful</td>\n",
       "      <td>3153600.0</td>\n",
       "    </tr>\n",
       "    <tr>\n",
       "      <th>14</th>\n",
       "      <td>Maldives</td>\n",
       "      <td>2030</td>\n",
       "      <td>2030</td>\n",
       "      <td>standard</td>\n",
       "      <td>year</td>\n",
       "      <td>m^3/a</td>\n",
       "      <td>Maldives</td>\n",
       "      <td>year</td>\n",
       "      <td>ro_pl</td>\n",
       "      <td>freshwater</td>\n",
       "      <td>useful</td>\n",
       "      <td>3153600.0</td>\n",
       "    </tr>\n",
       "    <tr>\n",
       "      <th>15</th>\n",
       "      <td>Maldives</td>\n",
       "      <td>2030</td>\n",
       "      <td>2035</td>\n",
       "      <td>standard</td>\n",
       "      <td>year</td>\n",
       "      <td>m^3/a</td>\n",
       "      <td>Maldives</td>\n",
       "      <td>year</td>\n",
       "      <td>ro_pl</td>\n",
       "      <td>freshwater</td>\n",
       "      <td>useful</td>\n",
       "      <td>3153600.0</td>\n",
       "    </tr>\n",
       "    <tr>\n",
       "      <th>16</th>\n",
       "      <td>Maldives</td>\n",
       "      <td>2030</td>\n",
       "      <td>2040</td>\n",
       "      <td>standard</td>\n",
       "      <td>year</td>\n",
       "      <td>m^3/a</td>\n",
       "      <td>Maldives</td>\n",
       "      <td>year</td>\n",
       "      <td>ro_pl</td>\n",
       "      <td>freshwater</td>\n",
       "      <td>useful</td>\n",
       "      <td>3153600.0</td>\n",
       "    </tr>\n",
       "    <tr>\n",
       "      <th>17</th>\n",
       "      <td>Maldives</td>\n",
       "      <td>2035</td>\n",
       "      <td>2035</td>\n",
       "      <td>standard</td>\n",
       "      <td>year</td>\n",
       "      <td>m^3/a</td>\n",
       "      <td>Maldives</td>\n",
       "      <td>year</td>\n",
       "      <td>ro_pl</td>\n",
       "      <td>freshwater</td>\n",
       "      <td>useful</td>\n",
       "      <td>3153600.0</td>\n",
       "    </tr>\n",
       "    <tr>\n",
       "      <th>18</th>\n",
       "      <td>Maldives</td>\n",
       "      <td>2035</td>\n",
       "      <td>2040</td>\n",
       "      <td>standard</td>\n",
       "      <td>year</td>\n",
       "      <td>m^3/a</td>\n",
       "      <td>Maldives</td>\n",
       "      <td>year</td>\n",
       "      <td>ro_pl</td>\n",
       "      <td>freshwater</td>\n",
       "      <td>useful</td>\n",
       "      <td>3153600.0</td>\n",
       "    </tr>\n",
       "    <tr>\n",
       "      <th>19</th>\n",
       "      <td>Maldives</td>\n",
       "      <td>2040</td>\n",
       "      <td>2040</td>\n",
       "      <td>standard</td>\n",
       "      <td>year</td>\n",
       "      <td>m^3/a</td>\n",
       "      <td>Maldives</td>\n",
       "      <td>year</td>\n",
       "      <td>ro_pl</td>\n",
       "      <td>freshwater</td>\n",
       "      <td>useful</td>\n",
       "      <td>3153600.0</td>\n",
       "    </tr>\n",
       "  </tbody>\n",
       "</table>\n",
       "</div>"
      ],
      "text/plain": [
       "    node_loc  year_vtg  year_act      mode  time   unit node_dest time_dest  \\\n",
       "0   Maldives      2015      2020  standard  year  m^3/a  Maldives      year   \n",
       "1   Maldives      2015      2025  standard  year  m^3/a  Maldives      year   \n",
       "2   Maldives      2015      2030  standard  year  m^3/a  Maldives      year   \n",
       "3   Maldives      2015      2035  standard  year  m^3/a  Maldives      year   \n",
       "4   Maldives      2015      2040  standard  year  m^3/a  Maldives      year   \n",
       "5   Maldives      2020      2020  standard  year  m^3/a  Maldives      year   \n",
       "6   Maldives      2020      2025  standard  year  m^3/a  Maldives      year   \n",
       "7   Maldives      2020      2030  standard  year  m^3/a  Maldives      year   \n",
       "8   Maldives      2020      2035  standard  year  m^3/a  Maldives      year   \n",
       "9   Maldives      2020      2040  standard  year  m^3/a  Maldives      year   \n",
       "10  Maldives      2025      2025  standard  year  m^3/a  Maldives      year   \n",
       "11  Maldives      2025      2030  standard  year  m^3/a  Maldives      year   \n",
       "12  Maldives      2025      2035  standard  year  m^3/a  Maldives      year   \n",
       "13  Maldives      2025      2040  standard  year  m^3/a  Maldives      year   \n",
       "14  Maldives      2030      2030  standard  year  m^3/a  Maldives      year   \n",
       "15  Maldives      2030      2035  standard  year  m^3/a  Maldives      year   \n",
       "16  Maldives      2030      2040  standard  year  m^3/a  Maldives      year   \n",
       "17  Maldives      2035      2035  standard  year  m^3/a  Maldives      year   \n",
       "18  Maldives      2035      2040  standard  year  m^3/a  Maldives      year   \n",
       "19  Maldives      2040      2040  standard  year  m^3/a  Maldives      year   \n",
       "\n",
       "   technology   commodity   level      value  \n",
       "0       ro_pl  freshwater  useful  3153600.0  \n",
       "1       ro_pl  freshwater  useful  3153600.0  \n",
       "2       ro_pl  freshwater  useful  3153600.0  \n",
       "3       ro_pl  freshwater  useful  3153600.0  \n",
       "4       ro_pl  freshwater  useful  3153600.0  \n",
       "5       ro_pl  freshwater  useful  3153600.0  \n",
       "6       ro_pl  freshwater  useful  3153600.0  \n",
       "7       ro_pl  freshwater  useful  3153600.0  \n",
       "8       ro_pl  freshwater  useful  3153600.0  \n",
       "9       ro_pl  freshwater  useful  3153600.0  \n",
       "10      ro_pl  freshwater  useful  3153600.0  \n",
       "11      ro_pl  freshwater  useful  3153600.0  \n",
       "12      ro_pl  freshwater  useful  3153600.0  \n",
       "13      ro_pl  freshwater  useful  3153600.0  \n",
       "14      ro_pl  freshwater  useful  3153600.0  \n",
       "15      ro_pl  freshwater  useful  3153600.0  \n",
       "16      ro_pl  freshwater  useful  3153600.0  \n",
       "17      ro_pl  freshwater  useful  3153600.0  \n",
       "18      ro_pl  freshwater  useful  3153600.0  \n",
       "19      ro_pl  freshwater  useful  3153600.0  "
      ]
     },
     "execution_count": 1439,
     "metadata": {},
     "output_type": "execute_result"
    }
   ],
   "source": [
    "ro_out"
   ]
  },
  {
   "cell_type": "code",
   "execution_count": 1440,
   "metadata": {},
   "outputs": [],
   "source": [
    "#dscd\n",
    "#deep seawater cooling and desalination - cooling demand (dscdc)\n",
    "\n",
    "dscdc_in = make_df(base_input, technology='dscd', commodity='electricity',  \n",
    "                  level='final', value=1., unit=\"MWa/a\")\n",
    "scenario.add_par('input', dscdc_in)\n",
    "dscdc_out = make_df(base_output, technology='dscd', commodity='cooling', \n",
    "                   level='useful', value=20, unit=\"MWa_th/a\")\n",
    "scenario.add_par('output', dscdc_out)\n",
    "dscdw_out = make_df(base_output, technology='dscd', commodity='freshwater', \n",
    "                   level='useful', value=0.1 * 3600 * 8760, unit=\"m^3/a\") \n",
    "scenario.add_par('output', dscdw_out)"
   ]
  },
  {
   "cell_type": "code",
   "execution_count": 1441,
   "metadata": {},
   "outputs": [],
   "source": [
    "#secondary to useful e_tecs\n",
    "\n",
    "oil_out = make_df(base_output, technology='oil_ppl', commodity='electricity', \n",
    "                   level='final', value=1., unit=\"MWa/a\")\n",
    "scenario.add_par('output', oil_out)\n",
    "\n",
    "solar_pv_out = make_df(base_output, technology='solar_pv_ppl', commodity='electricity', \n",
    "                   level='final', value=1., unit=\"MWa/a\")\n",
    "scenario.add_par('output', solar_pv_out)\n",
    "\n",
    "battery_out = make_df(base_output, technology='battery_ppl', commodity='electricity', \n",
    "                   level='final', value=1., unit=\"MWa/a\")\n",
    "scenario.add_par('output', battery_out)"
   ]
  },
  {
   "cell_type": "markdown",
   "metadata": {},
   "source": [
    "### 2.4 Operational Constraints and Parameters"
   ]
  },
  {
   "cell_type": "code",
   "execution_count": 1442,
   "metadata": {},
   "outputs": [],
   "source": [
    "base_capacity_factor = {\n",
    "    'node_loc': country,\n",
    "    'year_vtg': vintage_years,\n",
    "    'year_act': act_years,\n",
    "    'time': 'year',\n",
    "    'unit': '-',\n",
    "}\n",
    "\n",
    "capacity_factor = {\n",
    "    'oil_ppl': 0.75,\n",
    "    'battery_ppl': 0.3, \n",
    "    'solar_pv_ppl': 0.3,\n",
    "    'ac': 0.8,\n",
    "    'ro_pl': 0.8,\n",
    "    'swac': 0.8, \n",
    "    'dscd': 0.8, \n",
    "    'appliances': 0.5\n",
    "}\n",
    "\n",
    "for tec, val in capacity_factor.items():\n",
    "    df = make_df(base_capacity_factor, technology=tec, value=val)\n",
    "    scenario.add_par('capacity_factor', df)"
   ]
  },
  {
   "cell_type": "code",
   "execution_count": 1443,
   "metadata": {},
   "outputs": [],
   "source": [
    "base_technical_lifetime = {\n",
    "    'node_loc': country,\n",
    "    'year_vtg': horizon,\n",
    "    'unit': 'y',\n",
    "}\n",
    "\n",
    "lifetimes = {\n",
    "    'oil_ppl': 30,\n",
    "    'battery_ppl': 5,\n",
    "    'solar_pv_ppl': 20,\n",
    "    'ac': 15,\n",
    "    'ro_pl': 40,\n",
    "    'swac': 40, \n",
    "    'dscd': 40, \n",
    "    'appliances': 10\n",
    "}\n",
    "\n",
    "for tec, val in lifetimes.items():\n",
    "    df = make_df(base_technical_lifetime, technology=tec, value=val)\n",
    "    scenario.add_par('technical_lifetime', df)"
   ]
  },
  {
   "cell_type": "markdown",
   "metadata": {},
   "source": [
    "### 2.5 Technological Diffusion and Contraction"
   ]
  },
  {
   "cell_type": "code",
   "execution_count": 1444,
   "metadata": {},
   "outputs": [],
   "source": [
    "base_growth = {\n",
    "    'node_loc': country,\n",
    "    'year_vtg': horizon,\n",
    "    'time': 'year',\n",
    "    'unit': '-',\n",
    "}"
   ]
  },
  {
   "cell_type": "code",
   "execution_count": 1445,
   "metadata": {},
   "outputs": [],
   "source": [
    "growth_technologies = {\n",
    "    \"solar_pv_ppl\": 2, \n",
    "    \"swac\": 0.1,\n",
    "    \"dscd\": 0.1,\n",
    "}\n",
    "\n",
    "for tec, val in growth_technologies.items():\n",
    "    df = make_df(base_growth, technology=tec, value=val) \n",
    "    scenario.add_par('growth_new_capacity_up', df)"
   ]
  },
  {
   "cell_type": "code",
   "execution_count": 1446,
   "metadata": {},
   "outputs": [],
   "source": [
    "hist_e_gen = others_demand_per_year + ac_demand_per_year/3\n",
    "hist_c_gen = ac_demand_per_year/3\n",
    "hist_w_gen = freshwater_demand_per_year"
   ]
  },
  {
   "cell_type": "code",
   "execution_count": 1447,
   "metadata": {
    "scrolled": false
   },
   "outputs": [
    {
     "data": {
      "text/plain": [
       "52.3972602739726"
      ]
     },
     "execution_count": 1447,
     "metadata": {},
     "output_type": "execute_result"
    }
   ],
   "source": [
    "hist_c_gen"
   ]
  },
  {
   "cell_type": "code",
   "execution_count": 1448,
   "metadata": {},
   "outputs": [],
   "source": [
    "base_capacity = {\n",
    "    'node_loc': country,\n",
    "    'year_vtg': history,\n",
    "    'unit': '-',\n",
    "}\n",
    "\n",
    "base_activity = {\n",
    "    'node_loc': country,\n",
    "    'year_vtg': history,\n",
    "    'mode': 'standard',\n",
    "    'time': 'year',\n",
    "    'unit': '-',\n",
    "}"
   ]
  },
  {
   "cell_type": "code",
   "execution_count": 1449,
   "metadata": {},
   "outputs": [],
   "source": [
    "old_activity = {\n",
    "    'solar_pv_ppl': .05*hist_e_gen,\n",
    "    'oil_ppl': .95*hist_e_gen,\n",
    "    'ac':  .98* hist_c_gen,\n",
    "    'swac': .01 * hist_c_gen,\n",
    "    'dscd': .01 * hist_c_gen,\n",
    "    'ro_pl': .99*hist_w_gen,\n",
    "        \n",
    "}\n",
    "\n",
    "for tec, val in old_activity.items():\n",
    "    df = make_df(base_activity, technology=tec, value=val)\n",
    "    scenario.add_par('initial_new_capacity_up', df)"
   ]
  },
  {
   "cell_type": "code",
   "execution_count": 1450,
   "metadata": {},
   "outputs": [],
   "source": [
    "act_to_cap = {\n",
    "    'solar_pv_ppl': 1 / 10 / capacity_factor['solar_pv_ppl'] / 2, # 20 year lifetime\n",
    "    'swac': 1 / 10 / capacity_factor['swac']/2,\n",
    "    'dscd': 1 / 10/ capacity_factor['dscd']/2,    \n",
    "    'ac': 1 / 10/ capacity_factor['ac']/2\n",
    "}\n",
    "\n",
    "for tec in act_to_cap:\n",
    "    value = old_activity[tec] * act_to_cap[tec]\n",
    "    df = make_df(base_capacity, technology=tec, value=value)\n",
    "    scenario.add_par('historical_new_capacity', df)"
   ]
  },
  {
   "cell_type": "code",
   "execution_count": 1451,
   "metadata": {},
   "outputs": [],
   "source": [
    "scenario.add_par(\"interestrate\", horizon, value=0.05, unit='-')"
   ]
  },
  {
   "cell_type": "markdown",
   "metadata": {},
   "source": [
    "### 2.6 Technoeconomic Parameters\n",
    "Because we use the unit of MW for capacity, we should be careful with the cost units.\n",
    "\n",
    "1 \\\\$/kW = 1000 \\\\$/MW = 1 k\\\\$/MW\n",
    "\n",
    "So, we use k$/MW (thousands dollars per MW), and we don't have to change the numbers."
   ]
  },
  {
   "cell_type": "code",
   "execution_count": 1452,
   "metadata": {
    "scrolled": true
   },
   "outputs": [
    {
     "name": "stderr",
     "output_type": "stream",
     "text": [
      "INFO:root:unit `k$/MW` is already defined in the platform instance\n"
     ]
    }
   ],
   "source": [
    "mp.add_unit('k$/MW')\n",
    "base_inv_cost = {\n",
    "    'node_loc': country,\n",
    "    'year_vtg': horizon, \n",
    "    'unit': 'k$/MW',\n",
    "}\n",
    "\n",
    "costs = {\n",
    "    'oil_ppl': 950, #value from Austria baseline model \n",
    "    'battery_ppl': 450, #value from MESSAGE-BRAZIL baseline \n",
    "    'solar_pv_ppl': 677, #value from IEA for India in 2019\n",
    "    'ac': 25, #average price for commercial buildings in USA\n",
    "    'ro_pl': 950, # in this case it is USD/km³ \n",
    "    'swac': 1000,#42000, # USD/kW\n",
    "    'dscd': 950 + 1000,#42000, \n",
    "    'appliances': 50\n",
    "}\n",
    "\n",
    "for tec, val in costs.items():\n",
    "    df = make_df(base_inv_cost, technology=tec, value=val)\n",
    "    scenario.add_par('inv_cost', df)"
   ]
  },
  {
   "cell_type": "code",
   "execution_count": 1453,
   "metadata": {
    "scrolled": true
   },
   "outputs": [
    {
     "name": "stderr",
     "output_type": "stream",
     "text": [
      "INFO:root:unit `k$/MW/a` is already defined in the platform instance\n"
     ]
    }
   ],
   "source": [
    "mp.add_unit('k$/MW/a')\n",
    "base_fix_cost = {\n",
    "    'node_loc': country,\n",
    "    'year_vtg': vintage_years,\n",
    "    'year_act': act_years,\n",
    "    'unit': 'k$/MW/a',\n",
    "}\n",
    "\n",
    "\n",
    "costs = {\n",
    "    'oil_ppl': 0,#25, #value from Austria baseline model \n",
    "    'battery_ppl': 0,#32, #value from MESSAGE-BRAZIL baseline\n",
    "    'solar_pv_ppl': 0,#5, #value from MESSAGE-BRAZIL baseline\n",
    "    'ac': 0,#30, \n",
    "    'ro_pl': 0,#280,\n",
    "    'swac': 0,#195., \n",
    "    'dscd': 0,#(280+195)*0.7, \n",
    "}\n",
    "\n",
    "for tec, val in costs.items():\n",
    "    df = make_df(base_fix_cost, technology=tec, value=val)\n",
    "    scenario.add_par('fix_cost', df)"
   ]
  },
  {
   "cell_type": "markdown",
   "metadata": {},
   "source": [
    "And now we need to change USD/kWa to k\\\\$/MWa... yes, we don't need to change the numbers, because these units are equal!"
   ]
  },
  {
   "cell_type": "code",
   "execution_count": 1454,
   "metadata": {},
   "outputs": [
    {
     "name": "stderr",
     "output_type": "stream",
     "text": [
      "INFO:root:unit `k$/MWa` is already defined in the platform instance\n"
     ]
    }
   ],
   "source": [
    "mp.add_unit('k$/MWa')\n",
    "base_var_cost = {\n",
    "    'node_loc': country,\n",
    "    'year_vtg': vintage_years,\n",
    "    'year_act': act_years,\n",
    "    'mode': 'standard',\n",
    "    'time': 'year',\n",
    "    'unit': 'k$/MWa',\n",
    "}\n",
    "\n",
    "costs = {\n",
    "    'oil_ppl': 77.8, #value from Austria baseline model \n",
    "    'battery_ppl': 0, #value from MESSAGE-BRAZIL baseline\n",
    "    'solar_pv_ppl': 0, #value from MESSAGE-BRAZIL baseline\n",
    "    'ro_pl': 0,\n",
    "    'swac': 0., \n",
    "    'ac': 0., \n",
    "    #'appliances': 0.\n",
    "}\n",
    "\n",
    "for tec, val in costs.items():\n",
    "    df = make_df(base_var_cost, technology=tec, value=val) \n",
    "    scenario.add_par('var_cost', df)"
   ]
  },
  {
   "cell_type": "markdown",
   "metadata": {},
   "source": [
    "### Emissions\n",
    "\n",
    "How about the unit of emissions?\n",
    "\n",
    "0.57 kg/kWh = 0.57 t/MWh = 0.57 * 8760 t/MWa\n",
    "\n",
    "so we need to change the number here:"
   ]
  },
  {
   "cell_type": "code",
   "execution_count": 1455,
   "metadata": {},
   "outputs": [
    {
     "name": "stderr",
     "output_type": "stream",
     "text": [
      "INFO:root:unit `tCO2/MWa` is already defined in the platform instance\n",
      "INFO:root:unit `MtCO2` is already defined in the platform instance\n"
     ]
    }
   ],
   "source": [
    "scenario.add_set('emission', 'CO2')\n",
    "scenario.add_cat('emission', 'GHG', 'CO2')\n",
    "\n",
    "# we now add CO2 emissions to the coal powerplant\n",
    "base_emission_factor = {\n",
    "    'node_loc': country,\n",
    "    'year_vtg': vintage_years,\n",
    "    'year_act': act_years,\n",
    "    'mode': 'standard',\n",
    "    'unit': 'tCO2/MWa',\n",
    "}\n",
    "\n",
    "# adding new units to the model library (needed only once)\n",
    "mp.add_unit('tCO2/MWa')\n",
    "mp.add_unit('MtCO2')\n",
    "\n",
    "emission_factor = make_df(base_emission_factor, technology= 'oil_ppl', emission= 'CO2', value = 0.57 * 8760)\n",
    "scenario.add_par('emission_factor', emission_factor)"
   ]
  },
  {
   "cell_type": "markdown",
   "metadata": {},
   "source": [
    "### Commit the datastructure and solve the model"
   ]
  },
  {
   "cell_type": "code",
   "execution_count": 1456,
   "metadata": {
    "scrolled": true
   },
   "outputs": [
    {
     "name": "stderr",
     "output_type": "stream",
     "text": [
      "INFO:message_ix:version number prior to commit: 0\n",
      "INFO:message_ix:version number prior committing to the database: 30\n"
     ]
    }
   ],
   "source": [
    "from message_ix import log\n",
    "\n",
    "log.info('version number prior to commit: {}'.format(scenario.version))\n",
    "scenario.commit(comment='basic model of Maldives')\n",
    "log.info('version number prior committing to the database: {}'.format(scenario.version))"
   ]
  },
  {
   "cell_type": "code",
   "execution_count": 1457,
   "metadata": {},
   "outputs": [],
   "source": [
    "scenario.set_as_default()"
   ]
  },
  {
   "cell_type": "code",
   "execution_count": 1458,
   "metadata": {},
   "outputs": [],
   "source": [
    "scenario.solve()"
   ]
  },
  {
   "cell_type": "code",
   "execution_count": 1459,
   "metadata": {
    "jupyter": {
     "name": "solve-objective-value"
    }
   },
   "outputs": [
    {
     "data": {
      "text/plain": [
       "493635.46875"
      ]
     },
     "execution_count": 1459,
     "metadata": {},
     "output_type": "execute_result"
    }
   ],
   "source": [
    "scenario.var('OBJ')['lvl']"
   ]
  },
  {
   "cell_type": "markdown",
   "metadata": {},
   "source": [
    "### Let's review the units!!\n",
    "I know it's a bit confusing. So, let's remember the units before moving to the results:\n",
    "\n",
    "capacity = MW\n",
    "\n",
    "activity (generation) = MWa\n",
    "\n",
    "CO2 emissions = tonne of CO2\n",
    "\n",
    "costs = k\\\\$ (thousands dollar)"
   ]
  },
  {
   "cell_type": "markdown",
   "metadata": {},
   "source": [
    "## 3. Plotting Results"
   ]
  },
  {
   "cell_type": "code",
   "execution_count": 1460,
   "metadata": {
    "scrolled": true
   },
   "outputs": [],
   "source": [
    "import pyam\n",
    "from ixmp.reporting import configure\n",
    "from message_ix.reporting import Reporter\n",
    "import os\n",
    "import matplotlib.pyplot as plt\n",
    "configure(units={'replace': {'-': 'MWa'}})"
   ]
  },
  {
   "cell_type": "code",
   "execution_count": 1461,
   "metadata": {},
   "outputs": [],
   "source": [
    "rep = Reporter.from_scenario(scenario)"
   ]
  },
  {
   "cell_type": "code",
   "execution_count": 1462,
   "metadata": {},
   "outputs": [],
   "source": [
    "# plotting years\n",
    "plotyrs = [x for x in set(scenario.set('year')) if x >= scenario.firstmodelyear]"
   ]
  },
  {
   "cell_type": "code",
   "execution_count": 1463,
   "metadata": {},
   "outputs": [
    {
     "data": {
      "text/plain": [
       "nl        t     ya    c        l     \n",
       "Maldives  ac    2020  cooling  useful    150.587054\n",
       "                2025  cooling  useful    172.364705\n",
       "                2030  cooling  useful    194.490767\n",
       "                2035  cooling  useful    184.391196\n",
       "                2040  cooling  useful    148.055236\n",
       "          dscd  2020  cooling  useful      6.839179\n",
       "                2025  cooling  useful     13.634429\n",
       "                2030  cooling  useful     24.578247\n",
       "                2035  cooling  useful     42.203375\n",
       "                2040  cooling  useful     70.588820\n",
       "          swac  2020  cooling  useful      6.839179\n",
       "                2025  cooling  useful     13.634429\n",
       "                2030  cooling  useful     24.578247\n",
       "                2035  cooling  useful     42.203375\n",
       "                2040  cooling  useful     70.588820\n",
       "dtype: float64"
      ]
     },
     "execution_count": 1463,
     "metadata": {},
     "output_type": "execute_result"
    }
   ],
   "source": [
    "rep.set_filters(c = 'cooling')\n",
    "cool = rep.full_key('out')\n",
    "cool = cool.drop('yv','m','nd','hd','h')\n",
    "cool_gen = rep.get(cool)\n",
    "cool_gen"
   ]
  },
  {
   "cell_type": "code",
   "execution_count": 1464,
   "metadata": {},
   "outputs": [
    {
     "data": {
      "text/plain": [
       "nl        t             ya    c            l    \n",
       "Maldives  battery_ppl   2020  electricity  final      0.000000\n",
       "                        2025  electricity  final      0.000000\n",
       "                        2030  electricity  final      0.000000\n",
       "                        2035  electricity  final      0.000000\n",
       "                        2040  electricity  final      0.000000\n",
       "          oil_ppl       2020  electricity  final    163.278731\n",
       "                        2025  electricity  final    198.139009\n",
       "                        2030  electricity  final    241.147564\n",
       "                        2035  electricity  final    266.354197\n",
       "                        2040  electricity  final    282.826796\n",
       "          solar_pv_ppl  2020  electricity  final      2.336045\n",
       "                        2025  electricity  final      2.336045\n",
       "                        2030  electricity  final      2.336045\n",
       "                        2035  electricity  final      0.000000\n",
       "                        2040  electricity  final      0.000000\n",
       "dtype: float64"
      ]
     },
     "execution_count": 1464,
     "metadata": {},
     "output_type": "execute_result"
    }
   ],
   "source": [
    "rep.set_filters(c = 'electricity')\n",
    "elec = rep.full_key('out')\n",
    "elec = elec.drop('yv','m','nd','hd','h')\n",
    "elec_gen = rep.get(elec)\n",
    "elec_gen"
   ]
  },
  {
   "cell_type": "code",
   "execution_count": 1465,
   "metadata": {
    "scrolled": true
   },
   "outputs": [
    {
     "data": {
      "text/plain": [
       "nl        t      ya    c           l     \n",
       "Maldives  dscd   2020  freshwater  useful    1.078402e+06\n",
       "                 2025  freshwater  useful    2.149877e+06\n",
       "                 2030  freshwater  useful    3.875498e+06\n",
       "                 2035  freshwater  useful    6.654628e+06\n",
       "                 2040  freshwater  useful    1.113045e+07\n",
       "          ro_pl  2020  freshwater  useful    2.943560e+07\n",
       "                 2025  freshwater  useful    3.493412e+07\n",
       "                 2030  freshwater  useful    4.138450e+07\n",
       "                 2035  freshwater  useful    4.327737e+07\n",
       "                 2040  freshwater  useful    4.259755e+07\n",
       "dtype: float64"
      ]
     },
     "execution_count": 1465,
     "metadata": {},
     "output_type": "execute_result"
    }
   ],
   "source": [
    "rep.set_filters(c = 'freshwater')\n",
    "wat = rep.full_key('out')\n",
    "wat = wat.drop('yv','m','nd','hd','h')\n",
    "wat_gen = rep.get(wat)\n",
    "wat_gen"
   ]
  },
  {
   "cell_type": "code",
   "execution_count": 1466,
   "metadata": {},
   "outputs": [
    {
     "data": {
      "text/plain": [
       "nl        t           ya    c                  l     \n",
       "Maldives  appliances  2020  other_electricity  useful    140.538185\n",
       "                      2025  other_electricity  useful    170.797603\n",
       "                      2030  other_electricity  useful    208.453767\n",
       "                      2035  other_electricity  useful    229.971575\n",
       "                      2040  other_electricity  useful    247.454795\n",
       "dtype: float64"
      ]
     },
     "execution_count": 1466,
     "metadata": {},
     "output_type": "execute_result"
    }
   ],
   "source": [
    "rep.set_filters(c = 'other_electricity')\n",
    "wat = rep.full_key('out')\n",
    "wat = elec.drop('yv','m','nd','hd','h')\n",
    "wat_gen = rep.get(wat)\n",
    "wat_gen"
   ]
  },
  {
   "cell_type": "code",
   "execution_count": 1467,
   "metadata": {},
   "outputs": [
    {
     "ename": "TypeError",
     "evalue": "convert_pyam() got an unexpected keyword argument 'rename'",
     "output_type": "error",
     "traceback": [
      "\u001b[1;31m---------------------------------------------------------------------------\u001b[0m",
      "\u001b[1;31mTypeError\u001b[0m                                 Traceback (most recent call last)",
      "\u001b[1;32m<ipython-input-1467-8a03cba853b1>\u001b[0m in \u001b[0;36m<module>\u001b[1;34m\u001b[0m\n\u001b[0;32m     12\u001b[0m     \u001b[1;32mreturn\u001b[0m \u001b[0mdf\u001b[0m\u001b[1;33m.\u001b[0m\u001b[0mdrop\u001b[0m\u001b[1;33m(\u001b[0m\u001b[1;33m[\u001b[0m\u001b[1;34m't'\u001b[0m\u001b[1;33m,\u001b[0m\u001b[1;34m'l'\u001b[0m\u001b[1;33m]\u001b[0m\u001b[1;33m,\u001b[0m \u001b[0maxis\u001b[0m \u001b[1;33m=\u001b[0m\u001b[1;36m1\u001b[0m\u001b[1;33m)\u001b[0m\u001b[1;33m\u001b[0m\u001b[1;33m\u001b[0m\u001b[0m\n\u001b[0;32m     13\u001b[0m \u001b[1;33m\u001b[0m\u001b[0m\n\u001b[1;32m---> 14\u001b[1;33m new_key = rep.convert_pyam(\n\u001b[0m\u001b[0;32m     15\u001b[0m         \u001b[0mquantities\u001b[0m\u001b[1;33m=\u001b[0m\u001b[0melec\u001b[0m\u001b[1;33m,\u001b[0m\u001b[1;33m\u001b[0m\u001b[1;33m\u001b[0m\u001b[0m\n\u001b[0;32m     16\u001b[0m         \u001b[0mrename\u001b[0m\u001b[1;33m=\u001b[0m\u001b[0mdict\u001b[0m\u001b[1;33m(\u001b[0m\u001b[0mnl\u001b[0m\u001b[1;33m=\u001b[0m\u001b[1;34m'region'\u001b[0m\u001b[1;33m,\u001b[0m \u001b[0mya\u001b[0m\u001b[1;33m=\u001b[0m\u001b[1;34m'year'\u001b[0m\u001b[1;33m)\u001b[0m\u001b[1;33m,\u001b[0m\u001b[1;33m\u001b[0m\u001b[1;33m\u001b[0m\u001b[0m\n",
      "\u001b[1;31mTypeError\u001b[0m: convert_pyam() got an unexpected keyword argument 'rename'"
     ]
    }
   ],
   "source": [
    "# For electricity generation, I filter out electr commodity and report output to see only electricity output here \n",
    "# This filter can be changed for any other commdodity too \n",
    "rep.set_filters(c = 'electricity')\n",
    "elec = rep.full_key('out')\n",
    "elec = elec.drop('yv','m','nd','hd','h')\n",
    "elec_gen = rep.get(elec)\n",
    "elec_gen\n",
    "\n",
    "def collapse_callback(df):\n",
    "    \"\"\"Callback function to populate the IAMC 'variable' column.\"\"\"\n",
    "    df['variable'] = 'Electricity Generation|' + df['l']+ '|'+df['t']\n",
    "    return df.drop(['t','l'], axis =1)\n",
    "    \n",
    "new_key = rep.convert_pyam(\n",
    "        quantities=elec,\n",
    "        rename=dict(nl='region', ya='year'),\n",
    "        collapse=collapse_callback)\n",
    "    \n",
    "df_elec = rep.get(new_key)\n",
    "df_elec.data.unit = 'MWa'\n",
    "df_elec.to_csv('electricity_2.csv')"
   ]
  },
  {
   "cell_type": "code",
   "execution_count": 1468,
   "metadata": {},
   "outputs": [
    {
     "ename": "FileNotFoundError",
     "evalue": "[Errno 2] No such file or directory: 'electricity_2.csv'",
     "output_type": "error",
     "traceback": [
      "\u001b[1;31m---------------------------------------------------------------------------\u001b[0m",
      "\u001b[1;31mFileNotFoundError\u001b[0m                         Traceback (most recent call last)",
      "\u001b[1;32m<ipython-input-1468-bb228aa2c32c>\u001b[0m in \u001b[0;36m<module>\u001b[1;34m\u001b[0m\n\u001b[1;32m----> 1\u001b[1;33m \u001b[0melec_gen\u001b[0m \u001b[1;33m=\u001b[0m \u001b[0mpd\u001b[0m\u001b[1;33m.\u001b[0m\u001b[0mread_csv\u001b[0m\u001b[1;33m(\u001b[0m\u001b[1;34m\"electricity_2.csv\"\u001b[0m\u001b[1;33m)\u001b[0m\u001b[1;33m\u001b[0m\u001b[1;33m\u001b[0m\u001b[0m\n\u001b[0m\u001b[0;32m      2\u001b[0m \u001b[0melec_gen\u001b[0m\u001b[1;33m.\u001b[0m\u001b[0mcolumns\u001b[0m\u001b[1;33m\u001b[0m\u001b[1;33m\u001b[0m\u001b[0m\n",
      "\u001b[1;32m~\\.conda\\envs\\message_storage_env\\lib\\site-packages\\pandas\\io\\parsers.py\u001b[0m in \u001b[0;36mread_csv\u001b[1;34m(filepath_or_buffer, sep, delimiter, header, names, index_col, usecols, squeeze, prefix, mangle_dupe_cols, dtype, engine, converters, true_values, false_values, skipinitialspace, skiprows, skipfooter, nrows, na_values, keep_default_na, na_filter, verbose, skip_blank_lines, parse_dates, infer_datetime_format, keep_date_col, date_parser, dayfirst, cache_dates, iterator, chunksize, compression, thousands, decimal, lineterminator, quotechar, quoting, doublequote, escapechar, comment, encoding, dialect, error_bad_lines, warn_bad_lines, delim_whitespace, low_memory, memory_map, float_precision, storage_options)\u001b[0m\n\u001b[0;32m    608\u001b[0m     \u001b[0mkwds\u001b[0m\u001b[1;33m.\u001b[0m\u001b[0mupdate\u001b[0m\u001b[1;33m(\u001b[0m\u001b[0mkwds_defaults\u001b[0m\u001b[1;33m)\u001b[0m\u001b[1;33m\u001b[0m\u001b[1;33m\u001b[0m\u001b[0m\n\u001b[0;32m    609\u001b[0m \u001b[1;33m\u001b[0m\u001b[0m\n\u001b[1;32m--> 610\u001b[1;33m     \u001b[1;32mreturn\u001b[0m \u001b[0m_read\u001b[0m\u001b[1;33m(\u001b[0m\u001b[0mfilepath_or_buffer\u001b[0m\u001b[1;33m,\u001b[0m \u001b[0mkwds\u001b[0m\u001b[1;33m)\u001b[0m\u001b[1;33m\u001b[0m\u001b[1;33m\u001b[0m\u001b[0m\n\u001b[0m\u001b[0;32m    611\u001b[0m \u001b[1;33m\u001b[0m\u001b[0m\n\u001b[0;32m    612\u001b[0m \u001b[1;33m\u001b[0m\u001b[0m\n",
      "\u001b[1;32m~\\.conda\\envs\\message_storage_env\\lib\\site-packages\\pandas\\io\\parsers.py\u001b[0m in \u001b[0;36m_read\u001b[1;34m(filepath_or_buffer, kwds)\u001b[0m\n\u001b[0;32m    460\u001b[0m \u001b[1;33m\u001b[0m\u001b[0m\n\u001b[0;32m    461\u001b[0m     \u001b[1;31m# Create the parser.\u001b[0m\u001b[1;33m\u001b[0m\u001b[1;33m\u001b[0m\u001b[1;33m\u001b[0m\u001b[0m\n\u001b[1;32m--> 462\u001b[1;33m     \u001b[0mparser\u001b[0m \u001b[1;33m=\u001b[0m \u001b[0mTextFileReader\u001b[0m\u001b[1;33m(\u001b[0m\u001b[0mfilepath_or_buffer\u001b[0m\u001b[1;33m,\u001b[0m \u001b[1;33m**\u001b[0m\u001b[0mkwds\u001b[0m\u001b[1;33m)\u001b[0m\u001b[1;33m\u001b[0m\u001b[1;33m\u001b[0m\u001b[0m\n\u001b[0m\u001b[0;32m    463\u001b[0m \u001b[1;33m\u001b[0m\u001b[0m\n\u001b[0;32m    464\u001b[0m     \u001b[1;32mif\u001b[0m \u001b[0mchunksize\u001b[0m \u001b[1;32mor\u001b[0m \u001b[0miterator\u001b[0m\u001b[1;33m:\u001b[0m\u001b[1;33m\u001b[0m\u001b[1;33m\u001b[0m\u001b[0m\n",
      "\u001b[1;32m~\\.conda\\envs\\message_storage_env\\lib\\site-packages\\pandas\\io\\parsers.py\u001b[0m in \u001b[0;36m__init__\u001b[1;34m(self, f, engine, **kwds)\u001b[0m\n\u001b[0;32m    817\u001b[0m             \u001b[0mself\u001b[0m\u001b[1;33m.\u001b[0m\u001b[0moptions\u001b[0m\u001b[1;33m[\u001b[0m\u001b[1;34m\"has_index_names\"\u001b[0m\u001b[1;33m]\u001b[0m \u001b[1;33m=\u001b[0m \u001b[0mkwds\u001b[0m\u001b[1;33m[\u001b[0m\u001b[1;34m\"has_index_names\"\u001b[0m\u001b[1;33m]\u001b[0m\u001b[1;33m\u001b[0m\u001b[1;33m\u001b[0m\u001b[0m\n\u001b[0;32m    818\u001b[0m \u001b[1;33m\u001b[0m\u001b[0m\n\u001b[1;32m--> 819\u001b[1;33m         \u001b[0mself\u001b[0m\u001b[1;33m.\u001b[0m\u001b[0m_engine\u001b[0m \u001b[1;33m=\u001b[0m \u001b[0mself\u001b[0m\u001b[1;33m.\u001b[0m\u001b[0m_make_engine\u001b[0m\u001b[1;33m(\u001b[0m\u001b[0mself\u001b[0m\u001b[1;33m.\u001b[0m\u001b[0mengine\u001b[0m\u001b[1;33m)\u001b[0m\u001b[1;33m\u001b[0m\u001b[1;33m\u001b[0m\u001b[0m\n\u001b[0m\u001b[0;32m    820\u001b[0m \u001b[1;33m\u001b[0m\u001b[0m\n\u001b[0;32m    821\u001b[0m     \u001b[1;32mdef\u001b[0m \u001b[0mclose\u001b[0m\u001b[1;33m(\u001b[0m\u001b[0mself\u001b[0m\u001b[1;33m)\u001b[0m\u001b[1;33m:\u001b[0m\u001b[1;33m\u001b[0m\u001b[1;33m\u001b[0m\u001b[0m\n",
      "\u001b[1;32m~\\.conda\\envs\\message_storage_env\\lib\\site-packages\\pandas\\io\\parsers.py\u001b[0m in \u001b[0;36m_make_engine\u001b[1;34m(self, engine)\u001b[0m\n\u001b[0;32m   1048\u001b[0m             )\n\u001b[0;32m   1049\u001b[0m         \u001b[1;31m# error: Too many arguments for \"ParserBase\"\u001b[0m\u001b[1;33m\u001b[0m\u001b[1;33m\u001b[0m\u001b[1;33m\u001b[0m\u001b[0m\n\u001b[1;32m-> 1050\u001b[1;33m         \u001b[1;32mreturn\u001b[0m \u001b[0mmapping\u001b[0m\u001b[1;33m[\u001b[0m\u001b[0mengine\u001b[0m\u001b[1;33m]\u001b[0m\u001b[1;33m(\u001b[0m\u001b[0mself\u001b[0m\u001b[1;33m.\u001b[0m\u001b[0mf\u001b[0m\u001b[1;33m,\u001b[0m \u001b[1;33m**\u001b[0m\u001b[0mself\u001b[0m\u001b[1;33m.\u001b[0m\u001b[0moptions\u001b[0m\u001b[1;33m)\u001b[0m  \u001b[1;31m# type: ignore[call-arg]\u001b[0m\u001b[1;33m\u001b[0m\u001b[1;33m\u001b[0m\u001b[0m\n\u001b[0m\u001b[0;32m   1051\u001b[0m \u001b[1;33m\u001b[0m\u001b[0m\n\u001b[0;32m   1052\u001b[0m     \u001b[1;32mdef\u001b[0m \u001b[0m_failover_to_python\u001b[0m\u001b[1;33m(\u001b[0m\u001b[0mself\u001b[0m\u001b[1;33m)\u001b[0m\u001b[1;33m:\u001b[0m\u001b[1;33m\u001b[0m\u001b[1;33m\u001b[0m\u001b[0m\n",
      "\u001b[1;32m~\\.conda\\envs\\message_storage_env\\lib\\site-packages\\pandas\\io\\parsers.py\u001b[0m in \u001b[0;36m__init__\u001b[1;34m(self, src, **kwds)\u001b[0m\n\u001b[0;32m   1865\u001b[0m \u001b[1;33m\u001b[0m\u001b[0m\n\u001b[0;32m   1866\u001b[0m         \u001b[1;31m# open handles\u001b[0m\u001b[1;33m\u001b[0m\u001b[1;33m\u001b[0m\u001b[1;33m\u001b[0m\u001b[0m\n\u001b[1;32m-> 1867\u001b[1;33m         \u001b[0mself\u001b[0m\u001b[1;33m.\u001b[0m\u001b[0m_open_handles\u001b[0m\u001b[1;33m(\u001b[0m\u001b[0msrc\u001b[0m\u001b[1;33m,\u001b[0m \u001b[0mkwds\u001b[0m\u001b[1;33m)\u001b[0m\u001b[1;33m\u001b[0m\u001b[1;33m\u001b[0m\u001b[0m\n\u001b[0m\u001b[0;32m   1868\u001b[0m         \u001b[1;32massert\u001b[0m \u001b[0mself\u001b[0m\u001b[1;33m.\u001b[0m\u001b[0mhandles\u001b[0m \u001b[1;32mis\u001b[0m \u001b[1;32mnot\u001b[0m \u001b[1;32mNone\u001b[0m\u001b[1;33m\u001b[0m\u001b[1;33m\u001b[0m\u001b[0m\n\u001b[0;32m   1869\u001b[0m         \u001b[1;32mfor\u001b[0m \u001b[0mkey\u001b[0m \u001b[1;32min\u001b[0m \u001b[1;33m(\u001b[0m\u001b[1;34m\"storage_options\"\u001b[0m\u001b[1;33m,\u001b[0m \u001b[1;34m\"encoding\"\u001b[0m\u001b[1;33m,\u001b[0m \u001b[1;34m\"memory_map\"\u001b[0m\u001b[1;33m,\u001b[0m \u001b[1;34m\"compression\"\u001b[0m\u001b[1;33m)\u001b[0m\u001b[1;33m:\u001b[0m\u001b[1;33m\u001b[0m\u001b[1;33m\u001b[0m\u001b[0m\n",
      "\u001b[1;32m~\\.conda\\envs\\message_storage_env\\lib\\site-packages\\pandas\\io\\parsers.py\u001b[0m in \u001b[0;36m_open_handles\u001b[1;34m(self, src, kwds)\u001b[0m\n\u001b[0;32m   1360\u001b[0m         \u001b[0mLet\u001b[0m \u001b[0mthe\u001b[0m \u001b[0mreaders\u001b[0m \u001b[0mopen\u001b[0m \u001b[0mIOHanldes\u001b[0m \u001b[0mafter\u001b[0m \u001b[0mthey\u001b[0m \u001b[0mare\u001b[0m \u001b[0mdone\u001b[0m \u001b[1;32mwith\u001b[0m \u001b[0mtheir\u001b[0m \u001b[0mpotential\u001b[0m \u001b[0mraises\u001b[0m\u001b[1;33m.\u001b[0m\u001b[1;33m\u001b[0m\u001b[1;33m\u001b[0m\u001b[0m\n\u001b[0;32m   1361\u001b[0m         \"\"\"\n\u001b[1;32m-> 1362\u001b[1;33m         self.handles = get_handle(\n\u001b[0m\u001b[0;32m   1363\u001b[0m             \u001b[0msrc\u001b[0m\u001b[1;33m,\u001b[0m\u001b[1;33m\u001b[0m\u001b[1;33m\u001b[0m\u001b[0m\n\u001b[0;32m   1364\u001b[0m             \u001b[1;34m\"r\"\u001b[0m\u001b[1;33m,\u001b[0m\u001b[1;33m\u001b[0m\u001b[1;33m\u001b[0m\u001b[0m\n",
      "\u001b[1;32m~\\.conda\\envs\\message_storage_env\\lib\\site-packages\\pandas\\io\\common.py\u001b[0m in \u001b[0;36mget_handle\u001b[1;34m(path_or_buf, mode, encoding, compression, memory_map, is_text, errors, storage_options)\u001b[0m\n\u001b[0;32m    640\u001b[0m                 \u001b[0merrors\u001b[0m \u001b[1;33m=\u001b[0m \u001b[1;34m\"replace\"\u001b[0m\u001b[1;33m\u001b[0m\u001b[1;33m\u001b[0m\u001b[0m\n\u001b[0;32m    641\u001b[0m             \u001b[1;31m# Encoding\u001b[0m\u001b[1;33m\u001b[0m\u001b[1;33m\u001b[0m\u001b[1;33m\u001b[0m\u001b[0m\n\u001b[1;32m--> 642\u001b[1;33m             handle = open(\n\u001b[0m\u001b[0;32m    643\u001b[0m                 \u001b[0mhandle\u001b[0m\u001b[1;33m,\u001b[0m\u001b[1;33m\u001b[0m\u001b[1;33m\u001b[0m\u001b[0m\n\u001b[0;32m    644\u001b[0m                 \u001b[0mioargs\u001b[0m\u001b[1;33m.\u001b[0m\u001b[0mmode\u001b[0m\u001b[1;33m,\u001b[0m\u001b[1;33m\u001b[0m\u001b[1;33m\u001b[0m\u001b[0m\n",
      "\u001b[1;31mFileNotFoundError\u001b[0m: [Errno 2] No such file or directory: 'electricity_2.csv'"
     ]
    }
   ],
   "source": [
    "elec_gen = pd.read_csv(\"electricity_2.csv\")\n",
    "elec_gen.columns "
   ]
  },
  {
   "cell_type": "code",
   "execution_count": null,
   "metadata": {},
   "outputs": [],
   "source": [
    "# Loading data from csv into a pyam format\n",
    "elec_gen = pyam.IamDataFrame(data='electricity_2.csv', encoding='ISO-8859-1')\n",
    "# Looking into data in the pyam format\n",
    "elec_gen.data"
   ]
  },
  {
   "cell_type": "code",
   "execution_count": 1469,
   "metadata": {
    "scrolled": true
   },
   "outputs": [
    {
     "ename": "TypeError",
     "evalue": "filter() got an unexpected keyword argument 'region'",
     "output_type": "error",
     "traceback": [
      "\u001b[1;31m---------------------------------------------------------------------------\u001b[0m",
      "\u001b[1;31mTypeError\u001b[0m                                 Traceback (most recent call last)",
      "\u001b[1;32m<ipython-input-1469-888b42c1e10c>\u001b[0m in \u001b[0;36m<module>\u001b[1;34m\u001b[0m\n\u001b[1;32m----> 1\u001b[1;33m \u001b[0melec\u001b[0m \u001b[1;33m=\u001b[0m \u001b[0melec_gen\u001b[0m\u001b[1;33m.\u001b[0m\u001b[0mfilter\u001b[0m\u001b[1;33m(\u001b[0m\u001b[0mregion\u001b[0m\u001b[1;33m=\u001b[0m\u001b[1;33m[\u001b[0m\u001b[1;34m'Maldives'\u001b[0m\u001b[1;33m]\u001b[0m\u001b[1;33m,\u001b[0m \u001b[0mvariable\u001b[0m\u001b[1;33m=\u001b[0m\u001b[1;34m'Electricity Generation|final|*'\u001b[0m\u001b[1;33m,\u001b[0m \u001b[0myear\u001b[0m\u001b[1;33m=\u001b[0m\u001b[0mplotyrs\u001b[0m\u001b[1;33m)\u001b[0m\u001b[1;33m\u001b[0m\u001b[1;33m\u001b[0m\u001b[0m\n\u001b[0m\u001b[0;32m      2\u001b[0m \u001b[0melec\u001b[0m\u001b[1;33m.\u001b[0m\u001b[0mplot\u001b[0m\u001b[1;33m.\u001b[0m\u001b[0mbar\u001b[0m\u001b[1;33m(\u001b[0m\u001b[0mstacked\u001b[0m\u001b[1;33m=\u001b[0m\u001b[1;32mTrue\u001b[0m\u001b[1;33m)\u001b[0m\u001b[1;33m\u001b[0m\u001b[1;33m\u001b[0m\u001b[0m\n",
      "\u001b[1;31mTypeError\u001b[0m: filter() got an unexpected keyword argument 'region'"
     ]
    }
   ],
   "source": [
    "elec = elec_gen.filter(region=['Maldives'], variable='Electricity Generation|final|*', year=plotyrs)\n",
    "elec.plot.bar(stacked=True)"
   ]
  },
  {
   "cell_type": "code",
   "execution_count": null,
   "metadata": {},
   "outputs": [],
   "source": [
    "rep.set_filters(c = 'cooling')\n",
    "cool = rep.full_key('out')\n",
    "cool = cool.drop('yv','m','nd','hd','h')\n",
    "cool_gen = rep.get(cool)\n",
    "cool_gen\n",
    "\n",
    "def collapse_callback(df):\n",
    "    \"\"\"Callback function to populate the IAMC 'variable' column.\"\"\"\n",
    "    df['variable'] = 'Electricity Generation|' + df['l']+ '|'+df['t']\n",
    "    return df.drop(['t','l'], axis =1)\n",
    "    \n",
    "new_key = rep.convert_pyam(\n",
    "        quantities=cool,\n",
    "        rename=dict(nl='region', ya='year'),\n",
    "        collapse=collapse_callback)\n",
    "    \n",
    "df_cool = rep.get(new_key)\n",
    "df_cool.data.unit = 'MWa'\n",
    "df_cool.to_csv('cooling.csv')"
   ]
  },
  {
   "cell_type": "code",
   "execution_count": 1470,
   "metadata": {},
   "outputs": [
    {
     "ename": "FileNotFoundError",
     "evalue": "[Errno 2] No such file or directory: 'cooling.csv'",
     "output_type": "error",
     "traceback": [
      "\u001b[1;31m---------------------------------------------------------------------------\u001b[0m",
      "\u001b[1;31mFileNotFoundError\u001b[0m                         Traceback (most recent call last)",
      "\u001b[1;32m<ipython-input-1470-96cd4acc7053>\u001b[0m in \u001b[0;36m<module>\u001b[1;34m\u001b[0m\n\u001b[1;32m----> 1\u001b[1;33m \u001b[0melec_gen\u001b[0m \u001b[1;33m=\u001b[0m \u001b[0mpd\u001b[0m\u001b[1;33m.\u001b[0m\u001b[0mread_csv\u001b[0m\u001b[1;33m(\u001b[0m\u001b[1;34m\"cooling.csv\"\u001b[0m\u001b[1;33m)\u001b[0m\u001b[1;33m\u001b[0m\u001b[1;33m\u001b[0m\u001b[0m\n\u001b[0m\u001b[0;32m      2\u001b[0m \u001b[0melec_gen\u001b[0m\u001b[1;33m.\u001b[0m\u001b[0mcolumns\u001b[0m\u001b[1;33m\u001b[0m\u001b[1;33m\u001b[0m\u001b[0m\n",
      "\u001b[1;32m~\\.conda\\envs\\message_storage_env\\lib\\site-packages\\pandas\\io\\parsers.py\u001b[0m in \u001b[0;36mread_csv\u001b[1;34m(filepath_or_buffer, sep, delimiter, header, names, index_col, usecols, squeeze, prefix, mangle_dupe_cols, dtype, engine, converters, true_values, false_values, skipinitialspace, skiprows, skipfooter, nrows, na_values, keep_default_na, na_filter, verbose, skip_blank_lines, parse_dates, infer_datetime_format, keep_date_col, date_parser, dayfirst, cache_dates, iterator, chunksize, compression, thousands, decimal, lineterminator, quotechar, quoting, doublequote, escapechar, comment, encoding, dialect, error_bad_lines, warn_bad_lines, delim_whitespace, low_memory, memory_map, float_precision, storage_options)\u001b[0m\n\u001b[0;32m    608\u001b[0m     \u001b[0mkwds\u001b[0m\u001b[1;33m.\u001b[0m\u001b[0mupdate\u001b[0m\u001b[1;33m(\u001b[0m\u001b[0mkwds_defaults\u001b[0m\u001b[1;33m)\u001b[0m\u001b[1;33m\u001b[0m\u001b[1;33m\u001b[0m\u001b[0m\n\u001b[0;32m    609\u001b[0m \u001b[1;33m\u001b[0m\u001b[0m\n\u001b[1;32m--> 610\u001b[1;33m     \u001b[1;32mreturn\u001b[0m \u001b[0m_read\u001b[0m\u001b[1;33m(\u001b[0m\u001b[0mfilepath_or_buffer\u001b[0m\u001b[1;33m,\u001b[0m \u001b[0mkwds\u001b[0m\u001b[1;33m)\u001b[0m\u001b[1;33m\u001b[0m\u001b[1;33m\u001b[0m\u001b[0m\n\u001b[0m\u001b[0;32m    611\u001b[0m \u001b[1;33m\u001b[0m\u001b[0m\n\u001b[0;32m    612\u001b[0m \u001b[1;33m\u001b[0m\u001b[0m\n",
      "\u001b[1;32m~\\.conda\\envs\\message_storage_env\\lib\\site-packages\\pandas\\io\\parsers.py\u001b[0m in \u001b[0;36m_read\u001b[1;34m(filepath_or_buffer, kwds)\u001b[0m\n\u001b[0;32m    460\u001b[0m \u001b[1;33m\u001b[0m\u001b[0m\n\u001b[0;32m    461\u001b[0m     \u001b[1;31m# Create the parser.\u001b[0m\u001b[1;33m\u001b[0m\u001b[1;33m\u001b[0m\u001b[1;33m\u001b[0m\u001b[0m\n\u001b[1;32m--> 462\u001b[1;33m     \u001b[0mparser\u001b[0m \u001b[1;33m=\u001b[0m \u001b[0mTextFileReader\u001b[0m\u001b[1;33m(\u001b[0m\u001b[0mfilepath_or_buffer\u001b[0m\u001b[1;33m,\u001b[0m \u001b[1;33m**\u001b[0m\u001b[0mkwds\u001b[0m\u001b[1;33m)\u001b[0m\u001b[1;33m\u001b[0m\u001b[1;33m\u001b[0m\u001b[0m\n\u001b[0m\u001b[0;32m    463\u001b[0m \u001b[1;33m\u001b[0m\u001b[0m\n\u001b[0;32m    464\u001b[0m     \u001b[1;32mif\u001b[0m \u001b[0mchunksize\u001b[0m \u001b[1;32mor\u001b[0m \u001b[0miterator\u001b[0m\u001b[1;33m:\u001b[0m\u001b[1;33m\u001b[0m\u001b[1;33m\u001b[0m\u001b[0m\n",
      "\u001b[1;32m~\\.conda\\envs\\message_storage_env\\lib\\site-packages\\pandas\\io\\parsers.py\u001b[0m in \u001b[0;36m__init__\u001b[1;34m(self, f, engine, **kwds)\u001b[0m\n\u001b[0;32m    817\u001b[0m             \u001b[0mself\u001b[0m\u001b[1;33m.\u001b[0m\u001b[0moptions\u001b[0m\u001b[1;33m[\u001b[0m\u001b[1;34m\"has_index_names\"\u001b[0m\u001b[1;33m]\u001b[0m \u001b[1;33m=\u001b[0m \u001b[0mkwds\u001b[0m\u001b[1;33m[\u001b[0m\u001b[1;34m\"has_index_names\"\u001b[0m\u001b[1;33m]\u001b[0m\u001b[1;33m\u001b[0m\u001b[1;33m\u001b[0m\u001b[0m\n\u001b[0;32m    818\u001b[0m \u001b[1;33m\u001b[0m\u001b[0m\n\u001b[1;32m--> 819\u001b[1;33m         \u001b[0mself\u001b[0m\u001b[1;33m.\u001b[0m\u001b[0m_engine\u001b[0m \u001b[1;33m=\u001b[0m \u001b[0mself\u001b[0m\u001b[1;33m.\u001b[0m\u001b[0m_make_engine\u001b[0m\u001b[1;33m(\u001b[0m\u001b[0mself\u001b[0m\u001b[1;33m.\u001b[0m\u001b[0mengine\u001b[0m\u001b[1;33m)\u001b[0m\u001b[1;33m\u001b[0m\u001b[1;33m\u001b[0m\u001b[0m\n\u001b[0m\u001b[0;32m    820\u001b[0m \u001b[1;33m\u001b[0m\u001b[0m\n\u001b[0;32m    821\u001b[0m     \u001b[1;32mdef\u001b[0m \u001b[0mclose\u001b[0m\u001b[1;33m(\u001b[0m\u001b[0mself\u001b[0m\u001b[1;33m)\u001b[0m\u001b[1;33m:\u001b[0m\u001b[1;33m\u001b[0m\u001b[1;33m\u001b[0m\u001b[0m\n",
      "\u001b[1;32m~\\.conda\\envs\\message_storage_env\\lib\\site-packages\\pandas\\io\\parsers.py\u001b[0m in \u001b[0;36m_make_engine\u001b[1;34m(self, engine)\u001b[0m\n\u001b[0;32m   1048\u001b[0m             )\n\u001b[0;32m   1049\u001b[0m         \u001b[1;31m# error: Too many arguments for \"ParserBase\"\u001b[0m\u001b[1;33m\u001b[0m\u001b[1;33m\u001b[0m\u001b[1;33m\u001b[0m\u001b[0m\n\u001b[1;32m-> 1050\u001b[1;33m         \u001b[1;32mreturn\u001b[0m \u001b[0mmapping\u001b[0m\u001b[1;33m[\u001b[0m\u001b[0mengine\u001b[0m\u001b[1;33m]\u001b[0m\u001b[1;33m(\u001b[0m\u001b[0mself\u001b[0m\u001b[1;33m.\u001b[0m\u001b[0mf\u001b[0m\u001b[1;33m,\u001b[0m \u001b[1;33m**\u001b[0m\u001b[0mself\u001b[0m\u001b[1;33m.\u001b[0m\u001b[0moptions\u001b[0m\u001b[1;33m)\u001b[0m  \u001b[1;31m# type: ignore[call-arg]\u001b[0m\u001b[1;33m\u001b[0m\u001b[1;33m\u001b[0m\u001b[0m\n\u001b[0m\u001b[0;32m   1051\u001b[0m \u001b[1;33m\u001b[0m\u001b[0m\n\u001b[0;32m   1052\u001b[0m     \u001b[1;32mdef\u001b[0m \u001b[0m_failover_to_python\u001b[0m\u001b[1;33m(\u001b[0m\u001b[0mself\u001b[0m\u001b[1;33m)\u001b[0m\u001b[1;33m:\u001b[0m\u001b[1;33m\u001b[0m\u001b[1;33m\u001b[0m\u001b[0m\n",
      "\u001b[1;32m~\\.conda\\envs\\message_storage_env\\lib\\site-packages\\pandas\\io\\parsers.py\u001b[0m in \u001b[0;36m__init__\u001b[1;34m(self, src, **kwds)\u001b[0m\n\u001b[0;32m   1865\u001b[0m \u001b[1;33m\u001b[0m\u001b[0m\n\u001b[0;32m   1866\u001b[0m         \u001b[1;31m# open handles\u001b[0m\u001b[1;33m\u001b[0m\u001b[1;33m\u001b[0m\u001b[1;33m\u001b[0m\u001b[0m\n\u001b[1;32m-> 1867\u001b[1;33m         \u001b[0mself\u001b[0m\u001b[1;33m.\u001b[0m\u001b[0m_open_handles\u001b[0m\u001b[1;33m(\u001b[0m\u001b[0msrc\u001b[0m\u001b[1;33m,\u001b[0m \u001b[0mkwds\u001b[0m\u001b[1;33m)\u001b[0m\u001b[1;33m\u001b[0m\u001b[1;33m\u001b[0m\u001b[0m\n\u001b[0m\u001b[0;32m   1868\u001b[0m         \u001b[1;32massert\u001b[0m \u001b[0mself\u001b[0m\u001b[1;33m.\u001b[0m\u001b[0mhandles\u001b[0m \u001b[1;32mis\u001b[0m \u001b[1;32mnot\u001b[0m \u001b[1;32mNone\u001b[0m\u001b[1;33m\u001b[0m\u001b[1;33m\u001b[0m\u001b[0m\n\u001b[0;32m   1869\u001b[0m         \u001b[1;32mfor\u001b[0m \u001b[0mkey\u001b[0m \u001b[1;32min\u001b[0m \u001b[1;33m(\u001b[0m\u001b[1;34m\"storage_options\"\u001b[0m\u001b[1;33m,\u001b[0m \u001b[1;34m\"encoding\"\u001b[0m\u001b[1;33m,\u001b[0m \u001b[1;34m\"memory_map\"\u001b[0m\u001b[1;33m,\u001b[0m \u001b[1;34m\"compression\"\u001b[0m\u001b[1;33m)\u001b[0m\u001b[1;33m:\u001b[0m\u001b[1;33m\u001b[0m\u001b[1;33m\u001b[0m\u001b[0m\n",
      "\u001b[1;32m~\\.conda\\envs\\message_storage_env\\lib\\site-packages\\pandas\\io\\parsers.py\u001b[0m in \u001b[0;36m_open_handles\u001b[1;34m(self, src, kwds)\u001b[0m\n\u001b[0;32m   1360\u001b[0m         \u001b[0mLet\u001b[0m \u001b[0mthe\u001b[0m \u001b[0mreaders\u001b[0m \u001b[0mopen\u001b[0m \u001b[0mIOHanldes\u001b[0m \u001b[0mafter\u001b[0m \u001b[0mthey\u001b[0m \u001b[0mare\u001b[0m \u001b[0mdone\u001b[0m \u001b[1;32mwith\u001b[0m \u001b[0mtheir\u001b[0m \u001b[0mpotential\u001b[0m \u001b[0mraises\u001b[0m\u001b[1;33m.\u001b[0m\u001b[1;33m\u001b[0m\u001b[1;33m\u001b[0m\u001b[0m\n\u001b[0;32m   1361\u001b[0m         \"\"\"\n\u001b[1;32m-> 1362\u001b[1;33m         self.handles = get_handle(\n\u001b[0m\u001b[0;32m   1363\u001b[0m             \u001b[0msrc\u001b[0m\u001b[1;33m,\u001b[0m\u001b[1;33m\u001b[0m\u001b[1;33m\u001b[0m\u001b[0m\n\u001b[0;32m   1364\u001b[0m             \u001b[1;34m\"r\"\u001b[0m\u001b[1;33m,\u001b[0m\u001b[1;33m\u001b[0m\u001b[1;33m\u001b[0m\u001b[0m\n",
      "\u001b[1;32m~\\.conda\\envs\\message_storage_env\\lib\\site-packages\\pandas\\io\\common.py\u001b[0m in \u001b[0;36mget_handle\u001b[1;34m(path_or_buf, mode, encoding, compression, memory_map, is_text, errors, storage_options)\u001b[0m\n\u001b[0;32m    640\u001b[0m                 \u001b[0merrors\u001b[0m \u001b[1;33m=\u001b[0m \u001b[1;34m\"replace\"\u001b[0m\u001b[1;33m\u001b[0m\u001b[1;33m\u001b[0m\u001b[0m\n\u001b[0;32m    641\u001b[0m             \u001b[1;31m# Encoding\u001b[0m\u001b[1;33m\u001b[0m\u001b[1;33m\u001b[0m\u001b[1;33m\u001b[0m\u001b[0m\n\u001b[1;32m--> 642\u001b[1;33m             handle = open(\n\u001b[0m\u001b[0;32m    643\u001b[0m                 \u001b[0mhandle\u001b[0m\u001b[1;33m,\u001b[0m\u001b[1;33m\u001b[0m\u001b[1;33m\u001b[0m\u001b[0m\n\u001b[0;32m    644\u001b[0m                 \u001b[0mioargs\u001b[0m\u001b[1;33m.\u001b[0m\u001b[0mmode\u001b[0m\u001b[1;33m,\u001b[0m\u001b[1;33m\u001b[0m\u001b[1;33m\u001b[0m\u001b[0m\n",
      "\u001b[1;31mFileNotFoundError\u001b[0m: [Errno 2] No such file or directory: 'cooling.csv'"
     ]
    }
   ],
   "source": [
    "elec_gen = pd.read_csv(\"cooling.csv\")\n",
    "elec_gen.columns "
   ]
  },
  {
   "cell_type": "code",
   "execution_count": null,
   "metadata": {},
   "outputs": [],
   "source": [
    "# Loading data from csv into a pyam format\n",
    "cool_gen = pyam.IamDataFrame(data='cooling.csv', encoding='ISO-8859-1')\n",
    "# Looking into data in the pyam format\n",
    "cool_gen.data"
   ]
  },
  {
   "cell_type": "code",
   "execution_count": 1471,
   "metadata": {},
   "outputs": [
    {
     "ename": "TypeError",
     "evalue": "filter() got an unexpected keyword argument 'region'",
     "output_type": "error",
     "traceback": [
      "\u001b[1;31m---------------------------------------------------------------------------\u001b[0m",
      "\u001b[1;31mTypeError\u001b[0m                                 Traceback (most recent call last)",
      "\u001b[1;32m<ipython-input-1471-8affafc40cd6>\u001b[0m in \u001b[0;36m<module>\u001b[1;34m\u001b[0m\n\u001b[1;32m----> 1\u001b[1;33m \u001b[0mcool\u001b[0m \u001b[1;33m=\u001b[0m \u001b[0mcool_gen\u001b[0m\u001b[1;33m.\u001b[0m\u001b[0mfilter\u001b[0m\u001b[1;33m(\u001b[0m\u001b[0mregion\u001b[0m\u001b[1;33m=\u001b[0m\u001b[1;33m[\u001b[0m\u001b[1;34m'Maldives'\u001b[0m\u001b[1;33m]\u001b[0m\u001b[1;33m,\u001b[0m \u001b[0mvariable\u001b[0m\u001b[1;33m=\u001b[0m\u001b[1;34m'Electricity Generation|useful|*'\u001b[0m\u001b[1;33m,\u001b[0m \u001b[0myear\u001b[0m\u001b[1;33m=\u001b[0m\u001b[0mplotyrs\u001b[0m\u001b[1;33m)\u001b[0m\u001b[1;33m\u001b[0m\u001b[1;33m\u001b[0m\u001b[0m\n\u001b[0m\u001b[0;32m      2\u001b[0m \u001b[0mcool\u001b[0m\u001b[1;33m.\u001b[0m\u001b[0mplot\u001b[0m\u001b[1;33m.\u001b[0m\u001b[0mbar\u001b[0m\u001b[1;33m(\u001b[0m\u001b[0mstacked\u001b[0m\u001b[1;33m=\u001b[0m\u001b[1;32mTrue\u001b[0m\u001b[1;33m)\u001b[0m\u001b[1;33m\u001b[0m\u001b[1;33m\u001b[0m\u001b[0m\n",
      "\u001b[1;31mTypeError\u001b[0m: filter() got an unexpected keyword argument 'region'"
     ]
    }
   ],
   "source": [
    "cool = cool_gen.filter(region=['Maldives'], variable='Electricity Generation|useful|*', year=plotyrs)\n",
    "cool.plot.bar(stacked=True)"
   ]
  },
  {
   "cell_type": "code",
   "execution_count": 1472,
   "metadata": {},
   "outputs": [
    {
     "ename": "TypeError",
     "evalue": "convert_pyam() got an unexpected keyword argument 'rename'",
     "output_type": "error",
     "traceback": [
      "\u001b[1;31m---------------------------------------------------------------------------\u001b[0m",
      "\u001b[1;31mTypeError\u001b[0m                                 Traceback (most recent call last)",
      "\u001b[1;32m<ipython-input-1472-7cdb6632c5d8>\u001b[0m in \u001b[0;36m<module>\u001b[1;34m\u001b[0m\n\u001b[0;32m     10\u001b[0m     \u001b[1;32mreturn\u001b[0m \u001b[0mdf\u001b[0m\u001b[1;33m.\u001b[0m\u001b[0mdrop\u001b[0m\u001b[1;33m(\u001b[0m\u001b[1;33m[\u001b[0m\u001b[1;34m't'\u001b[0m\u001b[1;33m,\u001b[0m\u001b[1;34m'l'\u001b[0m\u001b[1;33m]\u001b[0m\u001b[1;33m,\u001b[0m \u001b[0maxis\u001b[0m \u001b[1;33m=\u001b[0m\u001b[1;36m1\u001b[0m\u001b[1;33m)\u001b[0m\u001b[1;33m\u001b[0m\u001b[1;33m\u001b[0m\u001b[0m\n\u001b[0;32m     11\u001b[0m \u001b[1;33m\u001b[0m\u001b[0m\n\u001b[1;32m---> 12\u001b[1;33m new_key = rep.convert_pyam(\n\u001b[0m\u001b[0;32m     13\u001b[0m         \u001b[0mquantities\u001b[0m\u001b[1;33m=\u001b[0m\u001b[0mwat\u001b[0m\u001b[1;33m,\u001b[0m\u001b[1;33m\u001b[0m\u001b[1;33m\u001b[0m\u001b[0m\n\u001b[0;32m     14\u001b[0m         \u001b[0mrename\u001b[0m\u001b[1;33m=\u001b[0m\u001b[0mdict\u001b[0m\u001b[1;33m(\u001b[0m\u001b[0mnl\u001b[0m\u001b[1;33m=\u001b[0m\u001b[1;34m'region'\u001b[0m\u001b[1;33m,\u001b[0m \u001b[0mya\u001b[0m\u001b[1;33m=\u001b[0m\u001b[1;34m'year'\u001b[0m\u001b[1;33m)\u001b[0m\u001b[1;33m,\u001b[0m\u001b[1;33m\u001b[0m\u001b[1;33m\u001b[0m\u001b[0m\n",
      "\u001b[1;31mTypeError\u001b[0m: convert_pyam() got an unexpected keyword argument 'rename'"
     ]
    }
   ],
   "source": [
    "rep.set_filters(c = 'freshwater')\n",
    "wat = rep.full_key('out')\n",
    "wat = wat.drop('yv','m','nd','hd','h')\n",
    "wat_gen = rep.get(wat)\n",
    "wat_gen\n",
    "\n",
    "def collapse_callback(df):\n",
    "    \"\"\"Callback function to populate the IAMC 'variable' column.\"\"\"\n",
    "    df['variable'] = 'Electricity Generation|' + df['l']+ '|'+df['t']\n",
    "    return df.drop(['t','l'], axis =1)\n",
    "    \n",
    "new_key = rep.convert_pyam(\n",
    "        quantities=wat,\n",
    "        rename=dict(nl='region', ya='year'),\n",
    "        collapse=collapse_callback)\n",
    "    \n",
    "df_wat = rep.get(new_key)\n",
    "df_wat.data.unit = 'm^3'\n",
    "df_wat.to_csv('freshwater.csv')"
   ]
  },
  {
   "cell_type": "code",
   "execution_count": 1473,
   "metadata": {},
   "outputs": [
    {
     "ename": "FileNotFoundError",
     "evalue": "[Errno 2] No such file or directory: 'freshwater.csv'",
     "output_type": "error",
     "traceback": [
      "\u001b[1;31m---------------------------------------------------------------------------\u001b[0m",
      "\u001b[1;31mFileNotFoundError\u001b[0m                         Traceback (most recent call last)",
      "\u001b[1;32m<ipython-input-1473-e3237288ac17>\u001b[0m in \u001b[0;36m<module>\u001b[1;34m\u001b[0m\n\u001b[1;32m----> 1\u001b[1;33m \u001b[0melec_gen\u001b[0m \u001b[1;33m=\u001b[0m \u001b[0mpd\u001b[0m\u001b[1;33m.\u001b[0m\u001b[0mread_csv\u001b[0m\u001b[1;33m(\u001b[0m\u001b[1;34m\"freshwater.csv\"\u001b[0m\u001b[1;33m)\u001b[0m\u001b[1;33m\u001b[0m\u001b[1;33m\u001b[0m\u001b[0m\n\u001b[0m",
      "\u001b[1;32m~\\.conda\\envs\\message_storage_env\\lib\\site-packages\\pandas\\io\\parsers.py\u001b[0m in \u001b[0;36mread_csv\u001b[1;34m(filepath_or_buffer, sep, delimiter, header, names, index_col, usecols, squeeze, prefix, mangle_dupe_cols, dtype, engine, converters, true_values, false_values, skipinitialspace, skiprows, skipfooter, nrows, na_values, keep_default_na, na_filter, verbose, skip_blank_lines, parse_dates, infer_datetime_format, keep_date_col, date_parser, dayfirst, cache_dates, iterator, chunksize, compression, thousands, decimal, lineterminator, quotechar, quoting, doublequote, escapechar, comment, encoding, dialect, error_bad_lines, warn_bad_lines, delim_whitespace, low_memory, memory_map, float_precision, storage_options)\u001b[0m\n\u001b[0;32m    608\u001b[0m     \u001b[0mkwds\u001b[0m\u001b[1;33m.\u001b[0m\u001b[0mupdate\u001b[0m\u001b[1;33m(\u001b[0m\u001b[0mkwds_defaults\u001b[0m\u001b[1;33m)\u001b[0m\u001b[1;33m\u001b[0m\u001b[1;33m\u001b[0m\u001b[0m\n\u001b[0;32m    609\u001b[0m \u001b[1;33m\u001b[0m\u001b[0m\n\u001b[1;32m--> 610\u001b[1;33m     \u001b[1;32mreturn\u001b[0m \u001b[0m_read\u001b[0m\u001b[1;33m(\u001b[0m\u001b[0mfilepath_or_buffer\u001b[0m\u001b[1;33m,\u001b[0m \u001b[0mkwds\u001b[0m\u001b[1;33m)\u001b[0m\u001b[1;33m\u001b[0m\u001b[1;33m\u001b[0m\u001b[0m\n\u001b[0m\u001b[0;32m    611\u001b[0m \u001b[1;33m\u001b[0m\u001b[0m\n\u001b[0;32m    612\u001b[0m \u001b[1;33m\u001b[0m\u001b[0m\n",
      "\u001b[1;32m~\\.conda\\envs\\message_storage_env\\lib\\site-packages\\pandas\\io\\parsers.py\u001b[0m in \u001b[0;36m_read\u001b[1;34m(filepath_or_buffer, kwds)\u001b[0m\n\u001b[0;32m    460\u001b[0m \u001b[1;33m\u001b[0m\u001b[0m\n\u001b[0;32m    461\u001b[0m     \u001b[1;31m# Create the parser.\u001b[0m\u001b[1;33m\u001b[0m\u001b[1;33m\u001b[0m\u001b[1;33m\u001b[0m\u001b[0m\n\u001b[1;32m--> 462\u001b[1;33m     \u001b[0mparser\u001b[0m \u001b[1;33m=\u001b[0m \u001b[0mTextFileReader\u001b[0m\u001b[1;33m(\u001b[0m\u001b[0mfilepath_or_buffer\u001b[0m\u001b[1;33m,\u001b[0m \u001b[1;33m**\u001b[0m\u001b[0mkwds\u001b[0m\u001b[1;33m)\u001b[0m\u001b[1;33m\u001b[0m\u001b[1;33m\u001b[0m\u001b[0m\n\u001b[0m\u001b[0;32m    463\u001b[0m \u001b[1;33m\u001b[0m\u001b[0m\n\u001b[0;32m    464\u001b[0m     \u001b[1;32mif\u001b[0m \u001b[0mchunksize\u001b[0m \u001b[1;32mor\u001b[0m \u001b[0miterator\u001b[0m\u001b[1;33m:\u001b[0m\u001b[1;33m\u001b[0m\u001b[1;33m\u001b[0m\u001b[0m\n",
      "\u001b[1;32m~\\.conda\\envs\\message_storage_env\\lib\\site-packages\\pandas\\io\\parsers.py\u001b[0m in \u001b[0;36m__init__\u001b[1;34m(self, f, engine, **kwds)\u001b[0m\n\u001b[0;32m    817\u001b[0m             \u001b[0mself\u001b[0m\u001b[1;33m.\u001b[0m\u001b[0moptions\u001b[0m\u001b[1;33m[\u001b[0m\u001b[1;34m\"has_index_names\"\u001b[0m\u001b[1;33m]\u001b[0m \u001b[1;33m=\u001b[0m \u001b[0mkwds\u001b[0m\u001b[1;33m[\u001b[0m\u001b[1;34m\"has_index_names\"\u001b[0m\u001b[1;33m]\u001b[0m\u001b[1;33m\u001b[0m\u001b[1;33m\u001b[0m\u001b[0m\n\u001b[0;32m    818\u001b[0m \u001b[1;33m\u001b[0m\u001b[0m\n\u001b[1;32m--> 819\u001b[1;33m         \u001b[0mself\u001b[0m\u001b[1;33m.\u001b[0m\u001b[0m_engine\u001b[0m \u001b[1;33m=\u001b[0m \u001b[0mself\u001b[0m\u001b[1;33m.\u001b[0m\u001b[0m_make_engine\u001b[0m\u001b[1;33m(\u001b[0m\u001b[0mself\u001b[0m\u001b[1;33m.\u001b[0m\u001b[0mengine\u001b[0m\u001b[1;33m)\u001b[0m\u001b[1;33m\u001b[0m\u001b[1;33m\u001b[0m\u001b[0m\n\u001b[0m\u001b[0;32m    820\u001b[0m \u001b[1;33m\u001b[0m\u001b[0m\n\u001b[0;32m    821\u001b[0m     \u001b[1;32mdef\u001b[0m \u001b[0mclose\u001b[0m\u001b[1;33m(\u001b[0m\u001b[0mself\u001b[0m\u001b[1;33m)\u001b[0m\u001b[1;33m:\u001b[0m\u001b[1;33m\u001b[0m\u001b[1;33m\u001b[0m\u001b[0m\n",
      "\u001b[1;32m~\\.conda\\envs\\message_storage_env\\lib\\site-packages\\pandas\\io\\parsers.py\u001b[0m in \u001b[0;36m_make_engine\u001b[1;34m(self, engine)\u001b[0m\n\u001b[0;32m   1048\u001b[0m             )\n\u001b[0;32m   1049\u001b[0m         \u001b[1;31m# error: Too many arguments for \"ParserBase\"\u001b[0m\u001b[1;33m\u001b[0m\u001b[1;33m\u001b[0m\u001b[1;33m\u001b[0m\u001b[0m\n\u001b[1;32m-> 1050\u001b[1;33m         \u001b[1;32mreturn\u001b[0m \u001b[0mmapping\u001b[0m\u001b[1;33m[\u001b[0m\u001b[0mengine\u001b[0m\u001b[1;33m]\u001b[0m\u001b[1;33m(\u001b[0m\u001b[0mself\u001b[0m\u001b[1;33m.\u001b[0m\u001b[0mf\u001b[0m\u001b[1;33m,\u001b[0m \u001b[1;33m**\u001b[0m\u001b[0mself\u001b[0m\u001b[1;33m.\u001b[0m\u001b[0moptions\u001b[0m\u001b[1;33m)\u001b[0m  \u001b[1;31m# type: ignore[call-arg]\u001b[0m\u001b[1;33m\u001b[0m\u001b[1;33m\u001b[0m\u001b[0m\n\u001b[0m\u001b[0;32m   1051\u001b[0m \u001b[1;33m\u001b[0m\u001b[0m\n\u001b[0;32m   1052\u001b[0m     \u001b[1;32mdef\u001b[0m \u001b[0m_failover_to_python\u001b[0m\u001b[1;33m(\u001b[0m\u001b[0mself\u001b[0m\u001b[1;33m)\u001b[0m\u001b[1;33m:\u001b[0m\u001b[1;33m\u001b[0m\u001b[1;33m\u001b[0m\u001b[0m\n",
      "\u001b[1;32m~\\.conda\\envs\\message_storage_env\\lib\\site-packages\\pandas\\io\\parsers.py\u001b[0m in \u001b[0;36m__init__\u001b[1;34m(self, src, **kwds)\u001b[0m\n\u001b[0;32m   1865\u001b[0m \u001b[1;33m\u001b[0m\u001b[0m\n\u001b[0;32m   1866\u001b[0m         \u001b[1;31m# open handles\u001b[0m\u001b[1;33m\u001b[0m\u001b[1;33m\u001b[0m\u001b[1;33m\u001b[0m\u001b[0m\n\u001b[1;32m-> 1867\u001b[1;33m         \u001b[0mself\u001b[0m\u001b[1;33m.\u001b[0m\u001b[0m_open_handles\u001b[0m\u001b[1;33m(\u001b[0m\u001b[0msrc\u001b[0m\u001b[1;33m,\u001b[0m \u001b[0mkwds\u001b[0m\u001b[1;33m)\u001b[0m\u001b[1;33m\u001b[0m\u001b[1;33m\u001b[0m\u001b[0m\n\u001b[0m\u001b[0;32m   1868\u001b[0m         \u001b[1;32massert\u001b[0m \u001b[0mself\u001b[0m\u001b[1;33m.\u001b[0m\u001b[0mhandles\u001b[0m \u001b[1;32mis\u001b[0m \u001b[1;32mnot\u001b[0m \u001b[1;32mNone\u001b[0m\u001b[1;33m\u001b[0m\u001b[1;33m\u001b[0m\u001b[0m\n\u001b[0;32m   1869\u001b[0m         \u001b[1;32mfor\u001b[0m \u001b[0mkey\u001b[0m \u001b[1;32min\u001b[0m \u001b[1;33m(\u001b[0m\u001b[1;34m\"storage_options\"\u001b[0m\u001b[1;33m,\u001b[0m \u001b[1;34m\"encoding\"\u001b[0m\u001b[1;33m,\u001b[0m \u001b[1;34m\"memory_map\"\u001b[0m\u001b[1;33m,\u001b[0m \u001b[1;34m\"compression\"\u001b[0m\u001b[1;33m)\u001b[0m\u001b[1;33m:\u001b[0m\u001b[1;33m\u001b[0m\u001b[1;33m\u001b[0m\u001b[0m\n",
      "\u001b[1;32m~\\.conda\\envs\\message_storage_env\\lib\\site-packages\\pandas\\io\\parsers.py\u001b[0m in \u001b[0;36m_open_handles\u001b[1;34m(self, src, kwds)\u001b[0m\n\u001b[0;32m   1360\u001b[0m         \u001b[0mLet\u001b[0m \u001b[0mthe\u001b[0m \u001b[0mreaders\u001b[0m \u001b[0mopen\u001b[0m \u001b[0mIOHanldes\u001b[0m \u001b[0mafter\u001b[0m \u001b[0mthey\u001b[0m \u001b[0mare\u001b[0m \u001b[0mdone\u001b[0m \u001b[1;32mwith\u001b[0m \u001b[0mtheir\u001b[0m \u001b[0mpotential\u001b[0m \u001b[0mraises\u001b[0m\u001b[1;33m.\u001b[0m\u001b[1;33m\u001b[0m\u001b[1;33m\u001b[0m\u001b[0m\n\u001b[0;32m   1361\u001b[0m         \"\"\"\n\u001b[1;32m-> 1362\u001b[1;33m         self.handles = get_handle(\n\u001b[0m\u001b[0;32m   1363\u001b[0m             \u001b[0msrc\u001b[0m\u001b[1;33m,\u001b[0m\u001b[1;33m\u001b[0m\u001b[1;33m\u001b[0m\u001b[0m\n\u001b[0;32m   1364\u001b[0m             \u001b[1;34m\"r\"\u001b[0m\u001b[1;33m,\u001b[0m\u001b[1;33m\u001b[0m\u001b[1;33m\u001b[0m\u001b[0m\n",
      "\u001b[1;32m~\\.conda\\envs\\message_storage_env\\lib\\site-packages\\pandas\\io\\common.py\u001b[0m in \u001b[0;36mget_handle\u001b[1;34m(path_or_buf, mode, encoding, compression, memory_map, is_text, errors, storage_options)\u001b[0m\n\u001b[0;32m    640\u001b[0m                 \u001b[0merrors\u001b[0m \u001b[1;33m=\u001b[0m \u001b[1;34m\"replace\"\u001b[0m\u001b[1;33m\u001b[0m\u001b[1;33m\u001b[0m\u001b[0m\n\u001b[0;32m    641\u001b[0m             \u001b[1;31m# Encoding\u001b[0m\u001b[1;33m\u001b[0m\u001b[1;33m\u001b[0m\u001b[1;33m\u001b[0m\u001b[0m\n\u001b[1;32m--> 642\u001b[1;33m             handle = open(\n\u001b[0m\u001b[0;32m    643\u001b[0m                 \u001b[0mhandle\u001b[0m\u001b[1;33m,\u001b[0m\u001b[1;33m\u001b[0m\u001b[1;33m\u001b[0m\u001b[0m\n\u001b[0;32m    644\u001b[0m                 \u001b[0mioargs\u001b[0m\u001b[1;33m.\u001b[0m\u001b[0mmode\u001b[0m\u001b[1;33m,\u001b[0m\u001b[1;33m\u001b[0m\u001b[1;33m\u001b[0m\u001b[0m\n",
      "\u001b[1;31mFileNotFoundError\u001b[0m: [Errno 2] No such file or directory: 'freshwater.csv'"
     ]
    }
   ],
   "source": [
    "elec_gen = pd.read_csv(\"freshwater.csv\")"
   ]
  },
  {
   "cell_type": "code",
   "execution_count": null,
   "metadata": {},
   "outputs": [],
   "source": [
    "# Loading data from csv into a pyam format\n",
    "wat_gen = pyam.IamDataFrame(data='freshwater.csv', encoding='ISO-8859-1')\n",
    "# Looking into data in the pyam format\n",
    "wat_gen.data"
   ]
  },
  {
   "cell_type": "code",
   "execution_count": 1474,
   "metadata": {},
   "outputs": [
    {
     "ename": "TypeError",
     "evalue": "filter() got an unexpected keyword argument 'region'",
     "output_type": "error",
     "traceback": [
      "\u001b[1;31m---------------------------------------------------------------------------\u001b[0m",
      "\u001b[1;31mTypeError\u001b[0m                                 Traceback (most recent call last)",
      "\u001b[1;32m<ipython-input-1474-19fb24c360e4>\u001b[0m in \u001b[0;36m<module>\u001b[1;34m\u001b[0m\n\u001b[1;32m----> 1\u001b[1;33m \u001b[0mwat\u001b[0m \u001b[1;33m=\u001b[0m \u001b[0mwat_gen\u001b[0m\u001b[1;33m.\u001b[0m\u001b[0mfilter\u001b[0m\u001b[1;33m(\u001b[0m\u001b[0mregion\u001b[0m\u001b[1;33m=\u001b[0m\u001b[1;33m[\u001b[0m\u001b[1;34m'Maldives'\u001b[0m\u001b[1;33m]\u001b[0m\u001b[1;33m,\u001b[0m \u001b[0mvariable\u001b[0m\u001b[1;33m=\u001b[0m\u001b[1;34m'Electricity Generation|useful|*'\u001b[0m\u001b[1;33m,\u001b[0m \u001b[0myear\u001b[0m\u001b[1;33m=\u001b[0m\u001b[0mplotyrs\u001b[0m\u001b[1;33m)\u001b[0m\u001b[1;33m\u001b[0m\u001b[1;33m\u001b[0m\u001b[0m\n\u001b[0m\u001b[0;32m      2\u001b[0m \u001b[0mwat\u001b[0m\u001b[1;33m.\u001b[0m\u001b[0mplot\u001b[0m\u001b[1;33m.\u001b[0m\u001b[0mbar\u001b[0m\u001b[1;33m(\u001b[0m\u001b[0mstacked\u001b[0m\u001b[1;33m=\u001b[0m\u001b[1;32mTrue\u001b[0m\u001b[1;33m)\u001b[0m\u001b[1;33m\u001b[0m\u001b[1;33m\u001b[0m\u001b[0m\n",
      "\u001b[1;31mTypeError\u001b[0m: filter() got an unexpected keyword argument 'region'"
     ]
    }
   ],
   "source": [
    "wat = wat_gen.filter(region=['Maldives'], variable='Electricity Generation|useful|*', year=plotyrs)\n",
    "wat.plot.bar(stacked=True)"
   ]
  },
  {
   "cell_type": "code",
   "execution_count": 1475,
   "metadata": {},
   "outputs": [],
   "source": [
    "mp.close_db()"
   ]
  },
  {
   "cell_type": "code",
   "execution_count": null,
   "metadata": {},
   "outputs": [],
   "source": []
  },
  {
   "cell_type": "code",
   "execution_count": null,
   "metadata": {},
   "outputs": [],
   "source": []
  },
  {
   "cell_type": "code",
   "execution_count": null,
   "metadata": {},
   "outputs": [],
   "source": []
  },
  {
   "cell_type": "code",
   "execution_count": null,
   "metadata": {},
   "outputs": [],
   "source": []
  },
  {
   "cell_type": "code",
   "execution_count": null,
   "metadata": {},
   "outputs": [],
   "source": []
  },
  {
   "cell_type": "code",
   "execution_count": null,
   "metadata": {},
   "outputs": [],
   "source": []
  },
  {
   "cell_type": "code",
   "execution_count": null,
   "metadata": {},
   "outputs": [],
   "source": []
  },
  {
   "cell_type": "code",
   "execution_count": null,
   "metadata": {},
   "outputs": [],
   "source": []
  },
  {
   "cell_type": "code",
   "execution_count": null,
   "metadata": {},
   "outputs": [],
   "source": []
  },
  {
   "cell_type": "code",
   "execution_count": null,
   "metadata": {},
   "outputs": [],
   "source": []
  },
  {
   "cell_type": "code",
   "execution_count": null,
   "metadata": {},
   "outputs": [],
   "source": []
  },
  {
   "cell_type": "code",
   "execution_count": null,
   "metadata": {},
   "outputs": [],
   "source": []
  },
  {
   "cell_type": "code",
   "execution_count": null,
   "metadata": {},
   "outputs": [],
   "source": []
  },
  {
   "cell_type": "code",
   "execution_count": null,
   "metadata": {},
   "outputs": [],
   "source": []
  },
  {
   "cell_type": "code",
   "execution_count": null,
   "metadata": {},
   "outputs": [],
   "source": []
  },
  {
   "cell_type": "code",
   "execution_count": null,
   "metadata": {},
   "outputs": [],
   "source": []
  },
  {
   "cell_type": "code",
   "execution_count": null,
   "metadata": {},
   "outputs": [],
   "source": []
  },
  {
   "cell_type": "code",
   "execution_count": null,
   "metadata": {},
   "outputs": [],
   "source": []
  },
  {
   "cell_type": "code",
   "execution_count": null,
   "metadata": {},
   "outputs": [],
   "source": []
  },
  {
   "cell_type": "code",
   "execution_count": null,
   "metadata": {},
   "outputs": [],
   "source": []
  },
  {
   "cell_type": "code",
   "execution_count": null,
   "metadata": {},
   "outputs": [],
   "source": []
  },
  {
   "cell_type": "code",
   "execution_count": null,
   "metadata": {},
   "outputs": [],
   "source": []
  }
 ],
 "metadata": {
  "anaconda-cloud": {},
  "kernelspec": {
   "display_name": "Python 3",
   "language": "python",
   "name": "python3"
  },
  "language_info": {
   "codemirror_mode": {
    "name": "ipython",
    "version": 3
   },
   "file_extension": ".py",
   "mimetype": "text/x-python",
   "name": "python",
   "nbconvert_exporter": "python",
   "pygments_lexer": "ipython3",
   "version": "3.8.8"
  }
 },
 "nbformat": 4,
 "nbformat_minor": 1
}
